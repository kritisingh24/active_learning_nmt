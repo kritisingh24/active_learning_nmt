{
  "cells": [
    {
      "cell_type": "markdown",
      "metadata": {
        "id": "view-in-github",
        "colab_type": "text"
      },
      "source": [
        "<a href=\"https://colab.research.google.com/github/kritisingh24/joeynmt/blob/main/IITB_Baseline_and_Active_Learning_EN_HI_11Sep_colab.ipynb\" target=\"_parent\"><img src=\"https://colab.research.google.com/assets/colab-badge.svg\" alt=\"Open In Colab\"/></a>"
      ]
    },
    {
      "cell_type": "markdown",
      "metadata": {
        "id": "5k051L-Y3rTu",
        "pycharm": {
          "name": "#%% md\n"
        }
      },
      "source": [
        "\n",
        "# Active Learning for Neural Machine Translation\n",
        "In this notebook, we'll train a Machine Translation model with Active Learning approach. It covers following topics:\n",
        "1. Environmental setup\n",
        "2. Data preparation\n",
        "3. Configuration\n",
        "4. Model training\n",
        "5. Evaluation\n",
        "\n",
        "Author: Kriti Singh\n",
        "\n",
        "Last update: 16. Sept, 2022"
      ]
    },
    {
      "cell_type": "markdown",
      "metadata": {
        "id": "Un8VWHfq5a-T"
      },
      "source": [
        "> ⚠ **Important:** Before you start, set runtime type to GPU."
      ]
    },
    {
      "cell_type": "code",
      "execution_count": 1,
      "metadata": {
        "colab": {
          "base_uri": "https://localhost:8080/"
        },
        "id": "yZaDt5-Yyse3",
        "outputId": "e0961234-e10a-4403-d2fb-622f44496f43"
      },
      "outputs": [
        {
          "output_type": "stream",
          "name": "stdout",
          "text": [
            "  Installing build dependencies ... \u001b[?25l\u001b[?25hdone\n",
            "  Getting requirements to build wheel ... \u001b[?25l\u001b[?25hdone\n",
            "    Preparing wheel metadata ... \u001b[?25l\u001b[?25hdone\n",
            "  Building wheel for wordpiece (PEP 517) ... \u001b[?25l\u001b[?25hdone\n",
            "\u001b[K     |████████████████████████████████| 80 kB 4.0 MB/s \n",
            "\u001b[K     |████████████████████████████████| 880 kB 4.7 MB/s \n",
            "\u001b[?25h  Building wheel for sacremoses (setup.py) ... \u001b[?25l\u001b[?25hdone\n",
            "\u001b[K     |████████████████████████████████| 830 kB 4.7 MB/s \n",
            "\u001b[K     |████████████████████████████████| 281 kB 67.7 MB/s \n",
            "\u001b[K     |████████████████████████████████| 1.6 MB 58.3 MB/s \n",
            "\u001b[?25h  Building wheel for swifter (setup.py) ... \u001b[?25l\u001b[?25hdone\n",
            "\u001b[K     |████████████████████████████████| 1.3 MB 4.7 MB/s \n",
            "\u001b[K     |████████████████████████████████| 116 kB 4.7 MB/s \n",
            "\u001b[?25hCloning into 'indic_nlp_resources'...\n",
            "remote: Enumerating objects: 139, done.\u001b[K\n",
            "remote: Counting objects: 100% (13/13), done.\u001b[K\n",
            "remote: Compressing objects: 100% (13/13), done.\u001b[K\n",
            "remote: Total 139 (delta 2), reused 2 (delta 0), pack-reused 126\u001b[K\n",
            "Receiving objects: 100% (139/139), 149.77 MiB | 40.92 MiB/s, done.\n",
            "Resolving deltas: 100% (53/53), done.\n",
            "\u001b[K     |████████████████████████████████| 40 kB 3.7 MB/s \n",
            "\u001b[K     |████████████████████████████████| 2.8 MB 8.0 MB/s \n",
            "\u001b[K     |████████████████████████████████| 365 kB 4.7 MB/s \n",
            "\u001b[K     |████████████████████████████████| 120 kB 75.2 MB/s \n",
            "\u001b[K     |████████████████████████████████| 212 kB 54.6 MB/s \n",
            "\u001b[K     |████████████████████████████████| 115 kB 72.9 MB/s \n",
            "\u001b[K     |████████████████████████████████| 127 kB 70.1 MB/s \n",
            "\u001b[?25h"
          ]
        }
      ],
      "source": [
        "!pip install -q subword-nmt\n",
        "!pip install -q wordpiece\n",
        "!pip install -q opustools-pkg\n",
        "!pip install -q sacremoses\n",
        "!pip install -q swifter\n",
        "!!pip install -q matplotlib==3.1.3\n",
        "!pip install -q sentencepiece\n",
        "!pip install -q sacrebleu\n",
        "!pip install -q wordcloud\n",
        "## clone indic nlp resources repo\n",
        "!git clone https://github.com/anoopkunchukuttan/indic_nlp_resources.git\n",
        "## install indic nlp library\n",
        "!pip install -q indic-nlp-library\n",
        "!pip install -q datasets"
      ]
    },
    {
      "cell_type": "markdown",
      "metadata": {
        "id": "242SJA2q5dRr"
      },
      "source": [
        "Make sure that you have a compatible PyTorch version."
      ]
    },
    {
      "cell_type": "code",
      "execution_count": 2,
      "metadata": {
        "colab": {
          "base_uri": "https://localhost:8080/"
        },
        "id": "pQwoOS-OvMLf",
        "outputId": "0725496f-044e-4b83-b605-2f84ed0a2f60"
      },
      "outputs": [
        {
          "output_type": "stream",
          "name": "stdout",
          "text": [
            "1.12.1+cu113\n",
            "True\n",
            "1\n",
            "11.3\n"
          ]
        }
      ],
      "source": [
        "import torch\n",
        "print(torch.__version__)\n",
        "\n",
        "print(torch.cuda.is_available())\n",
        "print(torch.cuda.device_count())\n",
        "print(torch.version.cuda)"
      ]
    },
    {
      "cell_type": "markdown",
      "metadata": {
        "id": "mJBa6lx26Hdx",
        "pycharm": {
          "name": "#%% md\n"
        }
      },
      "source": [
        "## Data Preparation\n",
        "\n",
        "### Download\n",
        "We'll use English - Hindi translations from the [IIT Bombay English-Hindi Corpus](https://www.cfilt.iitb.ac.in/iitb_parallel/) collection ([CC-BY 4.0 NC](https://creativecommons.org/licenses/by-nc/4.0/)).\n",
        "\n",
        "[IITB-English-Hindi Parallel Corpus ](https://huggingface.co/datasets/cfilt/iitb-english-hindi) corpus is available in Huggingface's datasets library.\n"
      ]
    },
    {
      "cell_type": "markdown",
      "metadata": {
        "id": "0NjaFsxw6IFU",
        "pycharm": {
          "name": "#%% md\n"
        }
      },
      "source": [
        "The  IIT Bombay English-Hindi dataset on HuggingFace Hub has dev and test split, size of both is very small(dev 520 and Test 2507). So let's split the data manually and save it locally."
      ]
    },
    {
      "cell_type": "code",
      "execution_count": 3,
      "metadata": {
        "id": "HhxEzYa0sIch",
        "pycharm": {
          "name": "#%%\n"
        },
        "colab": {
          "base_uri": "https://localhost:8080/"
        },
        "outputId": "d0aa3284-4316-498c-a52d-4dbf4b0e2820"
      },
      "outputs": [
        {
          "output_type": "stream",
          "name": "stdout",
          "text": [
            "Mounted at /content/drive\n",
            "Cloning into 'joeynmt'...\n",
            "remote: Enumerating objects: 4112, done.\u001b[K\n",
            "remote: Counting objects: 100% (1161/1161), done.\u001b[K\n",
            "remote: Compressing objects: 100% (515/515), done.\u001b[K\n",
            "remote: Total 4112 (delta 769), reused 949 (delta 639), pack-reused 2951\u001b[K\n",
            "Receiving objects: 100% (4112/4112), 25.96 MiB | 21.65 MiB/s, done.\n",
            "Resolving deltas: 100% (2799/2799), done.\n",
            "/content/joeynmt\n",
            "--2022-09-16 15:43:35--  https://gist.githubusercontent.com/kritisingh24/6073f5e1f45b00b348f9378b7910373e/raw/c07f8e96fba562b7401d78dd5c2397a738bf496e/unwanted_vocab.hi\n",
            "Resolving gist.githubusercontent.com (gist.githubusercontent.com)... 185.199.108.133, 185.199.109.133, 185.199.110.133, ...\n",
            "Connecting to gist.githubusercontent.com (gist.githubusercontent.com)|185.199.108.133|:443... connected.\n",
            "HTTP request sent, awaiting response... 200 OK\n",
            "Length: 538 [text/plain]\n",
            "Saving to: ‘unwanted_vocab.hi’\n",
            "\n",
            "unwanted_vocab.hi   100%[===================>]     538  --.-KB/s    in 0s      \n",
            "\n",
            "2022-09-16 15:43:36 (18.7 MB/s) - ‘unwanted_vocab.hi’ saved [538/538]\n",
            "\n",
            "--2022-09-16 15:43:36--  https://raw.githubusercontent.com/joeynmt/joeynmt/main/scripts/build_vocab.py\n",
            "Resolving raw.githubusercontent.com (raw.githubusercontent.com)... 185.199.108.133, 185.199.109.133, 185.199.110.133, ...\n",
            "Connecting to raw.githubusercontent.com (raw.githubusercontent.com)|185.199.108.133|:443... connected.\n",
            "HTTP request sent, awaiting response... 200 OK\n",
            "Length: 11627 (11K) [text/plain]\n",
            "Saving to: ‘build_vocab.py’\n",
            "\n",
            "build_vocab.py      100%[===================>]  11.35K  --.-KB/s    in 0s      \n",
            "\n",
            "2022-09-16 15:43:36 (106 MB/s) - ‘build_vocab.py’ saved [11627/11627]\n",
            "\n"
          ]
        }
      ],
      "source": [
        "import pandas as pd\n",
        "from google.colab import drive\n",
        "import numpy as np\n",
        "import re, os, string\n",
        "import swifter\n",
        "from datasets import load_dataset\n",
        "from pathlib import Path\n",
        "import statistics\n",
        "import matplotlib.pyplot as plt\n",
        "import seaborn as sns\n",
        "import math\n",
        "\n",
        "drive.mount('/content/drive')\n",
        "local_path = '/content/drive/MyDrive'\n",
        "# local_path = str(Path().resolve())\n",
        "\n",
        "DATASIZE = 100 # this is translated to .25 of all the data\n",
        "\n",
        "# clone our base repository for active learning\n",
        "!git clone https://github.com/kritisingh24/joeynmt.git\n",
        "%cd joeynmt\n",
        "\n",
        "# created a dummy list of all bad hindi words which were mixing with voab at later stages.\n",
        "!wget https://gist.githubusercontent.com/kritisingh24/6073f5e1f45b00b348f9378b7910373e/raw/c07f8e96fba562b7401d78dd5c2397a738bf496e/unwanted_vocab.hi\n",
        "!wget https://raw.githubusercontent.com/joeynmt/joeynmt/main/scripts/build_vocab.py\n",
        "\n",
        "# creating directories\n",
        "parent_dir = f\"{local_path}/data/datasets_enhi\"\n",
        "data_dir = f\"{local_path}/data/datasets_enhi_{DATASIZE}\"\n",
        "model_dir = f\"{local_path}/models/v1_enhi_{DATASIZE}_transformer\"\n",
        "log_dir = f\"{local_path}/logs/log_enhi_{DATASIZE}\"\n",
        "!mkdir -p {log_dir}\n",
        "!mkdir -p {data_dir}\n",
        "!mkdir -p {model_dir}"
      ]
    },
    {
      "cell_type": "code",
      "execution_count": null,
      "metadata": {
        "id": "EHxT8yvurL1z",
        "pycharm": {
          "name": "#%%\n"
        }
      },
      "outputs": [],
      "source": [
        "def create_df(src_file, tgt_file):\n",
        "  \"\"\"\n",
        "  reads from local files\n",
        "  useful if we have source and target sentences read from file\n",
        "  \"\"\"\n",
        "  src = []\n",
        "  tgt = []\n",
        "\n",
        "  with open(src_file, 'r') as src_, open(tgt_file, 'r') as tgt_:\n",
        "    src_lines = src_.readlines()\n",
        "    tgt_lines = tgt_.readlines()\n",
        "  assert len(src_lines) == len(tgt_lines) \n",
        "  for line_index in range(len(src_lines)):\n",
        "    src.append(src_lines[line_index].strip('\\n'))\n",
        "    tgt.append(tgt_lines[line_index].strip('\\n'))\n",
        "\n",
        "  df = pd.DataFrame({'en': src,\n",
        "                     'hi': tgt})\n",
        "\n",
        "  return df"
      ]
    },
    {
      "cell_type": "code",
      "execution_count": null,
      "metadata": {
        "id": "eTPhy7M8vWw0",
        "pycharm": {
          "name": "#%%\n"
        }
      },
      "outputs": [],
      "source": [
        "# reading the source and target IITB english Hindi Corpus from HuggingFace Hub\n",
        "dataset_iitb = load_dataset(\"cfilt/iitb-english-hindi\")"
      ]
    },
    {
      "cell_type": "code",
      "execution_count": null,
      "metadata": {
        "id": "wlgRbzWuBWR-",
        "pycharm": {
          "name": "#%%\n"
        }
      },
      "outputs": [],
      "source": [
        "# Formatting all the test train and validation data in a single dataframe.\n",
        "df_iitb_train = pd.DataFrame( dataset_iitb['train']['translation'])\n",
        "df_iitb_train['type']=\"train\"\n",
        "df_iitb_train['data_src'] =\"iitb\"\n",
        "df_iitb_test = pd.DataFrame( dataset_iitb['test']['translation'])\n",
        "df_iitb_test['type']=\"test\"\n",
        "df_iitb_test['data_src'] =\"iitb\"\n",
        "df_iitb_val = pd.DataFrame( dataset_iitb['validation']['translation'])\n",
        "df_iitb_val['type']=\"val\"\n",
        "df_iitb_val['data_src'] =\"iitb\"\n",
        "df_datasets = pd.concat([df_iitb_train,df_iitb_test,df_iitb_val])\n",
        "df_datasets.reset_index(inplace=True)"
      ]
    },
    {
      "cell_type": "code",
      "execution_count": null,
      "metadata": {
        "colab": {
          "base_uri": "https://localhost:8080/",
          "height": 424
        },
        "id": "39frXTEchwqj",
        "outputId": "b631ecb0-150d-4aa9-82ab-fa8bcbb00c2d"
      },
      "outputs": [
        {
          "output_type": "execute_result",
          "data": {
            "text/plain": [
              "         index                                                 en  \\\n",
              "0            0     Give your application an accessibility workout   \n",
              "1            1                  Accerciser Accessibility Explorer   \n",
              "2            2     The default plugin layout for the bottom panel   \n",
              "3            3        The default plugin layout for the top panel   \n",
              "4            4     A list of plugins that are disabled by default   \n",
              "...        ...                                                ...   \n",
              "1662105    515  The former Deputy Chief Minister, Narhari Amin...   \n",
              "1662106    516  This Ministry expansion is being seen as Modi'...   \n",
              "1662107    517  He has been travelling around a lot to promote...   \n",
              "1662108    518  After doing a tour of the five states, he will...   \n",
              "1662109    519  In this way he wants to turn Guajrat into an i...   \n",
              "\n",
              "                                                        hi   type data_src  \n",
              "0          अपने अनुप्रयोग को पहुंचनीयता व्यायाम का लाभ दें  train     iitb  \n",
              "1                          एक्सेर्साइसर पहुंचनीयता अन्वेषक  train     iitb  \n",
              "2                    निचले पटल के लिए डिफोल्ट प्लग-इन खाका  train     iitb  \n",
              "3                     ऊपरी पटल के लिए डिफोल्ट प्लग-इन खाका  train     iitb  \n",
              "4        उन प्लग-इनों की सूची जिन्हें डिफोल्ट रूप से नि...  train     iitb  \n",
              "...                                                    ...    ...      ...  \n",
              "1662105  विस चुनाव से पहले कांग्रेस छोड़ भाजपा में आए प...    val     iitb  \n",
              "1662106  इस मंत्रिमंडल विस्तार को मोदी की लोकसभा चुनाव ...    val     iitb  \n",
              "1662107         वह लंबे समय से राजनीतिक प्रवास कर रहे हैं।    val     iitb  \n",
              "1662108  पांच राज्यों के विस चुनाव बाद और ज्यादा आक्राम...    val     iitb  \n",
              "1662109  ऐसे में वह गुजरात के किले को पूरी तरह से अभेद ...    val     iitb  \n",
              "\n",
              "[1662110 rows x 5 columns]"
            ],
            "text/html": [
              "\n",
              "  <div id=\"df-40480751-1547-4704-a990-00ed5a0c964f\">\n",
              "    <div class=\"colab-df-container\">\n",
              "      <div>\n",
              "<style scoped>\n",
              "    .dataframe tbody tr th:only-of-type {\n",
              "        vertical-align: middle;\n",
              "    }\n",
              "\n",
              "    .dataframe tbody tr th {\n",
              "        vertical-align: top;\n",
              "    }\n",
              "\n",
              "    .dataframe thead th {\n",
              "        text-align: right;\n",
              "    }\n",
              "</style>\n",
              "<table border=\"1\" class=\"dataframe\">\n",
              "  <thead>\n",
              "    <tr style=\"text-align: right;\">\n",
              "      <th></th>\n",
              "      <th>index</th>\n",
              "      <th>en</th>\n",
              "      <th>hi</th>\n",
              "      <th>type</th>\n",
              "      <th>data_src</th>\n",
              "    </tr>\n",
              "  </thead>\n",
              "  <tbody>\n",
              "    <tr>\n",
              "      <th>0</th>\n",
              "      <td>0</td>\n",
              "      <td>Give your application an accessibility workout</td>\n",
              "      <td>अपने अनुप्रयोग को पहुंचनीयता व्यायाम का लाभ दें</td>\n",
              "      <td>train</td>\n",
              "      <td>iitb</td>\n",
              "    </tr>\n",
              "    <tr>\n",
              "      <th>1</th>\n",
              "      <td>1</td>\n",
              "      <td>Accerciser Accessibility Explorer</td>\n",
              "      <td>एक्सेर्साइसर पहुंचनीयता अन्वेषक</td>\n",
              "      <td>train</td>\n",
              "      <td>iitb</td>\n",
              "    </tr>\n",
              "    <tr>\n",
              "      <th>2</th>\n",
              "      <td>2</td>\n",
              "      <td>The default plugin layout for the bottom panel</td>\n",
              "      <td>निचले पटल के लिए डिफोल्ट प्लग-इन खाका</td>\n",
              "      <td>train</td>\n",
              "      <td>iitb</td>\n",
              "    </tr>\n",
              "    <tr>\n",
              "      <th>3</th>\n",
              "      <td>3</td>\n",
              "      <td>The default plugin layout for the top panel</td>\n",
              "      <td>ऊपरी पटल के लिए डिफोल्ट प्लग-इन खाका</td>\n",
              "      <td>train</td>\n",
              "      <td>iitb</td>\n",
              "    </tr>\n",
              "    <tr>\n",
              "      <th>4</th>\n",
              "      <td>4</td>\n",
              "      <td>A list of plugins that are disabled by default</td>\n",
              "      <td>उन प्लग-इनों की सूची जिन्हें डिफोल्ट रूप से नि...</td>\n",
              "      <td>train</td>\n",
              "      <td>iitb</td>\n",
              "    </tr>\n",
              "    <tr>\n",
              "      <th>...</th>\n",
              "      <td>...</td>\n",
              "      <td>...</td>\n",
              "      <td>...</td>\n",
              "      <td>...</td>\n",
              "      <td>...</td>\n",
              "    </tr>\n",
              "    <tr>\n",
              "      <th>1662105</th>\n",
              "      <td>515</td>\n",
              "      <td>The former Deputy Chief Minister, Narhari Amin...</td>\n",
              "      <td>विस चुनाव से पहले कांग्रेस छोड़ भाजपा में आए प...</td>\n",
              "      <td>val</td>\n",
              "      <td>iitb</td>\n",
              "    </tr>\n",
              "    <tr>\n",
              "      <th>1662106</th>\n",
              "      <td>516</td>\n",
              "      <td>This Ministry expansion is being seen as Modi'...</td>\n",
              "      <td>इस मंत्रिमंडल विस्तार को मोदी की लोकसभा चुनाव ...</td>\n",
              "      <td>val</td>\n",
              "      <td>iitb</td>\n",
              "    </tr>\n",
              "    <tr>\n",
              "      <th>1662107</th>\n",
              "      <td>517</td>\n",
              "      <td>He has been travelling around a lot to promote...</td>\n",
              "      <td>वह लंबे समय से राजनीतिक प्रवास कर रहे हैं।</td>\n",
              "      <td>val</td>\n",
              "      <td>iitb</td>\n",
              "    </tr>\n",
              "    <tr>\n",
              "      <th>1662108</th>\n",
              "      <td>518</td>\n",
              "      <td>After doing a tour of the five states, he will...</td>\n",
              "      <td>पांच राज्यों के विस चुनाव बाद और ज्यादा आक्राम...</td>\n",
              "      <td>val</td>\n",
              "      <td>iitb</td>\n",
              "    </tr>\n",
              "    <tr>\n",
              "      <th>1662109</th>\n",
              "      <td>519</td>\n",
              "      <td>In this way he wants to turn Guajrat into an i...</td>\n",
              "      <td>ऐसे में वह गुजरात के किले को पूरी तरह से अभेद ...</td>\n",
              "      <td>val</td>\n",
              "      <td>iitb</td>\n",
              "    </tr>\n",
              "  </tbody>\n",
              "</table>\n",
              "<p>1662110 rows × 5 columns</p>\n",
              "</div>\n",
              "      <button class=\"colab-df-convert\" onclick=\"convertToInteractive('df-40480751-1547-4704-a990-00ed5a0c964f')\"\n",
              "              title=\"Convert this dataframe to an interactive table.\"\n",
              "              style=\"display:none;\">\n",
              "        \n",
              "  <svg xmlns=\"http://www.w3.org/2000/svg\" height=\"24px\"viewBox=\"0 0 24 24\"\n",
              "       width=\"24px\">\n",
              "    <path d=\"M0 0h24v24H0V0z\" fill=\"none\"/>\n",
              "    <path d=\"M18.56 5.44l.94 2.06.94-2.06 2.06-.94-2.06-.94-.94-2.06-.94 2.06-2.06.94zm-11 1L8.5 8.5l.94-2.06 2.06-.94-2.06-.94L8.5 2.5l-.94 2.06-2.06.94zm10 10l.94 2.06.94-2.06 2.06-.94-2.06-.94-.94-2.06-.94 2.06-2.06.94z\"/><path d=\"M17.41 7.96l-1.37-1.37c-.4-.4-.92-.59-1.43-.59-.52 0-1.04.2-1.43.59L10.3 9.45l-7.72 7.72c-.78.78-.78 2.05 0 2.83L4 21.41c.39.39.9.59 1.41.59.51 0 1.02-.2 1.41-.59l7.78-7.78 2.81-2.81c.8-.78.8-2.07 0-2.86zM5.41 20L4 18.59l7.72-7.72 1.47 1.35L5.41 20z\"/>\n",
              "  </svg>\n",
              "      </button>\n",
              "      \n",
              "  <style>\n",
              "    .colab-df-container {\n",
              "      display:flex;\n",
              "      flex-wrap:wrap;\n",
              "      gap: 12px;\n",
              "    }\n",
              "\n",
              "    .colab-df-convert {\n",
              "      background-color: #E8F0FE;\n",
              "      border: none;\n",
              "      border-radius: 50%;\n",
              "      cursor: pointer;\n",
              "      display: none;\n",
              "      fill: #1967D2;\n",
              "      height: 32px;\n",
              "      padding: 0 0 0 0;\n",
              "      width: 32px;\n",
              "    }\n",
              "\n",
              "    .colab-df-convert:hover {\n",
              "      background-color: #E2EBFA;\n",
              "      box-shadow: 0px 1px 2px rgba(60, 64, 67, 0.3), 0px 1px 3px 1px rgba(60, 64, 67, 0.15);\n",
              "      fill: #174EA6;\n",
              "    }\n",
              "\n",
              "    [theme=dark] .colab-df-convert {\n",
              "      background-color: #3B4455;\n",
              "      fill: #D2E3FC;\n",
              "    }\n",
              "\n",
              "    [theme=dark] .colab-df-convert:hover {\n",
              "      background-color: #434B5C;\n",
              "      box-shadow: 0px 1px 3px 1px rgba(0, 0, 0, 0.15);\n",
              "      filter: drop-shadow(0px 1px 2px rgba(0, 0, 0, 0.3));\n",
              "      fill: #FFFFFF;\n",
              "    }\n",
              "  </style>\n",
              "\n",
              "      <script>\n",
              "        const buttonEl =\n",
              "          document.querySelector('#df-40480751-1547-4704-a990-00ed5a0c964f button.colab-df-convert');\n",
              "        buttonEl.style.display =\n",
              "          google.colab.kernel.accessAllowed ? 'block' : 'none';\n",
              "\n",
              "        async function convertToInteractive(key) {\n",
              "          const element = document.querySelector('#df-40480751-1547-4704-a990-00ed5a0c964f');\n",
              "          const dataTable =\n",
              "            await google.colab.kernel.invokeFunction('convertToInteractive',\n",
              "                                                     [key], {});\n",
              "          if (!dataTable) return;\n",
              "\n",
              "          const docLinkHtml = 'Like what you see? Visit the ' +\n",
              "            '<a target=\"_blank\" href=https://colab.research.google.com/notebooks/data_table.ipynb>data table notebook</a>'\n",
              "            + ' to learn more about interactive tables.';\n",
              "          element.innerHTML = '';\n",
              "          dataTable['output_type'] = 'display_data';\n",
              "          await google.colab.output.renderOutput(dataTable, element);\n",
              "          const docLink = document.createElement('div');\n",
              "          docLink.innerHTML = docLinkHtml;\n",
              "          element.appendChild(docLink);\n",
              "        }\n",
              "      </script>\n",
              "    </div>\n",
              "  </div>\n",
              "  "
            ]
          },
          "metadata": {},
          "execution_count": 9
        }
      ],
      "source": [
        "df_datasets"
      ]
    },
    {
      "cell_type": "code",
      "execution_count": null,
      "metadata": {
        "colab": {
          "base_uri": "https://localhost:8080/"
        },
        "id": "QXAff4zxhqZr",
        "outputId": "133ce160-874e-4e73-b9f5-3ca91d675e1e"
      },
      "outputs": [
        {
          "output_type": "execute_result",
          "data": {
            "text/plain": [
              "(1662110, 5)"
            ]
          },
          "metadata": {},
          "execution_count": 10
        }
      ],
      "source": [
        "df_datasets.shape"
      ]
    },
    {
      "cell_type": "markdown",
      "metadata": {
        "id": "qExdfOCIUZ4d",
        "pycharm": {
          "name": "#%% md\n"
        }
      },
      "source": [
        "### Data Preprocessing\n",
        "\n",
        "Here we perform cleaning operation on source and target language sentences. We have performed following operations.\n",
        "- punctuations removal\n",
        "- function to replace devanagari numbers into english\n",
        "- function to remove bad characters\n",
        "- function to replace unfinished quote\n",
        "- lower case\n",
        "- Normalizing text using IndicNormalizerFactory"
      ]
    },
    {
      "cell_type": "code",
      "execution_count": null,
      "outputs": [],
      "source": [
        "from sacremoses import MosesTokenizer\n",
        "from indicnlp.tokenize import indic_tokenize\n",
        "from indicnlp.normalize.indic_normalize import IndicNormalizerFactory\n",
        "#&quot;   \"  &amp; quot ; &amp; quot ; &amp; quot ;\n",
        "#   &amp; quot ; &amp; quot ; &amp; quot ; The missile trajectory was tracked by DRDO radars , electro-optical tracking systems and telemetry stations located along the coast of Odisha , &amp; quot ; &amp; quot ; they said . &amp; quot ;\n",
        "os.environ[\"INDIC_RESOURCES_PATH\"] = \"indic_nlp_resources\"\n",
        "\n",
        "## punctuations except single quotes, double quotes, comma, full stop, hypen and colon\n",
        "punc = string.punctuation\n",
        "punc = punc.replace(\".\", \"\")\n",
        "punc = punc.replace(\",\", \"\")\n",
        "punc = punc.replace(\"'\", \"\")\n",
        "punc = punc.replace('\"', \"\")\n",
        "punc = punc.replace(\"-\", \"\")\n",
        "punc = punc.replace(\":\", \"\")\n",
        "## unwated punctuation chars\n",
        "exclude = set(punc)\n",
        "\n",
        "## function to replace devanagari numbers with english numbers\n",
        "def replace_hi_en_num(input_text):\n",
        "  hi_en_num_map = {\"०\":\"0\", \"१\":\"1\", \"२\":\"2\", \"३\":\"3\", \"४\": \"4\", \"५\":\"5\", \"६\":\"6\", \"७\":\"7\", \"८\":\"8\", \"९\":\"9\", \"।\":\".\"}\n",
        "  estring = \"\"\n",
        "  for char in input_text:\n",
        "    if char in hi_en_num_map:\n",
        "      estring = estring + hi_en_num_map[char]\n",
        "    else:\n",
        "      estring = estring + char\n",
        "  return estring\n",
        "\n",
        "## function to remove bad characters\n",
        "def remove_bad_chars(input_text):\n",
        "  with open('unwanted_vocab.hi') as f:\n",
        "    lines = f.readlines()\n",
        "  bad_char = [x.replace(\"\\n\", \"\") for x in lines]\n",
        "  # print(bad_char)\n",
        "  for i in bad_char :\n",
        "    input_text = input_text.replace(i, '')\n",
        "  return input_text\n",
        "\n",
        "\n",
        "## function to replace unfinished quote e.g. he said, \"tomorrow is sunny day. -> he said, tomorrow is sunny day\n",
        "def replace_unfinished_quotes(input_text):\n",
        "  if input_text.count('\"') == 1:\n",
        "    input_text = input_text.replace('\"', \"\")\n",
        "  return input_text\n",
        "\n",
        "## function to clean english sentences\n",
        "def clean_en(input_text):\n",
        "  ## lower case\n",
        "  input_test = input_text.lower()\n",
        "\n",
        "  ## remove text between braces, either () or []\n",
        "  input_text = re.sub(\"\\[.*?\\]\",\"\", input_text)\n",
        "  input_text = re.sub(\"\\(.*?\\)\",\"\", input_text)\n",
        "\n",
        "  ## remove unwated punctuations\n",
        "  input_text = ''.join(ch for ch in input_text if ch not in exclude)\n",
        "\n",
        "  s =  r'[[\\]\\@_\\\\!#$%^&*()<>?/\\|}{~:]'\n",
        "  input_text = re.sub(s, '', input_text)\n",
        "\n",
        "  ## remove extra spaces\n",
        "  input_text = input_text.strip()\n",
        "  input_text = re.sub(\" +\", \" \", input_text)\n",
        "  ## remove space between full stop\n",
        "  input_text = input_text.replace(\" .\", \".\")\n",
        "\n",
        "  ## remove unwated punctuations\n",
        "  input_text = ''.join(ch for ch in input_text if ch not in exclude)\n",
        "\n",
        "  ## remove unfinished quotes\n",
        "  input_text = replace_unfinished_quotes(input_text)\n",
        "\n",
        "  ## remove space before hypen if exists\n",
        "  input_text = input_text.replace(\" -\", \"-\")\n",
        "\n",
        "  ## return clean text\n",
        "  return \" \".join(input_text.split())\n",
        "\n",
        "## function to clean hindi sentences\n",
        "def clean_hi(input_text):\n",
        "\n",
        "  ## remove text between braces, either () or [] and &;\n",
        "  input_text = re.sub(\"\\[.*?\\]\",\"\", input_text)\n",
        "  input_text = re.sub(\"\\(.*?\\)\",\"\", input_text)\n",
        "\n",
        "  s =  r'[[\\]\\@_\\\\!#$%^&*()<>?/\\|}{~:]'\n",
        "  input_text = re.sub(s, '', input_text)\n",
        "  #remove bad character\n",
        "  input_text = remove_bad_chars(input_text)\n",
        "\n",
        "  ## Normalizing text\n",
        "  factory = IndicNormalizerFactory()\n",
        "  normalizer = factory.get_normalizer(\"hi\", remove_nuktas = False)\n",
        "  input_text = normalizer.normalize(input_text)\n",
        "\n",
        "  ## convert hindi numbers to english\n",
        "  input_text_tokens = input_text.split()\n",
        "  input_text = [replace_hi_en_num(word) for word in input_text_tokens]\n",
        "  input_text = \" \".join(input_text)\n",
        "\n",
        "  ## remove unwated punctuations\n",
        "  input_text = ''.join(ch for ch in input_text if ch not in exclude)\n",
        "\n",
        "  ## remove unfinished quotes\n",
        "  input_text = replace_unfinished_quotes(input_text)\n",
        "\n",
        "  ## remove space before hypen if exists\n",
        "  input_text = input_text.replace(\" -\", \"-\")\n",
        "\n",
        "  ## remove extra spaces\n",
        "  input_text = input_text.strip()\n",
        "  input_text = re.sub(\" +\", \" \", input_text)\n",
        "\n",
        "  ## return clean text\n",
        "  return \" \".join(input_text.split())\n",
        "\n",
        "# keep only char between a and z\n",
        "def clean_english_text(input_text):\n",
        "  clean_sentence = list()\n",
        "  for words in input_text.lower().split(\" \"):\n",
        "    clean_word = ''.join([char if ord('a') <= ord(char) <= ord('z') or ord(char) == ord('.') or ord(char) == ord(',') or  ord(char) == ord('?') else '' for char in words])\n",
        "    clean_sentence.append(clean_word)\n",
        "  return \" \".join(clean_sentence)\n",
        "\n",
        "# keep only char of devanagari\n",
        "def clean_hindi_text(input_text):\n",
        "  # input_text = \"\"\"\"उन्होंने कहा, \"\"बाबू रघुवंश प्रसाद जी ने भी ग २ |\"\"\"\n",
        "  clean_sentence = list()\n",
        "  for words in input_text.split(\" \"):\n",
        "    clean_word = ''.join([char if ord(u'\\u0900') <= ord(char) <= ord(u'\\u097F') or ord(char) == ord('|') or ord(char) == ord(',') or  ord(char) == ord('?') else '' for char in words])\n",
        "    clean_sentence.append(clean_word)\n",
        "  return \" \".join(clean_sentence)"
      ],
      "metadata": {
        "pycharm": {
          "name": "#%%\n"
        },
        "id": "mVJTWI3BOMGY"
      }
    },
    {
      "cell_type": "code",
      "execution_count": null,
      "metadata": {
        "colab": {
          "base_uri": "https://localhost:8080/",
          "height": 81,
          "referenced_widgets": [
            "a972ea5c84304899b1210c718f730cb6",
            "e2cf4e8861fb4306a3305386e86b8006",
            "97cf2bc593e8480d94f41473ad29cbe2",
            "c2a9d848bc2044679f46a4d5351dba1f",
            "4415d4c287044ffbbe6af0566e220d39",
            "ec5fc286a8824a7caa94dc77c939ee60",
            "ee27a32e021b4f2984980ea2b87ee2e8",
            "169deff93b2d44699f0541a051b07536",
            "db7c3905b1c0428f8034f14e2f0a02b7",
            "84276cf1ce864a23b5394a28f4efbbd0",
            "375b3e743a9b4c3db8f8b7421fd92a99",
            "9d0776b505194144b704b78fbb51d4f4",
            "414d2706332b47a880b24d3fc81a02f5",
            "600dab68be5f49f5a3480706ede58c78",
            "0cd17d6d60b841ac90da1d32c4b99451",
            "432d95bd747b4a38ada75de9dd984a0b",
            "e7da82d5c0324f959234fe0e7875140c",
            "dfea3f2b6b9748948f256f873f8d64c5",
            "57b27a733b1543d5a863d133d32edb27",
            "b365d00535ce43bca792dfc14ad2efe1",
            "25be3fa9982e4c179358954e5e5d5ca4",
            "05c175521df34330a7ebb3ea3a41bd81"
          ]
        },
        "id": "fn8if0ENBmzM",
        "outputId": "dcd434ad-3b7d-45d8-943a-9ba5c0bc0dd0"
      },
      "outputs": [
        {
          "output_type": "display_data",
          "data": {
            "text/plain": [
              "Pandas Apply:   0%|          | 0/1662110 [00:00<?, ?it/s]"
            ],
            "application/vnd.jupyter.widget-view+json": {
              "version_major": 2,
              "version_minor": 0,
              "model_id": "a972ea5c84304899b1210c718f730cb6"
            }
          },
          "metadata": {}
        },
        {
          "output_type": "display_data",
          "data": {
            "text/plain": [
              "Pandas Apply:   0%|          | 0/1662110 [00:00<?, ?it/s]"
            ],
            "application/vnd.jupyter.widget-view+json": {
              "version_major": 2,
              "version_minor": 0,
              "model_id": "9d0776b505194144b704b78fbb51d4f4"
            }
          },
          "metadata": {}
        }
      ],
      "source": [
        "df_datasets['clean_en_sent'] = df_datasets['en'].swifter.apply(clean_english_text)\n",
        "df_datasets['clean_hi_sent'] = df_datasets['hi'].swifter.apply(clean_hindi_text)\n",
        "\n",
        "# ℹ️ saving CSV  \"clean_sent.csv\"\n",
        "df_datasets[['clean_en_sent','clean_hi_sent']].to_csv(data_dir+\"/clean_sent.csv\",index=False)"
      ]
    },
    {
      "cell_type": "code",
      "execution_count": null,
      "metadata": {
        "colab": {
          "base_uri": "https://localhost:8080/",
          "height": 641
        },
        "id": "h4wR6RlP1FrC",
        "outputId": "d5264074-bbca-4c56-80af-6c0aceec8f46"
      },
      "outputs": [
        {
          "output_type": "execute_result",
          "data": {
            "text/plain": [
              "         index                                                 en  \\\n",
              "0            0     Give your application an accessibility workout   \n",
              "1            1                  Accerciser Accessibility Explorer   \n",
              "2            2     The default plugin layout for the bottom panel   \n",
              "3            3        The default plugin layout for the top panel   \n",
              "4            4     A list of plugins that are disabled by default   \n",
              "...        ...                                                ...   \n",
              "1662105    515  The former Deputy Chief Minister, Narhari Amin...   \n",
              "1662106    516  This Ministry expansion is being seen as Modi'...   \n",
              "1662107    517  He has been travelling around a lot to promote...   \n",
              "1662108    518  After doing a tour of the five states, he will...   \n",
              "1662109    519  In this way he wants to turn Guajrat into an i...   \n",
              "\n",
              "                                                        hi   type data_src  \\\n",
              "0          अपने अनुप्रयोग को पहुंचनीयता व्यायाम का लाभ दें  train     iitb   \n",
              "1                          एक्सेर्साइसर पहुंचनीयता अन्वेषक  train     iitb   \n",
              "2                    निचले पटल के लिए डिफोल्ट प्लग-इन खाका  train     iitb   \n",
              "3                     ऊपरी पटल के लिए डिफोल्ट प्लग-इन खाका  train     iitb   \n",
              "4        उन प्लग-इनों की सूची जिन्हें डिफोल्ट रूप से नि...  train     iitb   \n",
              "...                                                    ...    ...      ...   \n",
              "1662105  विस चुनाव से पहले कांग्रेस छोड़ भाजपा में आए प...    val     iitb   \n",
              "1662106  इस मंत्रिमंडल विस्तार को मोदी की लोकसभा चुनाव ...    val     iitb   \n",
              "1662107         वह लंबे समय से राजनीतिक प्रवास कर रहे हैं।    val     iitb   \n",
              "1662108  पांच राज्यों के विस चुनाव बाद और ज्यादा आक्राम...    val     iitb   \n",
              "1662109  ऐसे में वह गुजरात के किले को पूरी तरह से अभेद ...    val     iitb   \n",
              "\n",
              "                                             clean_en_sent  \\\n",
              "0           give your application an accessibility workout   \n",
              "1                        accerciser accessibility explorer   \n",
              "2           the default plugin layout for the bottom panel   \n",
              "3              the default plugin layout for the top panel   \n",
              "4           a list of plugins that are disabled by default   \n",
              "...                                                    ...   \n",
              "1662105  the former deputy chief minister, narhari amin...   \n",
              "1662106  this ministry expansion is being seen as modis...   \n",
              "1662107  he has been travelling around a lot to promote...   \n",
              "1662108  after doing a tour of the five states, he will...   \n",
              "1662109  in this way he wants to turn guajrat into an i...   \n",
              "\n",
              "                                             clean_hi_sent  \n",
              "0          अपने अनुप्रयोग को पहुंचनीयता व्यायाम का लाभ दें  \n",
              "1                          एक्सेर्साइसर पहुंचनीयता अन्वेषक  \n",
              "2                     निचले पटल के लिए डिफोल्ट प्लगइन खाका  \n",
              "3                      ऊपरी पटल के लिए डिफोल्ट प्लगइन खाका  \n",
              "4        उन प्लगइनों की सूची जिन्हें डिफोल्ट रूप से निष...  \n",
              "...                                                    ...  \n",
              "1662105  विस चुनाव से पहले कांग्रेस छोड़ भाजपा में आए प...  \n",
              "1662106  इस मंत्रिमंडल विस्तार को मोदी की लोकसभा चुनाव ...  \n",
              "1662107         वह लंबे समय से राजनीतिक प्रवास कर रहे हैं।  \n",
              "1662108  पांच राज्यों के विस चुनाव बाद और ज्यादा आक्राम...  \n",
              "1662109  ऐसे में वह गुजरात के किले को पूरी तरह से अभेद ...  \n",
              "\n",
              "[1662110 rows x 7 columns]"
            ],
            "text/html": [
              "\n",
              "  <div id=\"df-8fbd91c5-cc93-4f04-8411-551d027a4563\">\n",
              "    <div class=\"colab-df-container\">\n",
              "      <div>\n",
              "<style scoped>\n",
              "    .dataframe tbody tr th:only-of-type {\n",
              "        vertical-align: middle;\n",
              "    }\n",
              "\n",
              "    .dataframe tbody tr th {\n",
              "        vertical-align: top;\n",
              "    }\n",
              "\n",
              "    .dataframe thead th {\n",
              "        text-align: right;\n",
              "    }\n",
              "</style>\n",
              "<table border=\"1\" class=\"dataframe\">\n",
              "  <thead>\n",
              "    <tr style=\"text-align: right;\">\n",
              "      <th></th>\n",
              "      <th>index</th>\n",
              "      <th>en</th>\n",
              "      <th>hi</th>\n",
              "      <th>type</th>\n",
              "      <th>data_src</th>\n",
              "      <th>clean_en_sent</th>\n",
              "      <th>clean_hi_sent</th>\n",
              "    </tr>\n",
              "  </thead>\n",
              "  <tbody>\n",
              "    <tr>\n",
              "      <th>0</th>\n",
              "      <td>0</td>\n",
              "      <td>Give your application an accessibility workout</td>\n",
              "      <td>अपने अनुप्रयोग को पहुंचनीयता व्यायाम का लाभ दें</td>\n",
              "      <td>train</td>\n",
              "      <td>iitb</td>\n",
              "      <td>give your application an accessibility workout</td>\n",
              "      <td>अपने अनुप्रयोग को पहुंचनीयता व्यायाम का लाभ दें</td>\n",
              "    </tr>\n",
              "    <tr>\n",
              "      <th>1</th>\n",
              "      <td>1</td>\n",
              "      <td>Accerciser Accessibility Explorer</td>\n",
              "      <td>एक्सेर्साइसर पहुंचनीयता अन्वेषक</td>\n",
              "      <td>train</td>\n",
              "      <td>iitb</td>\n",
              "      <td>accerciser accessibility explorer</td>\n",
              "      <td>एक्सेर्साइसर पहुंचनीयता अन्वेषक</td>\n",
              "    </tr>\n",
              "    <tr>\n",
              "      <th>2</th>\n",
              "      <td>2</td>\n",
              "      <td>The default plugin layout for the bottom panel</td>\n",
              "      <td>निचले पटल के लिए डिफोल्ट प्लग-इन खाका</td>\n",
              "      <td>train</td>\n",
              "      <td>iitb</td>\n",
              "      <td>the default plugin layout for the bottom panel</td>\n",
              "      <td>निचले पटल के लिए डिफोल्ट प्लगइन खाका</td>\n",
              "    </tr>\n",
              "    <tr>\n",
              "      <th>3</th>\n",
              "      <td>3</td>\n",
              "      <td>The default plugin layout for the top panel</td>\n",
              "      <td>ऊपरी पटल के लिए डिफोल्ट प्लग-इन खाका</td>\n",
              "      <td>train</td>\n",
              "      <td>iitb</td>\n",
              "      <td>the default plugin layout for the top panel</td>\n",
              "      <td>ऊपरी पटल के लिए डिफोल्ट प्लगइन खाका</td>\n",
              "    </tr>\n",
              "    <tr>\n",
              "      <th>4</th>\n",
              "      <td>4</td>\n",
              "      <td>A list of plugins that are disabled by default</td>\n",
              "      <td>उन प्लग-इनों की सूची जिन्हें डिफोल्ट रूप से नि...</td>\n",
              "      <td>train</td>\n",
              "      <td>iitb</td>\n",
              "      <td>a list of plugins that are disabled by default</td>\n",
              "      <td>उन प्लगइनों की सूची जिन्हें डिफोल्ट रूप से निष...</td>\n",
              "    </tr>\n",
              "    <tr>\n",
              "      <th>...</th>\n",
              "      <td>...</td>\n",
              "      <td>...</td>\n",
              "      <td>...</td>\n",
              "      <td>...</td>\n",
              "      <td>...</td>\n",
              "      <td>...</td>\n",
              "      <td>...</td>\n",
              "    </tr>\n",
              "    <tr>\n",
              "      <th>1662105</th>\n",
              "      <td>515</td>\n",
              "      <td>The former Deputy Chief Minister, Narhari Amin...</td>\n",
              "      <td>विस चुनाव से पहले कांग्रेस छोड़ भाजपा में आए प...</td>\n",
              "      <td>val</td>\n",
              "      <td>iitb</td>\n",
              "      <td>the former deputy chief minister, narhari amin...</td>\n",
              "      <td>विस चुनाव से पहले कांग्रेस छोड़ भाजपा में आए प...</td>\n",
              "    </tr>\n",
              "    <tr>\n",
              "      <th>1662106</th>\n",
              "      <td>516</td>\n",
              "      <td>This Ministry expansion is being seen as Modi'...</td>\n",
              "      <td>इस मंत्रिमंडल विस्तार को मोदी की लोकसभा चुनाव ...</td>\n",
              "      <td>val</td>\n",
              "      <td>iitb</td>\n",
              "      <td>this ministry expansion is being seen as modis...</td>\n",
              "      <td>इस मंत्रिमंडल विस्तार को मोदी की लोकसभा चुनाव ...</td>\n",
              "    </tr>\n",
              "    <tr>\n",
              "      <th>1662107</th>\n",
              "      <td>517</td>\n",
              "      <td>He has been travelling around a lot to promote...</td>\n",
              "      <td>वह लंबे समय से राजनीतिक प्रवास कर रहे हैं।</td>\n",
              "      <td>val</td>\n",
              "      <td>iitb</td>\n",
              "      <td>he has been travelling around a lot to promote...</td>\n",
              "      <td>वह लंबे समय से राजनीतिक प्रवास कर रहे हैं।</td>\n",
              "    </tr>\n",
              "    <tr>\n",
              "      <th>1662108</th>\n",
              "      <td>518</td>\n",
              "      <td>After doing a tour of the five states, he will...</td>\n",
              "      <td>पांच राज्यों के विस चुनाव बाद और ज्यादा आक्राम...</td>\n",
              "      <td>val</td>\n",
              "      <td>iitb</td>\n",
              "      <td>after doing a tour of the five states, he will...</td>\n",
              "      <td>पांच राज्यों के विस चुनाव बाद और ज्यादा आक्राम...</td>\n",
              "    </tr>\n",
              "    <tr>\n",
              "      <th>1662109</th>\n",
              "      <td>519</td>\n",
              "      <td>In this way he wants to turn Guajrat into an i...</td>\n",
              "      <td>ऐसे में वह गुजरात के किले को पूरी तरह से अभेद ...</td>\n",
              "      <td>val</td>\n",
              "      <td>iitb</td>\n",
              "      <td>in this way he wants to turn guajrat into an i...</td>\n",
              "      <td>ऐसे में वह गुजरात के किले को पूरी तरह से अभेद ...</td>\n",
              "    </tr>\n",
              "  </tbody>\n",
              "</table>\n",
              "<p>1662110 rows × 7 columns</p>\n",
              "</div>\n",
              "      <button class=\"colab-df-convert\" onclick=\"convertToInteractive('df-8fbd91c5-cc93-4f04-8411-551d027a4563')\"\n",
              "              title=\"Convert this dataframe to an interactive table.\"\n",
              "              style=\"display:none;\">\n",
              "        \n",
              "  <svg xmlns=\"http://www.w3.org/2000/svg\" height=\"24px\"viewBox=\"0 0 24 24\"\n",
              "       width=\"24px\">\n",
              "    <path d=\"M0 0h24v24H0V0z\" fill=\"none\"/>\n",
              "    <path d=\"M18.56 5.44l.94 2.06.94-2.06 2.06-.94-2.06-.94-.94-2.06-.94 2.06-2.06.94zm-11 1L8.5 8.5l.94-2.06 2.06-.94-2.06-.94L8.5 2.5l-.94 2.06-2.06.94zm10 10l.94 2.06.94-2.06 2.06-.94-2.06-.94-.94-2.06-.94 2.06-2.06.94z\"/><path d=\"M17.41 7.96l-1.37-1.37c-.4-.4-.92-.59-1.43-.59-.52 0-1.04.2-1.43.59L10.3 9.45l-7.72 7.72c-.78.78-.78 2.05 0 2.83L4 21.41c.39.39.9.59 1.41.59.51 0 1.02-.2 1.41-.59l7.78-7.78 2.81-2.81c.8-.78.8-2.07 0-2.86zM5.41 20L4 18.59l7.72-7.72 1.47 1.35L5.41 20z\"/>\n",
              "  </svg>\n",
              "      </button>\n",
              "      \n",
              "  <style>\n",
              "    .colab-df-container {\n",
              "      display:flex;\n",
              "      flex-wrap:wrap;\n",
              "      gap: 12px;\n",
              "    }\n",
              "\n",
              "    .colab-df-convert {\n",
              "      background-color: #E8F0FE;\n",
              "      border: none;\n",
              "      border-radius: 50%;\n",
              "      cursor: pointer;\n",
              "      display: none;\n",
              "      fill: #1967D2;\n",
              "      height: 32px;\n",
              "      padding: 0 0 0 0;\n",
              "      width: 32px;\n",
              "    }\n",
              "\n",
              "    .colab-df-convert:hover {\n",
              "      background-color: #E2EBFA;\n",
              "      box-shadow: 0px 1px 2px rgba(60, 64, 67, 0.3), 0px 1px 3px 1px rgba(60, 64, 67, 0.15);\n",
              "      fill: #174EA6;\n",
              "    }\n",
              "\n",
              "    [theme=dark] .colab-df-convert {\n",
              "      background-color: #3B4455;\n",
              "      fill: #D2E3FC;\n",
              "    }\n",
              "\n",
              "    [theme=dark] .colab-df-convert:hover {\n",
              "      background-color: #434B5C;\n",
              "      box-shadow: 0px 1px 3px 1px rgba(0, 0, 0, 0.15);\n",
              "      filter: drop-shadow(0px 1px 2px rgba(0, 0, 0, 0.3));\n",
              "      fill: #FFFFFF;\n",
              "    }\n",
              "  </style>\n",
              "\n",
              "      <script>\n",
              "        const buttonEl =\n",
              "          document.querySelector('#df-8fbd91c5-cc93-4f04-8411-551d027a4563 button.colab-df-convert');\n",
              "        buttonEl.style.display =\n",
              "          google.colab.kernel.accessAllowed ? 'block' : 'none';\n",
              "\n",
              "        async function convertToInteractive(key) {\n",
              "          const element = document.querySelector('#df-8fbd91c5-cc93-4f04-8411-551d027a4563');\n",
              "          const dataTable =\n",
              "            await google.colab.kernel.invokeFunction('convertToInteractive',\n",
              "                                                     [key], {});\n",
              "          if (!dataTable) return;\n",
              "\n",
              "          const docLinkHtml = 'Like what you see? Visit the ' +\n",
              "            '<a target=\"_blank\" href=https://colab.research.google.com/notebooks/data_table.ipynb>data table notebook</a>'\n",
              "            + ' to learn more about interactive tables.';\n",
              "          element.innerHTML = '';\n",
              "          dataTable['output_type'] = 'display_data';\n",
              "          await google.colab.output.renderOutput(dataTable, element);\n",
              "          const docLink = document.createElement('div');\n",
              "          docLink.innerHTML = docLinkHtml;\n",
              "          element.appendChild(docLink);\n",
              "        }\n",
              "      </script>\n",
              "    </div>\n",
              "  </div>\n",
              "  "
            ]
          },
          "metadata": {},
          "execution_count": 13
        }
      ],
      "source": [
        "df_datasets"
      ]
    },
    {
      "cell_type": "code",
      "execution_count": null,
      "metadata": {
        "colab": {
          "base_uri": "https://localhost:8080/"
        },
        "id": "LF2gZQubLUVN",
        "outputId": "4554e7cf-5c21-4c12-daa2-30547e5c7de7"
      },
      "outputs": [
        {
          "output_type": "execute_result",
          "data": {
            "text/plain": [
              "(1662110, 7)"
            ]
          },
          "metadata": {},
          "execution_count": 14
        }
      ],
      "source": [
        "df_datasets.shape"
      ]
    },
    {
      "cell_type": "code",
      "execution_count": null,
      "metadata": {
        "id": "wRC2lN3v1LKK"
      },
      "outputs": [],
      "source": [
        "df_datasets = df_datasets[['clean_en_sent','clean_hi_sent']]"
      ]
    },
    {
      "cell_type": "markdown",
      "metadata": {
        "id": "TyWY2KscV7AA",
        "pycharm": {
          "name": "#%% md\n"
        }
      },
      "source": [
        "### Data Tokenisation\n",
        "We are using Moses Tokenizer for english language and indic tokenize for hindi language to tokenise our cleaned dataset."
      ]
    },
    {
      "cell_type": "code",
      "execution_count": null,
      "metadata": {
        "id": "8tiPc37rKFGZ"
      },
      "outputs": [],
      "source": [
        "mt = MosesTokenizer(lang='en')\n",
        "def tokenize_en(input_text):\n",
        "  return mt.tokenize(input_text, return_str=True)\n",
        "\n",
        "def tokenize_hi(input_text):\n",
        "  if isinstance( input_text, str):\n",
        "    return \" \".join(indic_tokenize.trivial_tokenize(input_text))\n",
        "  return input_text"
      ]
    },
    {
      "cell_type": "code",
      "execution_count": null,
      "metadata": {
        "colab": {
          "base_uri": "https://localhost:8080/",
          "height": 81,
          "referenced_widgets": [
            "c66e28c8de7149d29089618032b580b1",
            "7ca6fa39ef1645e2b8af2c37e75dd5ae",
            "cc4ab6748d824c25bb6915cf0823c179",
            "5bdecdce643744d19558271c827d7bd2",
            "a3968fa25bd345c7ac3ff4518fb86024",
            "ba8159d06eb7465aabf0058741f21478",
            "a44268166a4d4d1c8fa2170398848bf7",
            "701f9b3fc57f46159127738af146c64a",
            "161ecf38a6b1403282c79c87f9e4ba6a",
            "3b168b2bcd454a02b2ad89ee781886a1",
            "7038513ef7c9424cba9000524a12990b",
            "1efa978fac3c49b9b0d78a9bd0264b03",
            "e72d9b6ed307412a9acf9a80ac771feb",
            "63f490da6a9b49f3820576184d9e52f9",
            "08e550a6bc5a40cf9a27f8083622f319",
            "c123d35ad312476c85762547608068d7",
            "177046079e0b44beba40a5b0ef92a39c",
            "28c1c82d4d984c189a5ca06a7febaa86",
            "21a7d09f584a4cd5b2a1e69c4343e232",
            "0386a8bcc1274420bc54e5e9c077d168",
            "327183ce38e14007a2394dee3668d317",
            "527c9aac5aa54f82abd4f419e58418b7"
          ]
        },
        "id": "v4lrqaZRKG3y",
        "outputId": "0d3f46a6-abf7-4bce-bdb3-16630c7be4d6"
      },
      "outputs": [
        {
          "output_type": "display_data",
          "data": {
            "text/plain": [
              "Pandas Apply:   0%|          | 0/1662110 [00:00<?, ?it/s]"
            ],
            "application/vnd.jupyter.widget-view+json": {
              "version_major": 2,
              "version_minor": 0,
              "model_id": "c66e28c8de7149d29089618032b580b1"
            }
          },
          "metadata": {}
        },
        {
          "output_type": "display_data",
          "data": {
            "text/plain": [
              "Pandas Apply:   0%|          | 0/1662110 [00:00<?, ?it/s]"
            ],
            "application/vnd.jupyter.widget-view+json": {
              "version_major": 2,
              "version_minor": 0,
              "model_id": "1efa978fac3c49b9b0d78a9bd0264b03"
            }
          },
          "metadata": {}
        }
      ],
      "source": [
        "# ℹ️ Loading CSV  \"clean_sent.csv\"\n",
        "df_datasets = pd.read_csv(data_dir+\"/clean_sent.csv\") \n",
        "\n",
        "df_datasets['clean_en_tok'] = df_datasets['clean_en_sent'].swifter.apply(tokenize_en)\n",
        "df_datasets['clean_hi_tok'] = df_datasets['clean_hi_sent'].swifter.apply(tokenize_hi)\n",
        "\n",
        "# ℹ️ saving CSV  \"tok_sent.csv\"\n",
        "df_datasets[['clean_en_tok','clean_hi_tok']].to_csv(data_dir+\"/tok_sent.csv\",index=False)"
      ]
    },
    {
      "cell_type": "code",
      "execution_count": null,
      "metadata": {
        "colab": {
          "base_uri": "https://localhost:8080/",
          "height": 624
        },
        "id": "k3wXxnPXWssM",
        "outputId": "75edb625-92fb-4a23-ae2b-2f13d6bbfb8b"
      },
      "outputs": [
        {
          "output_type": "execute_result",
          "data": {
            "text/plain": [
              "                                             clean_en_sent  \\\n",
              "0           give your application an accessibility workout   \n",
              "1                        accerciser accessibility explorer   \n",
              "2           the default plugin layout for the bottom panel   \n",
              "3              the default plugin layout for the top panel   \n",
              "4           a list of plugins that are disabled by default   \n",
              "...                                                    ...   \n",
              "1662105  the former deputy chief minister, narhari amin...   \n",
              "1662106  this ministry expansion is being seen as modis...   \n",
              "1662107  he has been travelling around a lot to promote...   \n",
              "1662108  after doing a tour of the five states, he will...   \n",
              "1662109  in this way he wants to turn guajrat into an i...   \n",
              "\n",
              "                                             clean_hi_sent  \\\n",
              "0          अपने अनुप्रयोग को पहुंचनीयता व्यायाम का लाभ दें   \n",
              "1                          एक्सेर्साइसर पहुंचनीयता अन्वेषक   \n",
              "2                     निचले पटल के लिए डिफोल्ट प्लगइन खाका   \n",
              "3                      ऊपरी पटल के लिए डिफोल्ट प्लगइन खाका   \n",
              "4        उन प्लगइनों की सूची जिन्हें डिफोल्ट रूप से निष...   \n",
              "...                                                    ...   \n",
              "1662105  विस चुनाव से पहले कांग्रेस छोड़ भाजपा में आए प...   \n",
              "1662106  इस मंत्रिमंडल विस्तार को मोदी की लोकसभा चुनाव ...   \n",
              "1662107         वह लंबे समय से राजनीतिक प्रवास कर रहे हैं।   \n",
              "1662108  पांच राज्यों के विस चुनाव बाद और ज्यादा आक्राम...   \n",
              "1662109  ऐसे में वह गुजरात के किले को पूरी तरह से अभेद ...   \n",
              "\n",
              "                                              clean_en_tok  \\\n",
              "0           give your application an accessibility workout   \n",
              "1                        accerciser accessibility explorer   \n",
              "2           the default plugin layout for the bottom panel   \n",
              "3              the default plugin layout for the top panel   \n",
              "4           a list of plugins that are disabled by default   \n",
              "...                                                    ...   \n",
              "1662105  the former deputy chief minister , narhari ami...   \n",
              "1662106  this ministry expansion is being seen as modis...   \n",
              "1662107  he has been travelling around a lot to promote...   \n",
              "1662108  after doing a tour of the five states , he wil...   \n",
              "1662109  in this way he wants to turn guajrat into an i...   \n",
              "\n",
              "                                              clean_hi_tok  \n",
              "0          अपने अनुप्रयोग को पहुंचनीयता व्यायाम का लाभ दें  \n",
              "1                          एक्सेर्साइसर पहुंचनीयता अन्वेषक  \n",
              "2                     निचले पटल के लिए डिफोल्ट प्लगइन खाका  \n",
              "3                      ऊपरी पटल के लिए डिफोल्ट प्लगइन खाका  \n",
              "4        उन प्लगइनों की सूची जिन्हें डिफोल्ट रूप से निष...  \n",
              "...                                                    ...  \n",
              "1662105  विस चुनाव से पहले कांग्रेस छोड़ भाजपा में आए प...  \n",
              "1662106  इस मंत्रिमंडल विस्तार को मोदी की लोकसभा चुनाव ...  \n",
              "1662107        वह लंबे समय से राजनीतिक प्रवास कर रहे हैं ।  \n",
              "1662108  पांच राज्यों के विस चुनाव बाद और ज्यादा आक्राम...  \n",
              "1662109  ऐसे में वह गुजरात के किले को पूरी तरह से अभेद ...  \n",
              "\n",
              "[1662110 rows x 4 columns]"
            ],
            "text/html": [
              "\n",
              "  <div id=\"df-fe3bc72e-3278-44be-b8d3-5471dd1515c8\">\n",
              "    <div class=\"colab-df-container\">\n",
              "      <div>\n",
              "<style scoped>\n",
              "    .dataframe tbody tr th:only-of-type {\n",
              "        vertical-align: middle;\n",
              "    }\n",
              "\n",
              "    .dataframe tbody tr th {\n",
              "        vertical-align: top;\n",
              "    }\n",
              "\n",
              "    .dataframe thead th {\n",
              "        text-align: right;\n",
              "    }\n",
              "</style>\n",
              "<table border=\"1\" class=\"dataframe\">\n",
              "  <thead>\n",
              "    <tr style=\"text-align: right;\">\n",
              "      <th></th>\n",
              "      <th>clean_en_sent</th>\n",
              "      <th>clean_hi_sent</th>\n",
              "      <th>clean_en_tok</th>\n",
              "      <th>clean_hi_tok</th>\n",
              "    </tr>\n",
              "  </thead>\n",
              "  <tbody>\n",
              "    <tr>\n",
              "      <th>0</th>\n",
              "      <td>give your application an accessibility workout</td>\n",
              "      <td>अपने अनुप्रयोग को पहुंचनीयता व्यायाम का लाभ दें</td>\n",
              "      <td>give your application an accessibility workout</td>\n",
              "      <td>अपने अनुप्रयोग को पहुंचनीयता व्यायाम का लाभ दें</td>\n",
              "    </tr>\n",
              "    <tr>\n",
              "      <th>1</th>\n",
              "      <td>accerciser accessibility explorer</td>\n",
              "      <td>एक्सेर्साइसर पहुंचनीयता अन्वेषक</td>\n",
              "      <td>accerciser accessibility explorer</td>\n",
              "      <td>एक्सेर्साइसर पहुंचनीयता अन्वेषक</td>\n",
              "    </tr>\n",
              "    <tr>\n",
              "      <th>2</th>\n",
              "      <td>the default plugin layout for the bottom panel</td>\n",
              "      <td>निचले पटल के लिए डिफोल्ट प्लगइन खाका</td>\n",
              "      <td>the default plugin layout for the bottom panel</td>\n",
              "      <td>निचले पटल के लिए डिफोल्ट प्लगइन खाका</td>\n",
              "    </tr>\n",
              "    <tr>\n",
              "      <th>3</th>\n",
              "      <td>the default plugin layout for the top panel</td>\n",
              "      <td>ऊपरी पटल के लिए डिफोल्ट प्लगइन खाका</td>\n",
              "      <td>the default plugin layout for the top panel</td>\n",
              "      <td>ऊपरी पटल के लिए डिफोल्ट प्लगइन खाका</td>\n",
              "    </tr>\n",
              "    <tr>\n",
              "      <th>4</th>\n",
              "      <td>a list of plugins that are disabled by default</td>\n",
              "      <td>उन प्लगइनों की सूची जिन्हें डिफोल्ट रूप से निष...</td>\n",
              "      <td>a list of plugins that are disabled by default</td>\n",
              "      <td>उन प्लगइनों की सूची जिन्हें डिफोल्ट रूप से निष...</td>\n",
              "    </tr>\n",
              "    <tr>\n",
              "      <th>...</th>\n",
              "      <td>...</td>\n",
              "      <td>...</td>\n",
              "      <td>...</td>\n",
              "      <td>...</td>\n",
              "    </tr>\n",
              "    <tr>\n",
              "      <th>1662105</th>\n",
              "      <td>the former deputy chief minister, narhari amin...</td>\n",
              "      <td>विस चुनाव से पहले कांग्रेस छोड़ भाजपा में आए प...</td>\n",
              "      <td>the former deputy chief minister , narhari ami...</td>\n",
              "      <td>विस चुनाव से पहले कांग्रेस छोड़ भाजपा में आए प...</td>\n",
              "    </tr>\n",
              "    <tr>\n",
              "      <th>1662106</th>\n",
              "      <td>this ministry expansion is being seen as modis...</td>\n",
              "      <td>इस मंत्रिमंडल विस्तार को मोदी की लोकसभा चुनाव ...</td>\n",
              "      <td>this ministry expansion is being seen as modis...</td>\n",
              "      <td>इस मंत्रिमंडल विस्तार को मोदी की लोकसभा चुनाव ...</td>\n",
              "    </tr>\n",
              "    <tr>\n",
              "      <th>1662107</th>\n",
              "      <td>he has been travelling around a lot to promote...</td>\n",
              "      <td>वह लंबे समय से राजनीतिक प्रवास कर रहे हैं।</td>\n",
              "      <td>he has been travelling around a lot to promote...</td>\n",
              "      <td>वह लंबे समय से राजनीतिक प्रवास कर रहे हैं ।</td>\n",
              "    </tr>\n",
              "    <tr>\n",
              "      <th>1662108</th>\n",
              "      <td>after doing a tour of the five states, he will...</td>\n",
              "      <td>पांच राज्यों के विस चुनाव बाद और ज्यादा आक्राम...</td>\n",
              "      <td>after doing a tour of the five states , he wil...</td>\n",
              "      <td>पांच राज्यों के विस चुनाव बाद और ज्यादा आक्राम...</td>\n",
              "    </tr>\n",
              "    <tr>\n",
              "      <th>1662109</th>\n",
              "      <td>in this way he wants to turn guajrat into an i...</td>\n",
              "      <td>ऐसे में वह गुजरात के किले को पूरी तरह से अभेद ...</td>\n",
              "      <td>in this way he wants to turn guajrat into an i...</td>\n",
              "      <td>ऐसे में वह गुजरात के किले को पूरी तरह से अभेद ...</td>\n",
              "    </tr>\n",
              "  </tbody>\n",
              "</table>\n",
              "<p>1662110 rows × 4 columns</p>\n",
              "</div>\n",
              "      <button class=\"colab-df-convert\" onclick=\"convertToInteractive('df-fe3bc72e-3278-44be-b8d3-5471dd1515c8')\"\n",
              "              title=\"Convert this dataframe to an interactive table.\"\n",
              "              style=\"display:none;\">\n",
              "        \n",
              "  <svg xmlns=\"http://www.w3.org/2000/svg\" height=\"24px\"viewBox=\"0 0 24 24\"\n",
              "       width=\"24px\">\n",
              "    <path d=\"M0 0h24v24H0V0z\" fill=\"none\"/>\n",
              "    <path d=\"M18.56 5.44l.94 2.06.94-2.06 2.06-.94-2.06-.94-.94-2.06-.94 2.06-2.06.94zm-11 1L8.5 8.5l.94-2.06 2.06-.94-2.06-.94L8.5 2.5l-.94 2.06-2.06.94zm10 10l.94 2.06.94-2.06 2.06-.94-2.06-.94-.94-2.06-.94 2.06-2.06.94z\"/><path d=\"M17.41 7.96l-1.37-1.37c-.4-.4-.92-.59-1.43-.59-.52 0-1.04.2-1.43.59L10.3 9.45l-7.72 7.72c-.78.78-.78 2.05 0 2.83L4 21.41c.39.39.9.59 1.41.59.51 0 1.02-.2 1.41-.59l7.78-7.78 2.81-2.81c.8-.78.8-2.07 0-2.86zM5.41 20L4 18.59l7.72-7.72 1.47 1.35L5.41 20z\"/>\n",
              "  </svg>\n",
              "      </button>\n",
              "      \n",
              "  <style>\n",
              "    .colab-df-container {\n",
              "      display:flex;\n",
              "      flex-wrap:wrap;\n",
              "      gap: 12px;\n",
              "    }\n",
              "\n",
              "    .colab-df-convert {\n",
              "      background-color: #E8F0FE;\n",
              "      border: none;\n",
              "      border-radius: 50%;\n",
              "      cursor: pointer;\n",
              "      display: none;\n",
              "      fill: #1967D2;\n",
              "      height: 32px;\n",
              "      padding: 0 0 0 0;\n",
              "      width: 32px;\n",
              "    }\n",
              "\n",
              "    .colab-df-convert:hover {\n",
              "      background-color: #E2EBFA;\n",
              "      box-shadow: 0px 1px 2px rgba(60, 64, 67, 0.3), 0px 1px 3px 1px rgba(60, 64, 67, 0.15);\n",
              "      fill: #174EA6;\n",
              "    }\n",
              "\n",
              "    [theme=dark] .colab-df-convert {\n",
              "      background-color: #3B4455;\n",
              "      fill: #D2E3FC;\n",
              "    }\n",
              "\n",
              "    [theme=dark] .colab-df-convert:hover {\n",
              "      background-color: #434B5C;\n",
              "      box-shadow: 0px 1px 3px 1px rgba(0, 0, 0, 0.15);\n",
              "      filter: drop-shadow(0px 1px 2px rgba(0, 0, 0, 0.3));\n",
              "      fill: #FFFFFF;\n",
              "    }\n",
              "  </style>\n",
              "\n",
              "      <script>\n",
              "        const buttonEl =\n",
              "          document.querySelector('#df-fe3bc72e-3278-44be-b8d3-5471dd1515c8 button.colab-df-convert');\n",
              "        buttonEl.style.display =\n",
              "          google.colab.kernel.accessAllowed ? 'block' : 'none';\n",
              "\n",
              "        async function convertToInteractive(key) {\n",
              "          const element = document.querySelector('#df-fe3bc72e-3278-44be-b8d3-5471dd1515c8');\n",
              "          const dataTable =\n",
              "            await google.colab.kernel.invokeFunction('convertToInteractive',\n",
              "                                                     [key], {});\n",
              "          if (!dataTable) return;\n",
              "\n",
              "          const docLinkHtml = 'Like what you see? Visit the ' +\n",
              "            '<a target=\"_blank\" href=https://colab.research.google.com/notebooks/data_table.ipynb>data table notebook</a>'\n",
              "            + ' to learn more about interactive tables.';\n",
              "          element.innerHTML = '';\n",
              "          dataTable['output_type'] = 'display_data';\n",
              "          await google.colab.output.renderOutput(dataTable, element);\n",
              "          const docLink = document.createElement('div');\n",
              "          docLink.innerHTML = docLinkHtml;\n",
              "          element.appendChild(docLink);\n",
              "        }\n",
              "      </script>\n",
              "    </div>\n",
              "  </div>\n",
              "  "
            ]
          },
          "metadata": {},
          "execution_count": 18
        }
      ],
      "source": [
        "df_datasets"
      ]
    },
    {
      "cell_type": "code",
      "execution_count": null,
      "metadata": {
        "colab": {
          "base_uri": "https://localhost:8080/"
        },
        "id": "TXIXb_cCMyz4",
        "outputId": "b46a5ea8-71c5-4549-ba91-720105f58025"
      },
      "outputs": [
        {
          "output_type": "execute_result",
          "data": {
            "text/plain": [
              "(1662110, 4)"
            ]
          },
          "metadata": {},
          "execution_count": 19
        }
      ],
      "source": [
        "df_datasets.shape"
      ]
    },
    {
      "cell_type": "code",
      "execution_count": null,
      "metadata": {
        "id": "HXyDGU6i1VC1"
      },
      "outputs": [],
      "source": [
        "df_datasets = df_datasets[['clean_en_tok','clean_hi_tok']]"
      ]
    },
    {
      "cell_type": "markdown",
      "metadata": {
        "id": "8g5BULttaan9",
        "pycharm": {
          "name": "#%% md\n"
        }
      },
      "source": [
        "### Data Cleaning and Alignment\n",
        "This is a very important step in terms of machine translations, here we make sure that our parallel corpus is indeed aligned and there are no missing sentences in either of the languages."
      ]
    },
    {
      "cell_type": "code",
      "execution_count": 7,
      "metadata": {
        "id": "6eKSFVDAz5fI",
        "pycharm": {
          "name": "#%%\n"
        }
      },
      "outputs": [],
      "source": [
        "def return_sent_len(input_text):\n",
        "  \"\"\"\n",
        "  return sentence length, as the data is tokenised, we have to disregard any acceptable punctutions.\n",
        "  \"\"\"\n",
        "  return len(str(input_text).replace(' .','').replace(' ,','').replace(' ।','')\\\n",
        "             .replace('.','').replace(',','').replace('।','').split(\" \"))"
      ]
    },
    {
      "cell_type": "code",
      "execution_count": null,
      "metadata": {
        "id": "NxBxMeZiqHJ0"
      },
      "outputs": [],
      "source": [
        "# ℹ️ Loading CSV  \"tok_sent.csv\"\n",
        "df_datasets = pd.read_csv(data_dir+\"/tok_sent.csv\") "
      ]
    },
    {
      "cell_type": "code",
      "execution_count": null,
      "metadata": {
        "colab": {
          "base_uri": "https://localhost:8080/",
          "height": 81,
          "referenced_widgets": [
            "3ef991b281db41ec994a7505466d32f9",
            "f910e2b46cff4388b5a81712f6d4ffcc",
            "6a90e242a3104727b18ca2cc8ba7dbcc",
            "ea72e01028f94af687c785ab5d4bc006",
            "d31522f72ce041f1930c4532009d325f",
            "3ae445f3b4a64e7c9974bd101559669c",
            "cdefde89cbf140f38216bd9ba9724c62",
            "2be1326d2dcc46a9b2ccdda3ee2bbd5a",
            "cf6335df88404aff9b97021c41787717",
            "ebef3c3379c3407c9680fd2ff2a9257a",
            "1a8b7b9c1f2b4f168767094bee977802",
            "d2cb15a05ae74592bc8be1e44eed1e14",
            "8f55d218b71a4d7a9b8daf61bc7d63ee",
            "eabdaa545d9b4eae8b462fb91db166e7",
            "62fa062754364662911373616417f4f7",
            "c1b0eec32d864a649c4dcc6574ac68bb",
            "ad08643122d0447e88d0f1b231e981c5",
            "7cc94f228566493a9a7e8610059b5e87",
            "25a9f7b7665542fb9553ac23f6ac2ae0",
            "a365059af0f14642ad76a12b16186c83",
            "2ee90ac192ae4c959bb4ce11c3946437",
            "77536aa6bbf240dba6ec77d19cd4abd5"
          ]
        },
        "id": "M1Ap6KcOzdzw",
        "outputId": "52c09489-c4ea-45a8-9dd8-d6284250a463",
        "pycharm": {
          "name": "#%%\n"
        }
      },
      "outputs": [
        {
          "output_type": "display_data",
          "data": {
            "text/plain": [
              "Pandas Apply:   0%|          | 0/1662110 [00:00<?, ?it/s]"
            ],
            "application/vnd.jupyter.widget-view+json": {
              "version_major": 2,
              "version_minor": 0,
              "model_id": "3ef991b281db41ec994a7505466d32f9"
            }
          },
          "metadata": {}
        },
        {
          "output_type": "display_data",
          "data": {
            "text/plain": [
              "Pandas Apply:   0%|          | 0/1662110 [00:00<?, ?it/s]"
            ],
            "application/vnd.jupyter.widget-view+json": {
              "version_major": 2,
              "version_minor": 0,
              "model_id": "d2cb15a05ae74592bc8be1e44eed1e14"
            }
          },
          "metadata": {}
        }
      ],
      "source": [
        "df_datasets['en_tok_len'] = df_datasets['clean_en_tok'].swifter.apply(return_sent_len)\n",
        "df_datasets['hi_tok_len'] = df_datasets['clean_hi_tok'].swifter.apply(return_sent_len)\n",
        "# # C = np.where(cond, A, B) \n",
        "# df_datasets['same_length'] = np.where(df_datasets['en_tok_len'] == df_datasets['hi_tok_len'], \n",
        "#                                       True, False)\n",
        "# df_datasets_same = df_datasets[(df_datasets['same_length'] == True) & (df_datasets['hi_tok_len'] >= 3)]\n",
        "# df_datasets_gtzero = df_datasets[(df_datasets['en_tok_len'] > 0) | (df_datasets['hi_tok_len'] > 0)]\n",
        "# df_datasets_gtzero.shape"
      ]
    },
    {
      "cell_type": "code",
      "execution_count": null,
      "metadata": {
        "colab": {
          "base_uri": "https://localhost:8080/",
          "height": 424
        },
        "id": "w8hQ3wjMKFS4",
        "outputId": "2d9b5148-62d8-426e-a790-c51ff387898c"
      },
      "outputs": [
        {
          "output_type": "execute_result",
          "data": {
            "text/plain": [
              "                                              clean_en_tok  \\\n",
              "0           give your application an accessibility workout   \n",
              "1                        accerciser accessibility explorer   \n",
              "2           the default plugin layout for the bottom panel   \n",
              "3              the default plugin layout for the top panel   \n",
              "4           a list of plugins that are disabled by default   \n",
              "...                                                    ...   \n",
              "1662105  the former deputy chief minister , narhari ami...   \n",
              "1662106  this ministry expansion is being seen as modis...   \n",
              "1662107  he has been travelling around a lot to promote...   \n",
              "1662108  after doing a tour of the five states , he wil...   \n",
              "1662109  in this way he wants to turn guajrat into an i...   \n",
              "\n",
              "                                              clean_hi_tok  en_tok_len  \\\n",
              "0          अपने अनुप्रयोग को पहुंचनीयता व्यायाम का लाभ दें           6   \n",
              "1                          एक्सेर्साइसर पहुंचनीयता अन्वेषक           3   \n",
              "2                     निचले पटल के लिए डिफोल्ट प्लगइन खाका           8   \n",
              "3                      ऊपरी पटल के लिए डिफोल्ट प्लगइन खाका           8   \n",
              "4        उन प्लगइनों की सूची जिन्हें डिफोल्ट रूप से निष...           9   \n",
              "...                                                    ...         ...   \n",
              "1662105  विस चुनाव से पहले कांग्रेस छोड़ भाजपा में आए प...          29   \n",
              "1662106  इस मंत्रिमंडल विस्तार को मोदी की लोकसभा चुनाव ...          14   \n",
              "1662107        वह लंबे समय से राजनीतिक प्रवास कर रहे हैं ।          12   \n",
              "1662108  पांच राज्यों के विस चुनाव बाद और ज्यादा आक्राम...          17   \n",
              "1662109  ऐसे में वह गुजरात के किले को पूरी तरह से अभेद ...          12   \n",
              "\n",
              "         hi_tok_len  \n",
              "0                 8  \n",
              "1                 3  \n",
              "2                 7  \n",
              "3                 7  \n",
              "4                12  \n",
              "...             ...  \n",
              "1662105          22  \n",
              "1662106          17  \n",
              "1662107           9  \n",
              "1662108          16  \n",
              "1662109          15  \n",
              "\n",
              "[1662110 rows x 4 columns]"
            ],
            "text/html": [
              "\n",
              "  <div id=\"df-b59b21cd-957c-4056-b48f-4a41b9f3c475\">\n",
              "    <div class=\"colab-df-container\">\n",
              "      <div>\n",
              "<style scoped>\n",
              "    .dataframe tbody tr th:only-of-type {\n",
              "        vertical-align: middle;\n",
              "    }\n",
              "\n",
              "    .dataframe tbody tr th {\n",
              "        vertical-align: top;\n",
              "    }\n",
              "\n",
              "    .dataframe thead th {\n",
              "        text-align: right;\n",
              "    }\n",
              "</style>\n",
              "<table border=\"1\" class=\"dataframe\">\n",
              "  <thead>\n",
              "    <tr style=\"text-align: right;\">\n",
              "      <th></th>\n",
              "      <th>clean_en_tok</th>\n",
              "      <th>clean_hi_tok</th>\n",
              "      <th>en_tok_len</th>\n",
              "      <th>hi_tok_len</th>\n",
              "    </tr>\n",
              "  </thead>\n",
              "  <tbody>\n",
              "    <tr>\n",
              "      <th>0</th>\n",
              "      <td>give your application an accessibility workout</td>\n",
              "      <td>अपने अनुप्रयोग को पहुंचनीयता व्यायाम का लाभ दें</td>\n",
              "      <td>6</td>\n",
              "      <td>8</td>\n",
              "    </tr>\n",
              "    <tr>\n",
              "      <th>1</th>\n",
              "      <td>accerciser accessibility explorer</td>\n",
              "      <td>एक्सेर्साइसर पहुंचनीयता अन्वेषक</td>\n",
              "      <td>3</td>\n",
              "      <td>3</td>\n",
              "    </tr>\n",
              "    <tr>\n",
              "      <th>2</th>\n",
              "      <td>the default plugin layout for the bottom panel</td>\n",
              "      <td>निचले पटल के लिए डिफोल्ट प्लगइन खाका</td>\n",
              "      <td>8</td>\n",
              "      <td>7</td>\n",
              "    </tr>\n",
              "    <tr>\n",
              "      <th>3</th>\n",
              "      <td>the default plugin layout for the top panel</td>\n",
              "      <td>ऊपरी पटल के लिए डिफोल्ट प्लगइन खाका</td>\n",
              "      <td>8</td>\n",
              "      <td>7</td>\n",
              "    </tr>\n",
              "    <tr>\n",
              "      <th>4</th>\n",
              "      <td>a list of plugins that are disabled by default</td>\n",
              "      <td>उन प्लगइनों की सूची जिन्हें डिफोल्ट रूप से निष...</td>\n",
              "      <td>9</td>\n",
              "      <td>12</td>\n",
              "    </tr>\n",
              "    <tr>\n",
              "      <th>...</th>\n",
              "      <td>...</td>\n",
              "      <td>...</td>\n",
              "      <td>...</td>\n",
              "      <td>...</td>\n",
              "    </tr>\n",
              "    <tr>\n",
              "      <th>1662105</th>\n",
              "      <td>the former deputy chief minister , narhari ami...</td>\n",
              "      <td>विस चुनाव से पहले कांग्रेस छोड़ भाजपा में आए प...</td>\n",
              "      <td>29</td>\n",
              "      <td>22</td>\n",
              "    </tr>\n",
              "    <tr>\n",
              "      <th>1662106</th>\n",
              "      <td>this ministry expansion is being seen as modis...</td>\n",
              "      <td>इस मंत्रिमंडल विस्तार को मोदी की लोकसभा चुनाव ...</td>\n",
              "      <td>14</td>\n",
              "      <td>17</td>\n",
              "    </tr>\n",
              "    <tr>\n",
              "      <th>1662107</th>\n",
              "      <td>he has been travelling around a lot to promote...</td>\n",
              "      <td>वह लंबे समय से राजनीतिक प्रवास कर रहे हैं ।</td>\n",
              "      <td>12</td>\n",
              "      <td>9</td>\n",
              "    </tr>\n",
              "    <tr>\n",
              "      <th>1662108</th>\n",
              "      <td>after doing a tour of the five states , he wil...</td>\n",
              "      <td>पांच राज्यों के विस चुनाव बाद और ज्यादा आक्राम...</td>\n",
              "      <td>17</td>\n",
              "      <td>16</td>\n",
              "    </tr>\n",
              "    <tr>\n",
              "      <th>1662109</th>\n",
              "      <td>in this way he wants to turn guajrat into an i...</td>\n",
              "      <td>ऐसे में वह गुजरात के किले को पूरी तरह से अभेद ...</td>\n",
              "      <td>12</td>\n",
              "      <td>15</td>\n",
              "    </tr>\n",
              "  </tbody>\n",
              "</table>\n",
              "<p>1662110 rows × 4 columns</p>\n",
              "</div>\n",
              "      <button class=\"colab-df-convert\" onclick=\"convertToInteractive('df-b59b21cd-957c-4056-b48f-4a41b9f3c475')\"\n",
              "              title=\"Convert this dataframe to an interactive table.\"\n",
              "              style=\"display:none;\">\n",
              "        \n",
              "  <svg xmlns=\"http://www.w3.org/2000/svg\" height=\"24px\"viewBox=\"0 0 24 24\"\n",
              "       width=\"24px\">\n",
              "    <path d=\"M0 0h24v24H0V0z\" fill=\"none\"/>\n",
              "    <path d=\"M18.56 5.44l.94 2.06.94-2.06 2.06-.94-2.06-.94-.94-2.06-.94 2.06-2.06.94zm-11 1L8.5 8.5l.94-2.06 2.06-.94-2.06-.94L8.5 2.5l-.94 2.06-2.06.94zm10 10l.94 2.06.94-2.06 2.06-.94-2.06-.94-.94-2.06-.94 2.06-2.06.94z\"/><path d=\"M17.41 7.96l-1.37-1.37c-.4-.4-.92-.59-1.43-.59-.52 0-1.04.2-1.43.59L10.3 9.45l-7.72 7.72c-.78.78-.78 2.05 0 2.83L4 21.41c.39.39.9.59 1.41.59.51 0 1.02-.2 1.41-.59l7.78-7.78 2.81-2.81c.8-.78.8-2.07 0-2.86zM5.41 20L4 18.59l7.72-7.72 1.47 1.35L5.41 20z\"/>\n",
              "  </svg>\n",
              "      </button>\n",
              "      \n",
              "  <style>\n",
              "    .colab-df-container {\n",
              "      display:flex;\n",
              "      flex-wrap:wrap;\n",
              "      gap: 12px;\n",
              "    }\n",
              "\n",
              "    .colab-df-convert {\n",
              "      background-color: #E8F0FE;\n",
              "      border: none;\n",
              "      border-radius: 50%;\n",
              "      cursor: pointer;\n",
              "      display: none;\n",
              "      fill: #1967D2;\n",
              "      height: 32px;\n",
              "      padding: 0 0 0 0;\n",
              "      width: 32px;\n",
              "    }\n",
              "\n",
              "    .colab-df-convert:hover {\n",
              "      background-color: #E2EBFA;\n",
              "      box-shadow: 0px 1px 2px rgba(60, 64, 67, 0.3), 0px 1px 3px 1px rgba(60, 64, 67, 0.15);\n",
              "      fill: #174EA6;\n",
              "    }\n",
              "\n",
              "    [theme=dark] .colab-df-convert {\n",
              "      background-color: #3B4455;\n",
              "      fill: #D2E3FC;\n",
              "    }\n",
              "\n",
              "    [theme=dark] .colab-df-convert:hover {\n",
              "      background-color: #434B5C;\n",
              "      box-shadow: 0px 1px 3px 1px rgba(0, 0, 0, 0.15);\n",
              "      filter: drop-shadow(0px 1px 2px rgba(0, 0, 0, 0.3));\n",
              "      fill: #FFFFFF;\n",
              "    }\n",
              "  </style>\n",
              "\n",
              "      <script>\n",
              "        const buttonEl =\n",
              "          document.querySelector('#df-b59b21cd-957c-4056-b48f-4a41b9f3c475 button.colab-df-convert');\n",
              "        buttonEl.style.display =\n",
              "          google.colab.kernel.accessAllowed ? 'block' : 'none';\n",
              "\n",
              "        async function convertToInteractive(key) {\n",
              "          const element = document.querySelector('#df-b59b21cd-957c-4056-b48f-4a41b9f3c475');\n",
              "          const dataTable =\n",
              "            await google.colab.kernel.invokeFunction('convertToInteractive',\n",
              "                                                     [key], {});\n",
              "          if (!dataTable) return;\n",
              "\n",
              "          const docLinkHtml = 'Like what you see? Visit the ' +\n",
              "            '<a target=\"_blank\" href=https://colab.research.google.com/notebooks/data_table.ipynb>data table notebook</a>'\n",
              "            + ' to learn more about interactive tables.';\n",
              "          element.innerHTML = '';\n",
              "          dataTable['output_type'] = 'display_data';\n",
              "          await google.colab.output.renderOutput(dataTable, element);\n",
              "          const docLink = document.createElement('div');\n",
              "          docLink.innerHTML = docLinkHtml;\n",
              "          element.appendChild(docLink);\n",
              "        }\n",
              "      </script>\n",
              "    </div>\n",
              "  </div>\n",
              "  "
            ]
          },
          "metadata": {},
          "execution_count": 24
        }
      ],
      "source": [
        "df_datasets"
      ]
    },
    {
      "cell_type": "code",
      "execution_count": null,
      "metadata": {
        "id": "S2CXtNICGf2-",
        "pycharm": {
          "name": "#%%\n"
        }
      },
      "outputs": [],
      "source": [
        "# remove null, None and NaN values from both source and target sentences\n",
        "df_datasets['clean_en_tok'].replace('', np.nan, inplace=True)\n",
        "df_datasets['clean_hi_tok'].replace('', np.nan, inplace=True)\n",
        "df_datasets.dropna(\n",
        "    axis=0,\n",
        "    how='any',\n",
        "    thresh=None,\n",
        "    subset=None,\n",
        "    inplace=True\n",
        ")"
      ]
    },
    {
      "cell_type": "code",
      "execution_count": null,
      "metadata": {
        "colab": {
          "base_uri": "https://localhost:8080/",
          "height": 424
        },
        "id": "4u9bUNQUprwH",
        "outputId": "0646cea6-116a-4dca-a57f-5d46ffd51836"
      },
      "outputs": [
        {
          "output_type": "execute_result",
          "data": {
            "text/plain": [
              "                                              clean_en_tok  \\\n",
              "0           give your application an accessibility workout   \n",
              "1                        accerciser accessibility explorer   \n",
              "2           the default plugin layout for the bottom panel   \n",
              "3              the default plugin layout for the top panel   \n",
              "4           a list of plugins that are disabled by default   \n",
              "...                                                    ...   \n",
              "1662105  the former deputy chief minister , narhari ami...   \n",
              "1662106  this ministry expansion is being seen as modis...   \n",
              "1662107  he has been travelling around a lot to promote...   \n",
              "1662108  after doing a tour of the five states , he wil...   \n",
              "1662109  in this way he wants to turn guajrat into an i...   \n",
              "\n",
              "                                              clean_hi_tok  en_tok_len  \\\n",
              "0          अपने अनुप्रयोग को पहुंचनीयता व्यायाम का लाभ दें           6   \n",
              "1                          एक्सेर्साइसर पहुंचनीयता अन्वेषक           3   \n",
              "2                     निचले पटल के लिए डिफोल्ट प्लगइन खाका           8   \n",
              "3                      ऊपरी पटल के लिए डिफोल्ट प्लगइन खाका           8   \n",
              "4        उन प्लगइनों की सूची जिन्हें डिफोल्ट रूप से निष...           9   \n",
              "...                                                    ...         ...   \n",
              "1662105  विस चुनाव से पहले कांग्रेस छोड़ भाजपा में आए प...          29   \n",
              "1662106  इस मंत्रिमंडल विस्तार को मोदी की लोकसभा चुनाव ...          14   \n",
              "1662107        वह लंबे समय से राजनीतिक प्रवास कर रहे हैं ।          12   \n",
              "1662108  पांच राज्यों के विस चुनाव बाद और ज्यादा आक्राम...          17   \n",
              "1662109  ऐसे में वह गुजरात के किले को पूरी तरह से अभेद ...          12   \n",
              "\n",
              "         hi_tok_len  \n",
              "0                 8  \n",
              "1                 3  \n",
              "2                 7  \n",
              "3                 7  \n",
              "4                12  \n",
              "...             ...  \n",
              "1662105          22  \n",
              "1662106          17  \n",
              "1662107           9  \n",
              "1662108          16  \n",
              "1662109          15  \n",
              "\n",
              "[1635478 rows x 4 columns]"
            ],
            "text/html": [
              "\n",
              "  <div id=\"df-5f3c3108-5f52-412e-b05e-f4dc20e2303b\">\n",
              "    <div class=\"colab-df-container\">\n",
              "      <div>\n",
              "<style scoped>\n",
              "    .dataframe tbody tr th:only-of-type {\n",
              "        vertical-align: middle;\n",
              "    }\n",
              "\n",
              "    .dataframe tbody tr th {\n",
              "        vertical-align: top;\n",
              "    }\n",
              "\n",
              "    .dataframe thead th {\n",
              "        text-align: right;\n",
              "    }\n",
              "</style>\n",
              "<table border=\"1\" class=\"dataframe\">\n",
              "  <thead>\n",
              "    <tr style=\"text-align: right;\">\n",
              "      <th></th>\n",
              "      <th>clean_en_tok</th>\n",
              "      <th>clean_hi_tok</th>\n",
              "      <th>en_tok_len</th>\n",
              "      <th>hi_tok_len</th>\n",
              "    </tr>\n",
              "  </thead>\n",
              "  <tbody>\n",
              "    <tr>\n",
              "      <th>0</th>\n",
              "      <td>give your application an accessibility workout</td>\n",
              "      <td>अपने अनुप्रयोग को पहुंचनीयता व्यायाम का लाभ दें</td>\n",
              "      <td>6</td>\n",
              "      <td>8</td>\n",
              "    </tr>\n",
              "    <tr>\n",
              "      <th>1</th>\n",
              "      <td>accerciser accessibility explorer</td>\n",
              "      <td>एक्सेर्साइसर पहुंचनीयता अन्वेषक</td>\n",
              "      <td>3</td>\n",
              "      <td>3</td>\n",
              "    </tr>\n",
              "    <tr>\n",
              "      <th>2</th>\n",
              "      <td>the default plugin layout for the bottom panel</td>\n",
              "      <td>निचले पटल के लिए डिफोल्ट प्लगइन खाका</td>\n",
              "      <td>8</td>\n",
              "      <td>7</td>\n",
              "    </tr>\n",
              "    <tr>\n",
              "      <th>3</th>\n",
              "      <td>the default plugin layout for the top panel</td>\n",
              "      <td>ऊपरी पटल के लिए डिफोल्ट प्लगइन खाका</td>\n",
              "      <td>8</td>\n",
              "      <td>7</td>\n",
              "    </tr>\n",
              "    <tr>\n",
              "      <th>4</th>\n",
              "      <td>a list of plugins that are disabled by default</td>\n",
              "      <td>उन प्लगइनों की सूची जिन्हें डिफोल्ट रूप से निष...</td>\n",
              "      <td>9</td>\n",
              "      <td>12</td>\n",
              "    </tr>\n",
              "    <tr>\n",
              "      <th>...</th>\n",
              "      <td>...</td>\n",
              "      <td>...</td>\n",
              "      <td>...</td>\n",
              "      <td>...</td>\n",
              "    </tr>\n",
              "    <tr>\n",
              "      <th>1662105</th>\n",
              "      <td>the former deputy chief minister , narhari ami...</td>\n",
              "      <td>विस चुनाव से पहले कांग्रेस छोड़ भाजपा में आए प...</td>\n",
              "      <td>29</td>\n",
              "      <td>22</td>\n",
              "    </tr>\n",
              "    <tr>\n",
              "      <th>1662106</th>\n",
              "      <td>this ministry expansion is being seen as modis...</td>\n",
              "      <td>इस मंत्रिमंडल विस्तार को मोदी की लोकसभा चुनाव ...</td>\n",
              "      <td>14</td>\n",
              "      <td>17</td>\n",
              "    </tr>\n",
              "    <tr>\n",
              "      <th>1662107</th>\n",
              "      <td>he has been travelling around a lot to promote...</td>\n",
              "      <td>वह लंबे समय से राजनीतिक प्रवास कर रहे हैं ।</td>\n",
              "      <td>12</td>\n",
              "      <td>9</td>\n",
              "    </tr>\n",
              "    <tr>\n",
              "      <th>1662108</th>\n",
              "      <td>after doing a tour of the five states , he wil...</td>\n",
              "      <td>पांच राज्यों के विस चुनाव बाद और ज्यादा आक्राम...</td>\n",
              "      <td>17</td>\n",
              "      <td>16</td>\n",
              "    </tr>\n",
              "    <tr>\n",
              "      <th>1662109</th>\n",
              "      <td>in this way he wants to turn guajrat into an i...</td>\n",
              "      <td>ऐसे में वह गुजरात के किले को पूरी तरह से अभेद ...</td>\n",
              "      <td>12</td>\n",
              "      <td>15</td>\n",
              "    </tr>\n",
              "  </tbody>\n",
              "</table>\n",
              "<p>1635478 rows × 4 columns</p>\n",
              "</div>\n",
              "      <button class=\"colab-df-convert\" onclick=\"convertToInteractive('df-5f3c3108-5f52-412e-b05e-f4dc20e2303b')\"\n",
              "              title=\"Convert this dataframe to an interactive table.\"\n",
              "              style=\"display:none;\">\n",
              "        \n",
              "  <svg xmlns=\"http://www.w3.org/2000/svg\" height=\"24px\"viewBox=\"0 0 24 24\"\n",
              "       width=\"24px\">\n",
              "    <path d=\"M0 0h24v24H0V0z\" fill=\"none\"/>\n",
              "    <path d=\"M18.56 5.44l.94 2.06.94-2.06 2.06-.94-2.06-.94-.94-2.06-.94 2.06-2.06.94zm-11 1L8.5 8.5l.94-2.06 2.06-.94-2.06-.94L8.5 2.5l-.94 2.06-2.06.94zm10 10l.94 2.06.94-2.06 2.06-.94-2.06-.94-.94-2.06-.94 2.06-2.06.94z\"/><path d=\"M17.41 7.96l-1.37-1.37c-.4-.4-.92-.59-1.43-.59-.52 0-1.04.2-1.43.59L10.3 9.45l-7.72 7.72c-.78.78-.78 2.05 0 2.83L4 21.41c.39.39.9.59 1.41.59.51 0 1.02-.2 1.41-.59l7.78-7.78 2.81-2.81c.8-.78.8-2.07 0-2.86zM5.41 20L4 18.59l7.72-7.72 1.47 1.35L5.41 20z\"/>\n",
              "  </svg>\n",
              "      </button>\n",
              "      \n",
              "  <style>\n",
              "    .colab-df-container {\n",
              "      display:flex;\n",
              "      flex-wrap:wrap;\n",
              "      gap: 12px;\n",
              "    }\n",
              "\n",
              "    .colab-df-convert {\n",
              "      background-color: #E8F0FE;\n",
              "      border: none;\n",
              "      border-radius: 50%;\n",
              "      cursor: pointer;\n",
              "      display: none;\n",
              "      fill: #1967D2;\n",
              "      height: 32px;\n",
              "      padding: 0 0 0 0;\n",
              "      width: 32px;\n",
              "    }\n",
              "\n",
              "    .colab-df-convert:hover {\n",
              "      background-color: #E2EBFA;\n",
              "      box-shadow: 0px 1px 2px rgba(60, 64, 67, 0.3), 0px 1px 3px 1px rgba(60, 64, 67, 0.15);\n",
              "      fill: #174EA6;\n",
              "    }\n",
              "\n",
              "    [theme=dark] .colab-df-convert {\n",
              "      background-color: #3B4455;\n",
              "      fill: #D2E3FC;\n",
              "    }\n",
              "\n",
              "    [theme=dark] .colab-df-convert:hover {\n",
              "      background-color: #434B5C;\n",
              "      box-shadow: 0px 1px 3px 1px rgba(0, 0, 0, 0.15);\n",
              "      filter: drop-shadow(0px 1px 2px rgba(0, 0, 0, 0.3));\n",
              "      fill: #FFFFFF;\n",
              "    }\n",
              "  </style>\n",
              "\n",
              "      <script>\n",
              "        const buttonEl =\n",
              "          document.querySelector('#df-5f3c3108-5f52-412e-b05e-f4dc20e2303b button.colab-df-convert');\n",
              "        buttonEl.style.display =\n",
              "          google.colab.kernel.accessAllowed ? 'block' : 'none';\n",
              "\n",
              "        async function convertToInteractive(key) {\n",
              "          const element = document.querySelector('#df-5f3c3108-5f52-412e-b05e-f4dc20e2303b');\n",
              "          const dataTable =\n",
              "            await google.colab.kernel.invokeFunction('convertToInteractive',\n",
              "                                                     [key], {});\n",
              "          if (!dataTable) return;\n",
              "\n",
              "          const docLinkHtml = 'Like what you see? Visit the ' +\n",
              "            '<a target=\"_blank\" href=https://colab.research.google.com/notebooks/data_table.ipynb>data table notebook</a>'\n",
              "            + ' to learn more about interactive tables.';\n",
              "          element.innerHTML = '';\n",
              "          dataTable['output_type'] = 'display_data';\n",
              "          await google.colab.output.renderOutput(dataTable, element);\n",
              "          const docLink = document.createElement('div');\n",
              "          docLink.innerHTML = docLinkHtml;\n",
              "          element.appendChild(docLink);\n",
              "        }\n",
              "      </script>\n",
              "    </div>\n",
              "  </div>\n",
              "  "
            ]
          },
          "metadata": {},
          "execution_count": 26
        }
      ],
      "source": [
        "df_datasets"
      ]
    },
    {
      "cell_type": "code",
      "execution_count": null,
      "outputs": [
        {
          "output_type": "execute_result",
          "data": {
            "text/plain": [
              "(1635478, 4)"
            ]
          },
          "metadata": {},
          "execution_count": 27
        }
      ],
      "source": [
        "df_datasets.shape"
      ],
      "metadata": {
        "pycharm": {
          "name": "#%%\n"
        },
        "colab": {
          "base_uri": "https://localhost:8080/"
        },
        "id": "HwJTCj-POMGa",
        "outputId": "710a566a-80da-46be-8586-fee3d233b3cc"
      }
    },
    {
      "cell_type": "markdown",
      "source": [
        "We see a drastic reduction in size of our parallel data. Some 26632 empty samples are removed."
      ],
      "metadata": {
        "collapsed": false,
        "pycharm": {
          "name": "#%% md\n"
        },
        "id": "T17k7b1XOMGb"
      }
    },
    {
      "cell_type": "markdown",
      "metadata": {
        "id": "4sjiXaLTakyF"
      },
      "source": [
        "### Train Test Validation Split"
      ]
    },
    {
      "cell_type": "code",
      "execution_count": null,
      "metadata": {
        "id": "pECvCMa_OMGc"
      },
      "outputs": [],
      "source": [
        "# select data based on datasize\n",
        "df_datasets = df_datasets.sample(frac=DATASIZE*0.01,random_state=DATASIZE).sort_index()\n",
        "df_datasets.sample(10,random_state=DATASIZE).sort_index()\n",
        "df_datasets.shape"
      ]
    },
    {
      "cell_type": "code",
      "execution_count": null,
      "metadata": {
        "colab": {
          "base_uri": "https://localhost:8080/"
        },
        "id": "WWuat2pgqnaR",
        "outputId": "463188b7-02ee-40be-ddbe-f3fa2cd5e074",
        "pycharm": {
          "name": "#%%\n"
        }
      },
      "outputs": [
        {
          "output_type": "stream",
          "name": "stdout",
          "text": [
            "Total Data Size:  1635478\n",
            "Total Training Data: 1553704\n",
            "Total Validation Data:  40886\n",
            "Total Test Data:  40888\n"
          ]
        }
      ],
      "source": [
        "# Train Test and Dev Split\n",
        "total_len = df_datasets.shape[0]\n",
        "print(\"Total Data Size: \",total_len)\n",
        "factors = [0.95,0.025,0.025] # factor in which we are dividing our data.\n",
        "assert sum(factors) == 1\n",
        "\n",
        "train_sp = int(total_len * factors[0])\n",
        "val_sp = int(total_len * factors[0]) + int(total_len * factors[1])\n",
        "\n",
        "print(\"Total Training Data:\", train_sp)\n",
        "print(\"Total Validation Data: \", val_sp-train_sp)\n",
        "print(\"Total Test Data: \", total_len - train_sp - (val_sp-train_sp))\n",
        "\n",
        "train=['train']*(train_sp-0)\n",
        "val=['val']*(val_sp-train_sp)\n",
        "test=['test']*(total_len-val_sp)\n",
        "type_=train+val+test\n",
        "df_datasets['type']=type_\n",
        "\n",
        "# df_datasets['type']=''\n",
        "# df_datasets.iloc[0:train_sp]['type'] = \"train\"\n",
        "# df_datasets.iloc[train_sp:val_sp]['type'] = \"val\"\n",
        "# df_datasets.iloc[val_sp:total_len]['type'] = \"test\"\n",
        "\n",
        "# ℹ️ saving CSV  \"final.csv\"\n",
        "df_datasets.to_csv(data_dir+\"/final.csv\",index=False)"
      ]
    },
    {
      "cell_type": "markdown",
      "metadata": {
        "id": "9SQ1PA-3bLjb",
        "pycharm": {
          "name": "#%% md\n"
        }
      },
      "source": [
        "### Data Statistics\n",
        "We need to build a NMT model for which we need some dimension of data such as size of vocab, average sentence length"
      ]
    },
    {
      "cell_type": "code",
      "source": [
        "df_datasets = pd.read_csv(data_dir+\"/final.csv\") "
      ],
      "metadata": {
        "id": "0wS5fbMyVblb"
      },
      "execution_count": null,
      "outputs": []
    },
    {
      "cell_type": "code",
      "execution_count": null,
      "metadata": {
        "colab": {
          "base_uri": "https://localhost:8080/"
        },
        "id": "wGansOuyZnTe",
        "outputId": "aca5ceb5-292c-4291-ddd3-2848cc3708c5",
        "pycharm": {
          "name": "#%%\n"
        }
      },
      "outputs": [
        {
          "output_type": "stream",
          "name": "stdout",
          "text": [
            "vocab size en:  214486\n",
            "vocab size hi:  373193\n"
          ]
        }
      ],
      "source": [
        "# Vocab size for both english and hindi for NMT model.\n",
        "print(\"vocab size en: \", len(set([item for sublist in df_datasets['clean_en_tok'].tolist() for item in (sublist).split(\" \")])))\n",
        "print(\"vocab size hi: \", len(set([item for sublist in df_datasets['clean_hi_tok'].tolist() for item in (sublist).split(\" \")])))"
      ]
    },
    {
      "cell_type": "code",
      "execution_count": null,
      "metadata": {
        "colab": {
          "base_uri": "https://localhost:8080/",
          "height": 414
        },
        "id": "KHhR9qLbBwQj",
        "outputId": "8dc8ff30-2218-49e2-936c-5f7fa8e81d4e",
        "pycharm": {
          "name": "#%%\n"
        }
      },
      "outputs": [
        {
          "output_type": "stream",
          "name": "stdout",
          "text": [
            "max len en:  1681\n",
            "max len hi:  1291\n",
            "avg len en:  13.965000446352686\n",
            "avg len hi:  14.748335349053916\n",
            "med len en:  10.0\n",
            "med len hi:  10.0\n"
          ]
        },
        {
          "output_type": "execute_result",
          "data": {
            "text/plain": [
              "<matplotlib.axes._subplots.AxesSubplot at 0x7fb4aca4fb10>"
            ]
          },
          "metadata": {},
          "execution_count": 38
        },
        {
          "output_type": "display_data",
          "data": {
            "text/plain": [
              "<Figure size 432x288 with 1 Axes>"
            ],
            "image/png": "[encoded data removed]"
          },
          "metadata": {}
        }
      ],
      "source": [
        "len_en = [len((sublist).split(\" \")) for sublist in df_datasets['clean_en_tok'].tolist()]\n",
        "len_hi = [len((sublist).split(\" \")) for sublist in df_datasets['clean_hi_tok'].tolist()]\n",
        "print(\"max len en: \", max(len_en))\n",
        "print(\"max len hi: \", max(len_hi))\n",
        "\n",
        "print(\"avg len en: \", statistics.mean(len_en))\n",
        "print(\"avg len hi: \", statistics.mean(len_hi))\n",
        "\n",
        "print(\"med len en: \", statistics.median(len_en))\n",
        "print(\"med len hi: \", statistics.median(len_hi))\n",
        "\n",
        "df_ = pd.DataFrame({'Dimension': ['max len', 'max len', 'avg len', 'avg len', 'median len', 'median len'],\n",
        "                   'log_length': [math.log(max(len_en)), math.log(max(len_hi)), math.log(statistics.mean(len_en)), math.log(statistics.mean(len_hi)), math.log(statistics.median(len_en)),math.log(statistics.median(len_hi))],\n",
        "                   'lang': ['en', 'hi', 'en', 'hi', 'en', 'hi']})\n",
        "\n",
        "#set seaborn plotting aesthetics\n",
        "sns.set(style='white')\n",
        "\n",
        "#create grouped bar chart\n",
        "sns.barplot(x='Dimension', y='log_length', hue='lang', data=df_)"
      ]
    },
    {
      "cell_type": "code",
      "execution_count": null,
      "outputs": [
        {
          "output_type": "display_data",
          "data": {
            "text/plain": [
              "<Figure size 576x576 with 1 Axes>"
            ],
            "image/png": "[encoded data removed]"
          },
          "metadata": {
            "needs_background": "light"
          }
        }
      ],
      "source": [
        "import matplotlib.pyplot as plt\n",
        "from wordcloud import WordCloud, STOPWORDS\n",
        "# from nltk.tokenize import word_tokenize\n",
        "import re\n",
        "from collections import Counter\n",
        "!wget https://raw.githubusercontent.com/taranjeet/hindi-tokenizer/master/stopwords.txt\n",
        "!wget https://www.lipikaar.com/sites/www.lipikaar.com/themes/million/images/support/fonts/Devanagari.zip\n",
        "!unzip Devanagari.zip\n",
        "stopword=open(\"stopwords.txt\",\"r\")\n",
        "stop_words=[]\n",
        "\n",
        "# pre-process stopword\n",
        "for i in stopword:\n",
        "  i = re.sub('[\\n]', '', i)\n",
        "  stop_words.append(i)\n",
        "\n",
        "hi_stopwords = list(set(stop_words))+[\".\",\",\",\"|\",\"?\",\"क\",\"ख\",\"ग\",\"घ\",\"ङ\",\"च\",\"छ\",\"ज\",\"झ\",\"ञ\",\"ट\",\"ठ\",\"ड\",\"ढ\",\"ण\",\"त\",\"थ\",\"द\",\"ध\",\"न\",\"प\",\"फ\",\"ब\",\"भ\",\"म\",\"य\",\"र\",\"ल\",\"व\",\"श\",\"ष\",\"स\",\"ह\"]+\\\n",
        "                [\"अ\",\"क\",\"आ\",\"का\",\"ॲ\",\"कॅ\",\"ऑ\",\"कॉ\",\"इ\",\"कि\",\"ई\",\"की\",\"उ\",\"कु\",\"ऊ\",\"कू\",\"ऎ\",\"कॆ\",\"ए\",\"के\",\"ऐ\",\"कै\",\"ऒ\",\"कॊ\",\"ओ\",\"को\",\"औ\",\"कौ\",\"ऋ\",\"कृ\",\"ॠ\",\"कॄ\",\"ऌ\",\"कॢ\",\"ॡ\",\"कॣ\",\"अं\",\"कं\",\"अः\",\"कः\",\"क्\"]\n",
        "text = ' '.join(df_datasets['clean_hi_tok'].tolist()[0:140886])\n",
        "# text = \" \".join(text)\n",
        "\n",
        "wordcloud = WordCloud(font_path='Devanagari/Lohit-Devanagari.ttf',width = 800, height = 800,\n",
        "                      background_color ='white',\n",
        "                      stopwords = hi_stopwords,\n",
        "                      min_font_size = 10).generate(text)\n",
        "\n",
        "# plot the WordCloud image\n",
        "plt.figure(figsize = (8, 8), facecolor = None)\n",
        "plt.imshow(wordcloud)\n",
        "plt.axis('off')\n",
        "plt.tight_layout(pad = 0)\n",
        "\n",
        "plt.show()"
      ],
      "metadata": {
        "pycharm": {
          "name": "#%%\n"
        },
        "colab": {
          "base_uri": "https://localhost:8080/",
          "height": 607
        },
        "id": "suhDGf_6OMGc",
        "outputId": "fcf9227d-3174-4dfd-e70b-5580f8038904"
      }
    },
    {
      "cell_type": "code",
      "execution_count": null,
      "outputs": [
        {
          "output_type": "display_data",
          "data": {
            "text/plain": [
              "<Figure size 576x576 with 1 Axes>"
            ],
            "image/png": "[encoded data removed]"
          },
          "metadata": {
            "needs_background": "light"
          }
        }
      ],
      "source": [
        "text = ' '.join(df_datasets['clean_en_tok'].tolist()[0:140886])\n",
        "\n",
        "wordcloud = WordCloud(width = 800, height = 800,\n",
        "                      background_color ='white',\n",
        "                      stopwords = STOPWORDS,\n",
        "                      min_font_size = 10).generate(text)\n",
        "\n",
        "# plot the WordCloud image\n",
        "plt.figure(figsize = (8, 8), facecolor = None)\n",
        "plt.imshow(wordcloud)\n",
        "plt.axis('off')\n",
        "plt.tight_layout(pad = 0)\n",
        "\n",
        "plt.show()"
      ],
      "metadata": {
        "pycharm": {
          "name": "#%%\n"
        },
        "colab": {
          "base_uri": "https://localhost:8080/",
          "height": 607
        },
        "id": "RGOC2Y85OMGc",
        "outputId": "7e0faa50-4542-4ec8-c5fa-275f5926c277"
      }
    },
    {
      "cell_type": "markdown",
      "metadata": {
        "id": "0RarFpFjdtSH",
        "pycharm": {
          "name": "#%% md\n"
        }
      },
      "source": [
        "### Generating Final Data\n",
        "Here we generate the token files which are acceptable into Joeynmt NMT."
      ]
    },
    {
      "cell_type": "code",
      "execution_count": 26,
      "metadata": {
        "id": "VLRjzUXQK0dj"
      },
      "outputs": [],
      "source": [
        "import os\n",
        "def create_tok_files(input_df, dataset_name):\n",
        "    src_tok_file = os.path.join(data_dir, dataset_name + \"_tok.en\") \n",
        "    tgt_tok_file = os.path.join(data_dir, dataset_name + \"_tok.hi\") \n",
        "    if dataset_name !=\"all\":\n",
        "        src_content = input_df[input_df['type']==dataset_name]['clean_en_tok'].to_list()\n",
        "        tgt_content = input_df[input_df['type']==dataset_name]['clean_hi_tok'].to_list()\n",
        "    else:\n",
        "        src_content = input_df['clean_en_tok'].to_list()\n",
        "        tgt_content = input_df['clean_hi_tok'].to_list()\n",
        "    print(f\"Creating Source token files: {src_tok_file}\")\n",
        "    print(f\"Creating Target token files: {tgt_tok_file}\")\n",
        "    with open(src_tok_file, 'w') as src, open(tgt_tok_file, 'w') as tgt:\n",
        "        for src_line, tgt_line in zip(src_content, tgt_content):\n",
        "            src.write((src_line) + \"\\n\")\n",
        "            tgt.write((tgt_line) + \"\\n\")"
      ]
    },
    {
      "cell_type": "code",
      "execution_count": null,
      "metadata": {
        "id": "rlGoz6H_K1QY"
      },
      "outputs": [],
      "source": [
        "# ℹ️ Loading CSV  \"final.csv\"\n",
        "df_datasets = pd.read_csv(data_dir+\"/final.csv\") \n",
        "\n",
        "create_tok_files(df_datasets, \"all\")\n",
        "create_tok_files(df_datasets, \"train\")\n",
        "create_tok_files(df_datasets, \"test\")\n",
        "create_tok_files(df_datasets, \"val\")"
      ]
    },
    {
      "cell_type": "markdown",
      "metadata": {
        "id": "CEhTXWMOgGOr",
        "jp-MarkdownHeadingCollapsed": true,
        "tags": []
      },
      "source": [
        "####  HuggingFace Dataset Format \n",
        "Save data in to HuggingFace Dataset Format to quickly load it in memory while training"
      ]
    },
    {
      "cell_type": "code",
      "execution_count": null,
      "metadata": {
        "id": "jz97rpCkvW7w",
        "tags": []
      },
      "outputs": [],
      "source": [
        "from datasets.dataset_dict import DatasetDict\n",
        "from datasets import Dataset\n",
        "\n",
        "dataset_dict = DatasetDict({ \n",
        "  \"train\": Dataset.from_pandas(df_datasets[df_datasets['type']=='train'][['clean_en_tok','clean_hi_tok']]),\n",
        "  \"validation\": Dataset.from_pandas(df_datasets[df_datasets['type']=='val'][['clean_en_tok','clean_hi_tok']]),\n",
        "  \"test\": Dataset.from_pandas(df_datasets[df_datasets['type']=='test'][['clean_en_tok','clean_hi_tok']])\n",
        "})\n",
        "\n",
        "dataset_dict.save_to_disk(data_dir)"
      ]
    },
    {
      "cell_type": "markdown",
      "metadata": {
        "id": "V7dS63JBCx-q",
        "jp-MarkdownHeadingCollapsed": true,
        "tags": []
      },
      "source": [
        "### Byte Pair Encoding (BPE) - Learn BPE codes \n",
        "⚠️ The below setps are only necessary if we are not running `build_vocab.py` from joeyNMT. \n",
        "\n",
        "joeyNMT version 2 executes the below setps inside `build_vocab.py`"
      ]
    },
    {
      "cell_type": "code",
      "execution_count": null,
      "metadata": {
        "id": "pWou8mqqCzWw",
        "tags": [],
        "pycharm": {
          "name": "#%%\n"
        }
      },
      "outputs": [],
      "source": [
        "os.environ['NUM_OF_MERGE_OPERATIONS'] = \"16000\"\n",
        "os.environ['data_dir'] = data_dir\n"
      ]
    },
    {
      "cell_type": "code",
      "execution_count": null,
      "metadata": {
        "id": "cRQ3vk_6C5lC",
        "tags": [],
        "pycharm": {
          "name": "#%%\n"
        }
      },
      "outputs": [],
      "source": [
        "! subword-nmt learn-joint-bpe-and-vocab --input $data_dir/all_tok.en $data_dir/all_tok.hi -s $NUM_OF_MERGE_OPERATIONS -o $data_dir/all_bpe.codes --write-vocabulary $data_dir/vocab.en $data_dir/vocab.hi"
      ]
    },
    {
      "cell_type": "markdown",
      "metadata": {
        "id": "3UzWuxiKDNdC",
        "tags": []
      },
      "source": [
        "#### Apply BPE"
      ]
    },
    {
      "cell_type": "code",
      "execution_count": null,
      "metadata": {
        "id": "SLeVC6g9DQn4",
        "tags": [],
        "pycharm": {
          "name": "#%%\n"
        }
      },
      "outputs": [],
      "source": [
        "! subword-nmt apply-bpe -c $data_dir/all_bpe.codes --vocabulary $data_dir/vocab.en < $data_dir/train_tok.en > $data_dir/train.bpe.en\n",
        "! subword-nmt apply-bpe -c $data_dir/all_bpe.codes --vocabulary $data_dir/vocab.hi < $data_dir/train_tok.hi > $data_dir/train.bpe.hi\n",
        "\n",
        "! subword-nmt apply-bpe -c $data_dir/all_bpe.codes --vocabulary $data_dir/vocab.en < $data_dir/val_tok.en > $data_dir/val.bpe.en\n",
        "! subword-nmt apply-bpe -c $data_dir/all_bpe.codes --vocabulary $data_dir/vocab.hi < $data_dir/val_tok.hi > $data_dir/val.bpe.hi\n",
        "\n",
        "! subword-nmt apply-bpe -c $data_dir/all_bpe.codes --vocabulary $data_dir/vocab.en < $data_dir/test_tok.en > $data_dir/test.bpe.en\n",
        "! subword-nmt apply-bpe -c $data_dir/all_bpe.codes --vocabulary $data_dir/vocab.hi < $data_dir/test_tok.hi > $data_dir/test.bpe.hi"
      ]
    },
    {
      "cell_type": "markdown",
      "metadata": {
        "id": "BN_ztS-jDfHi",
        "tags": []
      },
      "source": [
        "#### BPE Codes "
      ]
    },
    {
      "cell_type": "code",
      "execution_count": null,
      "metadata": {
        "id": "eNxagpoWDZJr",
        "tags": [],
        "pycharm": {
          "name": "#%%\n"
        }
      },
      "outputs": [],
      "source": [
        "! wc -l $data_dir/all_bpe.codes"
      ]
    },
    {
      "cell_type": "markdown",
      "metadata": {
        "id": "scSi553DDhrX",
        "tags": []
      },
      "source": [
        "#### BPE Parallel Corpus Sentence Pairs"
      ]
    },
    {
      "cell_type": "code",
      "execution_count": null,
      "metadata": {
        "id": "dQXLZD7WDk1w",
        "tags": [],
        "pycharm": {
          "name": "#%%\n"
        }
      },
      "outputs": [],
      "source": [
        "! wc -l $data_dir/train.bpe.en $data_dir/train.bpe.hi $data_dir/val.bpe.en $data_dir/val.bpe.hi $data_dir/test.bpe.en $data_dir/test.bpe.hi"
      ]
    },
    {
      "cell_type": "markdown",
      "metadata": {
        "id": "E6mDzMpdxLCR",
        "jp-MarkdownHeadingCollapsed": true,
        "tags": []
      },
      "source": [
        "### Vocabulary ____ Version1"
      ]
    },
    {
      "cell_type": "code",
      "execution_count": null,
      "metadata": {
        "id": "jo1nCiVE2fj4",
        "tags": []
      },
      "outputs": [],
      "source": [
        "# ! sudo chmod 777 joeynmt-1.3/scripts/build_vocab.py\n",
        "# ! joeynmt-1.3/scripts/build_vocab.py {data_dir}/train.bpe.en {data_dir}/train.bpe.hi --output_path {data_dir}/vocab.txt"
      ]
    },
    {
      "cell_type": "code",
      "execution_count": null,
      "metadata": {
        "id": "wEZ3mcrOxS76",
        "tags": []
      },
      "outputs": [],
      "source": [
        "# from pathlib import Path\n",
        "# config_v1 = \"\"\"\n",
        "# name: \"v1_enhi_transformer\"\n",
        "\n",
        "# data:\n",
        "#     src: \"en\"\n",
        "#     trg: \"hi\"\n",
        "#     train: \"{data_dir}/train.bpe\"\n",
        "#     dev:   \"{data_dir}/val.bpe\"\n",
        "#     test:   \"{data_dir}/test.bpe\"\n",
        "#     level: \"bpe\"\n",
        "#     lowercase: False\n",
        "#     max_sent_length: 60\n",
        "#     src_vocab: \"{data_dir}/vocab.txt\"\n",
        "#     trg_vocab: \"{data_dir}/vocab.txt\"\n",
        "\n",
        "# testing:\n",
        "#     beam_size: 5\n",
        "#     alpha: 1.0\n",
        "\n",
        "# training:\n",
        "#     #load_model: \"{model_dir}/latest.ckpt\" # if uncommented, load a pre-trained model from this checkpoint\n",
        "#     random_seed: 42\n",
        "#     optimizer: \"adam\"\n",
        "#     normalization: \"tokens\"\n",
        "#     adam_betas: [0.9, 0.999] \n",
        "#     scheduling: \"plateau\"           # TODO: try switching from plateau to Noam scheduling\n",
        "#     patience: 5                     # For plateau: decrease learning rate by decrease_factor if validation score has not improved for this many validation rounds.\n",
        "#     learning_rate_factor: 0.5       # factor for Noam scheduler (used with Transformer)\n",
        "#     learning_rate_warmup: 1000      # warmup steps for Noam scheduler (used with Transformer)\n",
        "#     decrease_factor: 0.7\n",
        "#     loss: \"crossentropy\"\n",
        "#     learning_rate: 0.0003\n",
        "#     learning_rate_min: 0.00000001\n",
        "#     weight_decay: 0.0\n",
        "#     label_smoothing: 0.1\n",
        "#     batch_size: 4096\n",
        "#     batch_type: \"token\"\n",
        "#     eval_batch_size: 3600\n",
        "#     eval_batch_type: \"token\"\n",
        "#     batch_multiplier: 1\n",
        "#     early_stopping_metric: \"ppl\"\n",
        "#     epochs: 100                     # TODO: Decrease for when playing around and checking of working. Around 30 is sufficient to check if its working at all\n",
        "#     validation_freq: 1000          # TODO: Set to at least once per epoch.\n",
        "#     logging_freq: 100\n",
        "#     eval_metric: \"bleu\"\n",
        "#     model_dir: {model_dir}\n",
        "#     overwrite: True               # TODO: Set to True if you want to overwrite possibly existing models. \n",
        "#     shuffle: True\n",
        "#     use_cuda: True\n",
        "#     max_output_length: 130\n",
        "#     print_valid_sents: [0, 1, 2, 3]\n",
        "#     keep_best_ckpts: 3\n",
        "    \n",
        "# model:\n",
        "#     initializer: \"xavier\"\n",
        "#     bias_initializer: \"zeros\"\n",
        "#     init_gain: 1.0\n",
        "#     embed_initializer: \"xavier\"\n",
        "#     embed_init_gain: 1.0\n",
        "#     tied_embeddings: True\n",
        "#     tied_softmax: True\n",
        "#     encoder:\n",
        "#         type: \"transformer\"\n",
        "#         num_layers: 6\n",
        "#         num_heads: 4             # TODO: Increase to 8 for larger data.\n",
        "#         embeddings:\n",
        "#             embedding_dim: 256   # TODO: Increase to 512 for larger data.\n",
        "#             scale: True\n",
        "#             dropout: 0.2\n",
        "#         # typically ff_size = 4 x hidden_size\n",
        "#         hidden_size: 256         # TODO: Increase to 512 for larger data.\n",
        "#         ff_size: 1024            # TODO: Increase to 2048 for larger data.\n",
        "#         dropout: 0.3\n",
        "#     decoder:\n",
        "#         type: \"transformer\"\n",
        "#         num_layers: 6\n",
        "#         num_heads: 4              # TODO: Increase to 8 for larger data.\n",
        "#         embeddings:\n",
        "#             embedding_dim: 256    # TODO: Increase to 512 for larger data.\n",
        "#             scale: True\n",
        "#             dropout: 0.2\n",
        "#         # typically ff_size = 4 x hidden_size\n",
        "#         hidden_size: 256         # TODO: Increase to 512 for larger data.\n",
        "#         ff_size: 1024            # TODO: Increase to 2048 for larger data.\n",
        "#         dropout: 0.3\n",
        "# \"\"\".format(model_dir=model_dir,data_dir=data_dir)\n",
        "# with (Path(data_dir) / \"config_v1.yaml\").open('w') as f:\n",
        "#     f.write(config_v1)"
      ]
    },
    {
      "cell_type": "markdown",
      "metadata": {
        "id": "Z1RMfXeT-V1m",
        "tags": [],
        "pycharm": {
          "name": "#%% md\n"
        }
      },
      "source": [
        "### Vocabulary ____ Version 2\n",
        "\n",
        "We will use the [sentencepiece](https://github.com/google/sentencepiece) library to split words into subwords (BPE) according to their frequency in the training corpus.\n",
        "\n",
        "`build_vocab.py` script will train the BPE model and creates joint vocabulary. It takes the same config file as the joeynmt.\n",
        "\n",
        "⚠️ Restart the run timee, and next step require high system resources with GPU compute."
      ]
    },
    {
      "cell_type": "code",
      "execution_count": null,
      "metadata": {
        "id": "xD54L6DPhXJY",
        "tags": [],
        "pycharm": {
          "name": "#%%\n"
        }
      },
      "outputs": [],
      "source": [
        "# Clear the memory\n",
        "# del dataset_dict\n",
        "# del df_datasets"
      ]
    },
    {
      "cell_type": "code",
      "execution_count": null,
      "metadata": {
        "id": "fJML2jYR1PlG"
      },
      "outputs": [],
      "source": [
        "# Create the config\n",
        "config = \"\"\"\n",
        "name: \"transformer_{datasize}_enhi_bpe\"\n",
        "joeynmt_version: \"2.0.0\"\n",
        "\n",
        "data:\n",
        "    train: \"{data_dir}/train_tok\"\n",
        "    dev: \"{data_dir}/val_tok\"\n",
        "    test: \"{data_dir}/test_tok\"\n",
        "    dataset_type: \"plain_ac\"\n",
        "    # dataset_cfg:           # not necessary for manually saved pyarray daraset\n",
        "    #     name: \"en-hi\"\n",
        "    src:\n",
        "        lang: \"en\"\n",
        "        max_length: 60\n",
        "        lowercase: False\n",
        "        level: \"bpe\"\n",
        "        voc_file: \"{data_dir}/vocab.en\"\n",
        "        tokenizer_type: \"subword-nmt\"\n",
        "        tokenizer_cfg:\n",
        "            codes: \"{data_dir}/en.bpe.codes\"\n",
        "            num_merges: 16000\n",
        "            # model_file: \"{data_dir}/sp_en.model\"\n",
        "            pretokenizer: \"moses\"\n",
        "\n",
        "    trg:\n",
        "        lang: \"hi\"\n",
        "        max_length: 60\n",
        "        lowercase: False\n",
        "        level: \"bpe\"\n",
        "        voc_file: \"{data_dir}/vocab.hi\"\n",
        "        tokenizer_type: \"subword-nmt\"\n",
        "        tokenizer_cfg:\n",
        "            codes: \"{data_dir}/hi.bpe.codes\"\n",
        "            num_merges: 16000\n",
        "            # model_file: \"{data_dir}/sp_hi.model\"\n",
        "            pretokenizer: \"none\"\n",
        "\n",
        "\"\"\".format(data_dir=data_dir,datasize=DATASIZE)\n",
        "with open(f\"{data_dir}/config.yaml\",'w') as f:\n",
        "    f.write(config)"
      ]
    },
    {
      "cell_type": "code",
      "execution_count": null,
      "metadata": {
        "id": "yW-aHNiKRpxh"
      },
      "outputs": [],
      "source": [
        "# HuggingFace Dataset load \n",
        "# # Create the config\n",
        "# config = \"\"\"\n",
        "# name: \"transformer_{datasize}_enhi_bpe\"\n",
        "# joeynmt_version: \"2.0.0\"\n",
        "\n",
        "# data:\n",
        "#     train: \"{data_dir}/train\"\n",
        "#     dev: \"{data_dir}/validation\"\n",
        "#     test: \"{data_dir}/test\"\n",
        "#     dataset_type: \"huggingface\"\n",
        "#     #dataset_cfg:           # not necessary for manually saved pyarray daraset\n",
        "#     #    name: \"en-hi\"\n",
        "#     src:\n",
        "#         lang: \"en\"\n",
        "#         max_length: 100\n",
        "#         lowercase: False\n",
        "#         level: \"bpe\"\n",
        "#         voc_file: \"{data_dir}/vocab.en\"\n",
        "#         tokenizer_type: \"subword-nmt\"\n",
        "#         tokenizer_cfg:\n",
        "#             codes: \"{data_dir}/all_bpe.codes.en\"\n",
        "#             num_merges: 32000\n",
        "#             pretokenizer: \"moses\"\n",
        "\n",
        "#     trg:\n",
        "#         lang: \"hi\"\n",
        "#         max_length: 100\n",
        "#         lowercase: False\n",
        "#         level: \"bpe\"\n",
        "#         voc_file: \"{data_dir}/vocab.hi\"\n",
        "#         tokenizer_type: \"subword-nmt\"\n",
        "#         tokenizer_cfg:\n",
        "#             codes: \"{data_dir}/all_bpe.codes.hi\"\n",
        "#             num_merges: 32000\n",
        "#             pretokenizer: \"moses\"\n",
        "\n",
        "# \"\"\".format(data_dir=data_dir,datasize=DATASIZE)\n",
        "# with open(f\"{data_dir}/config.yaml\",'w') as f:\n",
        "#     f.write(config)"
      ]
    },
    {
      "cell_type": "markdown",
      "metadata": {
        "id": "NhZ19OVyAEQH",
        "pycharm": {
          "name": "#%% md\n"
        }
      },
      "source": [
        "Now run the build_vocab.py from base joeynmt and generate bpe (byte pair encodings). as Hindi and English are very different languages and have no syntactical similarity we will not be using --joint flag."
      ]
    },
    {
      "cell_type": "code",
      "execution_count": null,
      "metadata": {
        "colab": {
          "base_uri": "https://localhost:8080/"
        },
        "id": "EMkbAmPz1Pnx",
        "outputId": "d9d00634-9bee-4cf5-8e66-e0aeea0a8df5"
      },
      "outputs": [
        {
          "name": "stdout",
          "output_type": "stream",
          "text": [
            "### Training bpe...\n",
            "100%|████████████████████████████████████| 16000/16000 [00:24<00:00, 665.49it/s]\n",
            "### Applying bpe...\n",
            "### Building vocab...\n",
            "### Done.\n",
            "### Training bpe...\n",
            "100%|████████████████████████████████████| 16000/16000 [00:28<00:00, 554.10it/s]\n",
            "### Applying bpe...\n",
            "### Building vocab...\n",
            "### Done.\n"
          ]
        }
      ],
      "source": [
        "!python build_vocab.py {data_dir}/config.yaml "
      ]
    },
    {
      "cell_type": "markdown",
      "metadata": {
        "id": "5gmLvwo9AO2i"
      },
      "source": [
        "The generated vocabulary looks like this:"
      ]
    },
    {
      "cell_type": "code",
      "execution_count": 45,
      "metadata": {
        "colab": {
          "base_uri": "https://localhost:8080/"
        },
        "id": "HN1n1gTKARR7",
        "outputId": "3d063488-44e9-49be-9941-163bf19748c1",
        "pycharm": {
          "name": "#%%\n"
        }
      },
      "outputs": [
        {
          "output_type": "stream",
          "name": "stdout",
          "text": [
            " 16170 /content/drive/MyDrive/data/datasets_enhi_100/vocab.hi\n",
            " 16017 /content/drive/MyDrive/data/datasets_enhi_100/vocab.en\n",
            " 32187 total\n",
            "यशुदा\n",
            "शत्र@@\n",
            "श्वत\n",
            "सतर्@@\n",
            "सांके@@\n",
            "ॐ@@\n",
            "क़\n",
            "ख़@@\n",
            "ग़@@\n",
            "य़@@\n"
          ]
        }
      ],
      "source": [
        "!wc -l {data_dir}/vocab.hi {data_dir}/vocab.en\n",
        "!tail -10 {data_dir}/vocab.hi"
      ]
    },
    {
      "cell_type": "markdown",
      "metadata": {
        "id": "j6cN9CPtAaPl",
        "pycharm": {
          "name": "#%% md\n"
        }
      },
      "source": [
        "### Configuration ___ Version 2\n",
        "\n",
        "Joey NMT reads model and training hyperparameters from a configuration file. We're generating this now to configure paths in the appropriate places.\n",
        "\n",
        "The configuration below builds a Transformer model with different embeddings for source and target language on the base of the BPE vocabularies created above."
      ]
    },
    {
      "cell_type": "code",
      "execution_count": null,
      "metadata": {
        "id": "OJcLOr_S2BTD",
        "pycharm": {
          "name": "#%%\n"
        }
      },
      "outputs": [],
      "source": [
        "\n",
        "config += \"\"\"\n",
        "active_learning:\n",
        "    query_size: 10000\n",
        "    interactive: False\n",
        "    pool_size: 6\n",
        "    batch_size: 256\n",
        "    num_workers: 4\n",
        "    num_queries: 5\n",
        "    al_percent : 30\n",
        "    query_strategy: \"margin\"\n",
        "    epoch: 5 \n",
        "\n",
        "testing:\n",
        "    n_best: 1\n",
        "    beam_size: 5\n",
        "    beam_alpha: 1.0\n",
        "    batch_size: 1024\n",
        "    batch_type: \"token\"\n",
        "    max_output_length: 130\n",
        "    eval_metrics: [\"bleu\"]\n",
        "    return_prob: \"none\"\n",
        "    return_attention: False\n",
        "    sacrebleu_cfg:\n",
        "        tokenize: \"13a\"\n",
        "        lowercase: False\n",
        "\n",
        "training:\n",
        "    #load_model: \"{model_dir}/{name}_transformer_{tag}/best.ckpt\"\n",
        "    #reset_best_ckpt: False\n",
        "    #reset_scheduler: False\n",
        "    #reset_optimizer: False\n",
        "    #reset_iter_state: False\n",
        "    random_seed: 42\n",
        "    optimizer: \"adam\"\n",
        "    normalization: \"tokens\"\n",
        "    adam_betas: [0.9, 0.999] \n",
        "    scheduling: \"plateau\"            # Try switching to Elan scheduling\n",
        "    learning_rate_decay_length: 2500 # number of steps to reduce by the decay factor for Elan method\n",
        "    learning_rate_peak: 0.005  # peak for Elan scheduler (default: 1)\n",
        "    learning_rate_warmup: 1000  # warmup steps for Elan scheduler\n",
        "    learning_rate_factor: 0.5       # factor for Noam scheduler (used with Transformer)\n",
        "    patience: 5\n",
        "    decrease_factor: 0.7\n",
        "    loss: \"crossentropy\"\n",
        "    learning_rate: 0.0003\n",
        "    learning_rate_min: 0.00000001\n",
        "    weight_decay: 0.0\n",
        "    label_smoothing: 0.1\n",
        "    batch_size: 4096\n",
        "    batch_type: \"token\"\n",
        "    batch_multiplier: 1\n",
        "    early_stopping_metric: \"ppl\"\n",
        "    epochs: 20 # TODO: Decrease for when playing around and checking of working. Around 30 is sufficient to check if its working at all\n",
        "    validation_freq: 1000 # 4000 # Decrease this for testing\n",
        "    logging_freq: 100\n",
        "    model_dir: \"{model_dir}/{name}_transformer_{tag}\"\n",
        "    overwrite: False\n",
        "    shuffle: True\n",
        "    use_cuda: True\n",
        "    print_valid_sents: [0, 1, 2, 3]\n",
        "    keep_best_ckpts: 3\n",
        "\n",
        "model:\n",
        "    initializer: \"xavier\"\n",
        "    bias_initializer: \"zeros\"\n",
        "    init_gain: 1.0\n",
        "    embed_initializer: \"xavier\"\n",
        "    embed_init_gain: 1.0\n",
        "    tied_embeddings: False\n",
        "    tied_softmax: True\n",
        "    encoder:\n",
        "        type: \"transformer\"\n",
        "        num_layers: 6\n",
        "        num_heads: 4\n",
        "        embeddings:\n",
        "            embedding_dim: 256\n",
        "            scale: True\n",
        "            dropout: 0.2\n",
        "        # typically ff_size = 4 x hidden_size\n",
        "        hidden_size: 256\n",
        "        ff_size: 1024\n",
        "        dropout: 0.3\n",
        "        layer_norm: \"pre\"\n",
        "    decoder:\n",
        "        type: \"transformer\"\n",
        "        num_layers: 6\n",
        "        num_heads: 4\n",
        "        embeddings:\n",
        "            embedding_dim: 256\n",
        "            scale: True\n",
        "            dropout: 0.2\n",
        "        # typically ff_size = 4 x hidden_size\n",
        "        hidden_size: 256\n",
        "        ff_size: 1024\n",
        "        dropout: 0.3\n",
        "        layer_norm: \"pre\"\n",
        "\n",
        "\"\"\".format(model_dir=model_dir,name=\"enhi\",tag=\"t1_baseline\")\n",
        "with open(f\"{data_dir}/config.yaml\",'w') as f:\n",
        "    f.write(config)"
      ]
    },
    {
      "cell_type": "markdown",
      "metadata": {
        "id": "D5jI6gvQGris",
        "pycharm": {
          "name": "#%% md\n"
        }
      },
      "source": [
        "We performed random optimisation based on below set of hyper-parameters.\n",
        " 1. dropout\n",
        " 2. label smoothing\n",
        " 3. layer normalization\n",
        " 4. tied embeddings\n",
        " 5. tied softmax\n",
        " 6. weight decay\n",
        " 7. learning rate warmup\n",
        " 8. batch multiplier (gradient accumulation)\n",
        " 9. early stopping with patience\n",
        " 10. fp16 (half-precision)\n",
        " 11. label smoothing\n",
        " 12. beam alpha (length penalty)\n",
        " 13. repetition penalty\n",
        " 14. ngram blocker\n",
        " 15. n best outputs\n"
      ]
    },
    {
      "cell_type": "markdown",
      "source": [
        "We also changed few more model parameters to understand the model better.\n",
        " - architecture size: more layers, more heads, etc.\n",
        " - Try different initialization\n",
        " - Change training hyper params:\n",
        "   - bigger batch size, different batch type\n",
        "   - different optimizer\n",
        "   - different learning rate scheduler"
      ],
      "metadata": {
        "collapsed": false,
        "pycharm": {
          "name": "#%% md\n"
        },
        "id": "-jA7TSt2OMGk"
      }
    },
    {
      "cell_type": "markdown",
      "metadata": {
        "id": "w45HbBfeMW38",
        "pycharm": {
          "name": "#%% md\n"
        }
      },
      "source": [
        "## Model Training\n",
        "\n",
        "### Tensorboard\n",
        "We'll use TensorBoard to visualize the training progress on the go. This requires enabling Cookies in the browser.\n",
        "\n",
        "TensorBoard will be empty at first.\n",
        "While the model is training, click the refresh button on the top right of the board to track how the model is doing."
      ]
    },
    {
      "cell_type": "code",
      "execution_count": null,
      "metadata": {
        "pycharm": {
          "name": "#%%\n"
        },
        "colab": {
          "base_uri": "https://localhost:8080/"
        },
        "id": "un-pBesUOMGl",
        "outputId": "00bcb09e-d552-41e7-9117-5748c901eefb"
      },
      "outputs": [
        {
          "output_type": "stream",
          "name": "stdout",
          "text": [
            "/content/drive/MyDrive//models/v1_enhi_100_transformer\n",
            "/content/drive/MyDrive//data/datasets_enhi_100\n"
          ]
        }
      ],
      "source": [
        "!echo {model_dir}\n",
        "!echo {data_dir}"
      ]
    },
    {
      "cell_type": "code",
      "execution_count": null,
      "metadata": {
        "id": "08THkiV41PqU"
      },
      "outputs": [],
      "source": [
        "# Load the TensorBoard notebook extension.\n",
        "%load_ext tensorboard"
      ]
    },
    {
      "cell_type": "code",
      "execution_count": null,
      "metadata": {
        "id": "imVe5kFL1PtB"
      },
      "outputs": [],
      "source": [
        "%tensorboard --logdir {model_dir}/enhi_transformer_t1/tensorboard"
      ]
    },
    {
      "cell_type": "markdown",
      "metadata": {
        "id": "pH0-HBLLBLmR"
      },
      "source": [
        "### Run training\n",
        "⏳ This will take a while. Model parameters will be stored on mounted google drive. The log reports the training process, look out for the prints of example translations and the BLEU evaluation scores to get an impression of the current quality.\n",
        "\n",
        "> ⛔ If you execute this twice, you might get an error that the model directory already exists. You can specify in the configuration to overwrite it, or delete it manually (`!rm -r {model_dir}`)."
      ]
    },
    {
      "cell_type": "code",
      "source": [
        "!python main.py active_learning {data_dir}/baseline_config.yaml"
      ],
      "metadata": {
        "colab": {
          "base_uri": "https://localhost:8080/"
        },
        "id": "JBgkO3xg9KW9",
        "outputId": "fd3562a5-b886-4174-80ed-5fb6b3331cf0"
      },
      "execution_count": 14,
      "outputs": [
        {
          "output_type": "stream",
          "name": "stdout",
          "text": [
            "2022-09-15 09:35:23,608 - INFO - joeynmt.training - \tReference:  अभिनय , गति संचालन और मूकाभिनय\n",
            "2022-09-15 09:35:23,608 - INFO - joeynmt.training - \tHypothesis: कार्य , गति और आईएमई\n",
            "2022-09-15 09:35:23,609 - INFO - joeynmt.training - Example #3\n",
            "2022-09-15 09:35:23,609 - DEBUG - joeynmt.training - \tTokenized source:     ['speech', 'and', 'voice', 'training']\n",
            "2022-09-15 09:35:23,609 - DEBUG - joeynmt.training - \tTokenized reference:  ['भाषण', 'शैली', 'और', 'वा@@', 'क्', 'प्रशिक्षण']\n",
            "2022-09-15 09:35:23,609 - DEBUG - joeynmt.training - \tTokenized hypothesis: ['भाषण', 'और', 'आवाज', 'प्रशिक्षण', '</s>']\n",
            "2022-09-15 09:35:23,626 - INFO - joeynmt.training - \tSource:     speech and voice training\n",
            "2022-09-15 09:35:23,626 - INFO - joeynmt.training - \tReference:  भाषण शैली और वाक् प्रशिक्षण\n",
            "2022-09-15 09:35:23,626 - INFO - joeynmt.training - \tHypothesis: भाषण और आवाज प्रशिक्षण\n",
            "2022-09-15 09:35:35,250 - INFO - joeynmt.training - Epoch  20, Step:   281100, Batch Loss:     2.098331, Batch Acc: 0.004375, Tokens per Sec:     7952, Lr: 0.000000\n",
            "2022-09-15 09:35:46,767 - INFO - joeynmt.training - Epoch  20, Step:   281200, Batch Loss:     2.081807, Batch Acc: 0.006548, Tokens per Sec:     7997, Lr: 0.000000\n",
            "2022-09-15 09:35:58,241 - INFO - joeynmt.training - Epoch  20, Step:   281300, Batch Loss:     2.175178, Batch Acc: 0.005627, Tokens per Sec:     8055, Lr: 0.000000\n",
            "2022-09-15 09:36:07,287 - INFO - joeynmt.training - Epoch  20: total training loss 28885.75\n",
            "2022-09-15 09:36:07,288 - INFO - joeynmt.training - Training ended after  20 epochs.\n",
            "2022-09-15 09:36:07,288 - INFO - joeynmt.training - Best validation result (greedy) at step   211000:  21.00 ppl.\n",
            "2022-09-15 09:36:07,303 - INFO - joeynmt.model - Building an encoder-decoder model...\n",
            "2022-09-15 09:36:07,303 - INFO - joeynmt.model - Pytorch version 1.12.1+cu102 torch.version.cuda 10.2 Cuda available True Cuda devices 1\n",
            "2022-09-15 09:36:07,647 - INFO - joeynmt.model - Enc-dec model built.\n",
            "2022-09-15 09:36:07,653 - INFO - joeynmt.model - Total params: 19302144\n",
            "2022-09-15 09:36:07,915 - INFO - joeynmt.helpers - Load model from /home/ubuntu/joeynmt_kriti/models/v1_enhi_100_transformer/enhi_transformer_t1_r3/211000.ckpt.\n",
            "2022-09-15 09:36:07,981 - INFO - joeynmt.prediction - Decoding on dev set...\n",
            "2022-09-15 09:36:07,981 - INFO - joeynmt.prediction - Predicting 40856 example(s)... (Beam search with beam_size=5, beam_alpha=1.0, n_best=1, min_output_length=1, max_output_length=130, return_prob='none', generate_unk=True, repetition_penalty=-1, no_repeat_ngram_size=-1)\n",
            "2022-09-15 10:08:18,269 - INFO - joeynmt.metrics - nrefs:1|case:mixed|eff:no|tok:13a|smooth:exp|version:2.2.0\n",
            "2022-09-15 10:08:18,271 - INFO - joeynmt.prediction - Evaluation result (beam search) bleu:  16.55, generation: 1919.7881[sec], evaluation: 9.9911[sec]\n",
            "2022-09-15 10:08:18,331 - INFO - joeynmt.prediction - Translations saved to: /home/ubuntu/joeynmt_kriti/models/v1_enhi_100_transformer/enhi_transformer_t1_r3/00211000.hyps.dev.\n",
            "2022-09-15 10:08:18,331 - INFO - joeynmt.prediction - Decoding on test set...\n",
            "2022-09-15 10:08:18,331 - INFO - joeynmt.prediction - Predicting 40858 example(s)... (Beam search with beam_size=5, beam_alpha=1.0, n_best=1, min_output_length=1, max_output_length=130, return_prob='none', generate_unk=True, repetition_penalty=-1, no_repeat_ngram_size=-1)\n",
            "2022-09-15 10:38:24,758 - INFO - joeynmt.metrics - nrefs:1|case:mixed|eff:no|tok:13a|smooth:exp|version:2.2.0\n",
            "2022-09-15 10:38:24,759 - INFO - joeynmt.prediction - Evaluation result (beam search) bleu:  18.26, generation: 1795.7419[sec], evaluation: 10.1750[sec]\n",
            "2022-09-15 10:38:24,829 - INFO - joeynmt.prediction - Translations saved to: /home/ubuntu/joeynmt_kriti/models/v1_enhi_100_transformer/enhi_transformer_t1_r3/00211000.hyps.test.\n"
          ]
        }
      ]
    },
    {
      "cell_type": "code",
      "execution_count": 31,
      "metadata": {
        "colab": {
          "base_uri": "https://localhost:8080/"
        },
        "id": "wTbfgVOq2BfB",
        "outputId": "127a07e9-6358-4cfb-99a6-2b0f7e020780",
        "pycharm": {
          "name": "#%%\n"
        }
      },
      "outputs": [
        {
          "output_type": "stream",
          "name": "stdout",
          "text": [
            "2022-09-16 13:56:08,121 - INFO - joeynmt.training - Epoch   1, Step:   264200, Batch Loss:     2.647632, Batch Acc: 0.004381, Tokens per Sec:     5079, Lr: 0.000035\n",
            "2022-09-16 13:56:31,218 - INFO - joeynmt.training - Epoch   1, Step:   264300, Batch Loss:     2.585308, Batch Acc: 0.004668, Tokens per Sec:     4897, Lr: 0.000035\n",
            "2022-09-16 13:56:54,022 - INFO - joeynmt.training - Epoch   1, Step:   264400, Batch Loss:     2.546415, Batch Acc: 0.004083, Tokens per Sec:     5080, Lr: 0.000035\n",
            "2022-09-16 13:57:16,810 - INFO - joeynmt.training - Epoch   1, Step:   264500, Batch Loss:     2.468932, Batch Acc: 0.004131, Tokens per Sec:     4972, Lr: 0.000035\n",
            "2022-09-16 13:57:39,692 - INFO - joeynmt.training - Epoch   1, Step:   264600, Batch Loss:     2.529605, Batch Acc: 0.005020, Tokens per Sec:     5032, Lr: 0.000035\n",
            "2022-09-16 13:58:02,560 - INFO - joeynmt.training - Epoch   1, Step:   264700, Batch Loss:     2.460216, Batch Acc: 0.004899, Tokens per Sec:     5044, Lr: 0.000035\n",
            "2022-09-16 13:58:25,450 - INFO - joeynmt.training - Epoch   1, Step:   264800, Batch Loss:     2.463950, Batch Acc: 0.004093, Tokens per Sec:     5070, Lr: 0.000035\n",
            "2022-09-16 13:58:48,232 - INFO - joeynmt.training - Epoch   1, Step:   264900, Batch Loss:     2.731308, Batch Acc: 0.004545, Tokens per Sec:     5012, Lr: 0.000035\n",
            "2022-09-16 13:59:10,931 - INFO - joeynmt.training - Epoch   1, Step:   265000, Batch Loss:     2.621557, Batch Acc: 0.004642, Tokens per Sec:     4983, Lr: 0.000035\n",
            "2022-09-16 11:56:48,196 - INFO - joeynmt.training - Epoch   1: total training loss 38205.03\n",
            "2022-09-16 11:56:48,196 - INFO - joeynmt.training - Training ended after   1 epochs.\n",
            "2022-09-16 11:56:48,197 - INFO - joeynmt.training - Best validation result (greedy) at step   273000:  11.71 ppl.\n",
            "2022-09-16 11:56:48,197 - INFO - joeynmt.training - Loading from ckpt file: /home/ubuntu/joeynmt_kriti/models/v1_enhi_100_transformer/enhi_transformer_t1_least_confidence_resume/273000.ckpt\n",
            "2022-09-16 11:56:48,215 - INFO - joeynmt.model - Building an encoder-decoder model...\n",
            "2022-09-16 11:56:48,215 - INFO - joeynmt.model - Pytorch version 1.12.1+cu102 torch.version.cuda 10.2 Cuda available True Cuda devices 1\n",
            "2022-09-16 11:56:48,549 - INFO - joeynmt.model - Enc-dec model built.\n",
            "2022-09-16 11:56:48,554 - INFO - joeynmt.model - Total params: 19302144\n",
            "2022-09-16 11:56:48,555 - DEBUG - joeynmt.model - Trainable parameters: ['decoder.layer_norm.bias', 'decoder.layer_norm.weight', 'decoder.layers.0.dec_layer_norm.bias', 'decoder.layers.0.dec_layer_norm.weight', 'decoder.layers.0.feed_forward.layer_norm.bias', 'decoder.layers.0.feed_forward.layer_norm.weight', 'decoder.layers.0.feed_forward.pwff_layer.0.bias', 'decoder.layers.0.feed_forward.pwff_layer.0.weight', 'decoder.layers.0.feed_forward.pwff_layer.3.bias', 'decoder.layers.0.feed_forward.pwff_layer.3.weight', 'decoder.layers.0.src_trg_att.k_layer.bias', 'decoder.layers.0.src_trg_att.k_layer.weight', 'decoder.layers.0.src_trg_att.output_layer.bias', 'decoder.layers.0.src_trg_att.output_layer.weight', 'decoder.layers.0.src_trg_att.q_layer.bias', 'decoder.layers.0.src_trg_att.q_layer.weight', 'decoder.layers.0.src_trg_att.v_layer.bias', 'decoder.layers.0.src_trg_att.v_layer.weight', 'decoder.layers.0.trg_trg_att.k_layer.bias', 'decoder.layers.0.trg_trg_att.k_layer.weight', 'decoder.layers.0.trg_trg_att.output_layer.bias', 'decoder.layers.0.trg_trg_att.output_layer.weight', 'decoder.layers.0.trg_trg_att.q_layer.bias', 'decoder.layers.0.trg_trg_att.q_layer.weight', 'decoder.layers.0.trg_trg_att.v_layer.bias', 'decoder.layers.0.trg_trg_att.v_layer.weight', 'decoder.layers.0.x_layer_norm.bias', 'decoder.layers.0.x_layer_norm.weight', 'decoder.layers.1.dec_layer_norm.bias', 'decoder.layers.1.dec_layer_norm.weight', 'decoder.layers.1.feed_forward.layer_norm.bias', 'decoder.layers.1.feed_forward.layer_norm.weight', 'decoder.layers.1.feed_forward.pwff_layer.0.bias', 'decoder.layers.1.feed_forward.pwff_layer.0.weight', 'decoder.layers.1.feed_forward.pwff_layer.3.bias', 'decoder.layers.1.feed_forward.pwff_layer.3.weight', 'decoder.layers.1.src_trg_att.k_layer.bias', 'decoder.layers.1.src_trg_att.k_layer.weight', 'decoder.layers.1.src_trg_att.output_layer.bias', 'decoder.layers.1.src_trg_att.output_layer.weight', 'decoder.layers.1.src_trg_att.q_layer.bias', 'decoder.layers.1.src_trg_att.q_layer.weight', 'decoder.layers.1.src_trg_att.v_layer.bias', 'decoder.layers.1.src_trg_att.v_layer.weight', 'decoder.layers.1.trg_trg_att.k_layer.bias', 'decoder.layers.1.trg_trg_att.k_layer.weight', 'decoder.layers.1.trg_trg_att.output_layer.bias', 'decoder.layers.1.trg_trg_att.output_layer.weight', 'decoder.layers.1.trg_trg_att.q_layer.bias', 'decoder.layers.1.trg_trg_att.q_layer.weight', 'decoder.layers.1.trg_trg_att.v_layer.bias', 'decoder.layers.1.trg_trg_att.v_layer.weight', 'decoder.layers.1.x_layer_norm.bias', 'decoder.layers.1.x_layer_norm.weight', 'decoder.layers.2.dec_layer_norm.bias', 'decoder.layers.2.dec_layer_norm.weight', 'decoder.layers.2.feed_forward.layer_norm.bias', 'decoder.layers.2.feed_forward.layer_norm.weight', 'decoder.layers.2.feed_forward.pwff_layer.0.bias', 'decoder.layers.2.feed_forward.pwff_layer.0.weight', 'decoder.layers.2.feed_forward.pwff_layer.3.bias', 'decoder.layers.2.feed_forward.pwff_layer.3.weight', 'decoder.layers.2.src_trg_att.k_layer.bias', 'decoder.layers.2.src_trg_att.k_layer.weight', 'decoder.layers.2.src_trg_att.output_layer.bias', 'decoder.layers.2.src_trg_att.output_layer.weight', 'decoder.layers.2.src_trg_att.q_layer.bias', 'decoder.layers.2.src_trg_att.q_layer.weight', 'decoder.layers.2.src_trg_att.v_layer.bias', 'decoder.layers.2.src_trg_att.v_layer.weight', 'decoder.layers.2.trg_trg_att.k_layer.bias', 'decoder.layers.2.trg_trg_att.k_layer.weight', 'decoder.layers.2.trg_trg_att.output_layer.bias', 'decoder.layers.2.trg_trg_att.output_layer.weight', 'decoder.layers.2.trg_trg_att.q_layer.bias', 'decoder.layers.2.trg_trg_att.q_layer.weight', 'decoder.layers.2.trg_trg_att.v_layer.bias', 'decoder.layers.2.trg_trg_att.v_layer.weight', 'decoder.layers.2.x_layer_norm.bias', 'decoder.layers.2.x_layer_norm.weight', 'decoder.layers.3.dec_layer_norm.bias', 'decoder.layers.3.dec_layer_norm.weight', 'decoder.layers.3.feed_forward.layer_norm.bias', 'decoder.layers.3.feed_forward.layer_norm.weight', 'decoder.layers.3.feed_forward.pwff_layer.0.bias', 'decoder.layers.3.feed_forward.pwff_layer.0.weight', 'decoder.layers.3.feed_forward.pwff_layer.3.bias', 'decoder.layers.3.feed_forward.pwff_layer.3.weight', 'decoder.layers.3.src_trg_att.k_layer.bias', 'decoder.layers.3.src_trg_att.k_layer.weight', 'decoder.layers.3.src_trg_att.output_layer.bias', 'decoder.layers.3.src_trg_att.output_layer.weight', 'decoder.layers.3.src_trg_att.q_layer.bias', 'decoder.layers.3.src_trg_att.q_layer.weight', 'decoder.layers.3.src_trg_att.v_layer.bias', 'decoder.layers.3.src_trg_att.v_layer.weight', 'decoder.layers.3.trg_trg_att.k_layer.bias', 'decoder.layers.3.trg_trg_att.k_layer.weight', 'decoder.layers.3.trg_trg_att.output_layer.bias', 'decoder.layers.3.trg_trg_att.output_layer.weight', 'decoder.layers.3.trg_trg_att.q_layer.bias', 'decoder.layers.3.trg_trg_att.q_layer.weight', 'decoder.layers.3.trg_trg_att.v_layer.bias', 'decoder.layers.3.trg_trg_att.v_layer.weight', 'decoder.layers.3.x_layer_norm.bias', 'decoder.layers.3.x_layer_norm.weight', 'decoder.layers.4.dec_layer_norm.bias', 'decoder.layers.4.dec_layer_norm.weight', 'decoder.layers.4.feed_forward.layer_norm.bias', 'decoder.layers.4.feed_forward.layer_norm.weight', 'decoder.layers.4.feed_forward.pwff_layer.0.bias', 'decoder.layers.4.feed_forward.pwff_layer.0.weight', 'decoder.layers.4.feed_forward.pwff_layer.3.bias', 'decoder.layers.4.feed_forward.pwff_layer.3.weight', 'decoder.layers.4.src_trg_att.k_layer.bias', 'decoder.layers.4.src_trg_att.k_layer.weight', 'decoder.layers.4.src_trg_att.output_layer.bias', 'decoder.layers.4.src_trg_att.output_layer.weight', 'decoder.layers.4.src_trg_att.q_layer.bias', 'decoder.layers.4.src_trg_att.q_layer.weight', 'decoder.layers.4.src_trg_att.v_layer.bias', 'decoder.layers.4.src_trg_att.v_layer.weight', 'decoder.layers.4.trg_trg_att.k_layer.bias', 'decoder.layers.4.trg_trg_att.k_layer.weight', 'decoder.layers.4.trg_trg_att.output_layer.bias', 'decoder.layers.4.trg_trg_att.output_layer.weight', 'decoder.layers.4.trg_trg_att.q_layer.bias', 'decoder.layers.4.trg_trg_att.q_layer.weight', 'decoder.layers.4.trg_trg_att.v_layer.bias', 'decoder.layers.4.trg_trg_att.v_layer.weight', 'decoder.layers.4.x_layer_norm.bias', 'decoder.layers.4.x_layer_norm.weight', 'decoder.layers.5.dec_layer_norm.bias', 'decoder.layers.5.dec_layer_norm.weight', 'decoder.layers.5.feed_forward.layer_norm.bias', 'decoder.layers.5.feed_forward.layer_norm.weight', 'decoder.layers.5.feed_forward.pwff_layer.0.bias', 'decoder.layers.5.feed_forward.pwff_layer.0.weight', 'decoder.layers.5.feed_forward.pwff_layer.3.bias', 'decoder.layers.5.feed_forward.pwff_layer.3.weight', 'decoder.layers.5.src_trg_att.k_layer.bias', 'decoder.layers.5.src_trg_att.k_layer.weight', 'decoder.layers.5.src_trg_att.output_layer.bias', 'decoder.layers.5.src_trg_att.output_layer.weight', 'decoder.layers.5.src_trg_att.q_layer.bias', 'decoder.layers.5.src_trg_att.q_layer.weight', 'decoder.layers.5.src_trg_att.v_layer.bias', 'decoder.layers.5.src_trg_att.v_layer.weight', 'decoder.layers.5.trg_trg_att.k_layer.bias', 'decoder.layers.5.trg_trg_att.k_layer.weight', 'decoder.layers.5.trg_trg_att.output_layer.bias', 'decoder.layers.5.trg_trg_att.output_layer.weight', 'decoder.layers.5.trg_trg_att.q_layer.bias', 'decoder.layers.5.trg_trg_att.q_layer.weight', 'decoder.layers.5.trg_trg_att.v_layer.bias', 'decoder.layers.5.trg_trg_att.v_layer.weight', 'decoder.layers.5.x_layer_norm.bias', 'decoder.layers.5.x_layer_norm.weight', 'encoder.layer_norm.bias', 'encoder.layer_norm.weight', 'encoder.layers.0.feed_forward.layer_norm.bias', 'encoder.layers.0.feed_forward.layer_norm.weight', 'encoder.layers.0.feed_forward.pwff_layer.0.bias', 'encoder.layers.0.feed_forward.pwff_layer.0.weight', 'encoder.layers.0.feed_forward.pwff_layer.3.bias', 'encoder.layers.0.feed_forward.pwff_layer.3.weight', 'encoder.layers.0.layer_norm.bias', 'encoder.layers.0.layer_norm.weight', 'encoder.layers.0.src_src_att.k_layer.bias', 'encoder.layers.0.src_src_att.k_layer.weight', 'encoder.layers.0.src_src_att.output_layer.bias', 'encoder.layers.0.src_src_att.output_layer.weight', 'encoder.layers.0.src_src_att.q_layer.bias', 'encoder.layers.0.src_src_att.q_layer.weight', 'encoder.layers.0.src_src_att.v_layer.bias', 'encoder.layers.0.src_src_att.v_layer.weight', 'encoder.layers.1.feed_forward.layer_norm.bias', 'encoder.layers.1.feed_forward.layer_norm.weight', 'encoder.layers.1.feed_forward.pwff_layer.0.bias', 'encoder.layers.1.feed_forward.pwff_layer.0.weight', 'encoder.layers.1.feed_forward.pwff_layer.3.bias', 'encoder.layers.1.feed_forward.pwff_layer.3.weight', 'encoder.layers.1.layer_norm.bias', 'encoder.layers.1.layer_norm.weight', 'encoder.layers.1.src_src_att.k_layer.bias', 'encoder.layers.1.src_src_att.k_layer.weight', 'encoder.layers.1.src_src_att.output_layer.bias', 'encoder.layers.1.src_src_att.output_layer.weight', 'encoder.layers.1.src_src_att.q_layer.bias', 'encoder.layers.1.src_src_att.q_layer.weight', 'encoder.layers.1.src_src_att.v_layer.bias', 'encoder.layers.1.src_src_att.v_layer.weight', 'encoder.layers.2.feed_forward.layer_norm.bias', 'encoder.layers.2.feed_forward.layer_norm.weight', 'encoder.layers.2.feed_forward.pwff_layer.0.bias', 'encoder.layers.2.feed_forward.pwff_layer.0.weight', 'encoder.layers.2.feed_forward.pwff_layer.3.bias', 'encoder.layers.2.feed_forward.pwff_layer.3.weight', 'encoder.layers.2.layer_norm.bias', 'encoder.layers.2.layer_norm.weight', 'encoder.layers.2.src_src_att.k_layer.bias', 'encoder.layers.2.src_src_att.k_layer.weight', 'encoder.layers.2.src_src_att.output_layer.bias', 'encoder.layers.2.src_src_att.output_layer.weight', 'encoder.layers.2.src_src_att.q_layer.bias', 'encoder.layers.2.src_src_att.q_layer.weight', 'encoder.layers.2.src_src_att.v_layer.bias', 'encoder.layers.2.src_src_att.v_layer.weight', 'encoder.layers.3.feed_forward.layer_norm.bias', 'encoder.layers.3.feed_forward.layer_norm.weight', 'encoder.layers.3.feed_forward.pwff_layer.0.bias', 'encoder.layers.3.feed_forward.pwff_layer.0.weight', 'encoder.layers.3.feed_forward.pwff_layer.3.bias', 'encoder.layers.3.feed_forward.pwff_layer.3.weight', 'encoder.layers.3.layer_norm.bias', 'encoder.layers.3.layer_norm.weight', 'encoder.layers.3.src_src_att.k_layer.bias', 'encoder.layers.3.src_src_att.k_layer.weight', 'encoder.layers.3.src_src_att.output_layer.bias', 'encoder.layers.3.src_src_att.output_layer.weight', 'encoder.layers.3.src_src_att.q_layer.bias', 'encoder.layers.3.src_src_att.q_layer.weight', 'encoder.layers.3.src_src_att.v_layer.bias', 'encoder.layers.3.src_src_att.v_layer.weight', 'encoder.layers.4.feed_forward.layer_norm.bias', 'encoder.layers.4.feed_forward.layer_norm.weight', 'encoder.layers.4.feed_forward.pwff_layer.0.bias', 'encoder.layers.4.feed_forward.pwff_layer.0.weight', 'encoder.layers.4.feed_forward.pwff_layer.3.bias', 'encoder.layers.4.feed_forward.pwff_layer.3.weight', 'encoder.layers.4.layer_norm.bias', 'encoder.layers.4.layer_norm.weight', 'encoder.layers.4.src_src_att.k_layer.bias', 'encoder.layers.4.src_src_att.k_layer.weight', 'encoder.layers.4.src_src_att.output_layer.bias', 'encoder.layers.4.src_src_att.output_layer.weight', 'encoder.layers.4.src_src_att.q_layer.bias', 'encoder.layers.4.src_src_att.q_layer.weight', 'encoder.layers.4.src_src_att.v_layer.bias', 'encoder.layers.4.src_src_att.v_layer.weight', 'encoder.layers.5.feed_forward.layer_norm.bias', 'encoder.layers.5.feed_forward.layer_norm.weight', 'encoder.layers.5.feed_forward.pwff_layer.0.bias', 'encoder.layers.5.feed_forward.pwff_layer.0.weight', 'encoder.layers.5.feed_forward.pwff_layer.3.bias', 'encoder.layers.5.feed_forward.pwff_layer.3.weight', 'encoder.layers.5.layer_norm.bias', 'encoder.layers.5.layer_norm.weight', 'encoder.layers.5.src_src_att.k_layer.bias', 'encoder.layers.5.src_src_att.k_layer.weight', 'encoder.layers.5.src_src_att.output_layer.bias', 'encoder.layers.5.src_src_att.output_layer.weight', 'encoder.layers.5.src_src_att.q_layer.bias', 'encoder.layers.5.src_src_att.q_layer.weight', 'encoder.layers.5.src_src_att.v_layer.bias', 'encoder.layers.5.src_src_att.v_layer.weight', 'src_embed.lut.weight', 'trg_embed.lut.weight']\n",
            "2022-09-16 11:56:48,821 - INFO - joeynmt.helpers - Load model from /home/ubuntu/joeynmt_kriti/models/v1_enhi_100_transformer/enhi_transformer_t1_least_confidence_resume/273000.ckpt.\n",
            "2022-09-16 11:56:48,887 - INFO - joeynmt.prediction - Decoding on dev set...\n",
            "2022-09-16 11:56:48,887 - INFO - joeynmt.prediction - Predicting 40856 example(s)... (Beam search with beam_size=5, beam_alpha=1.0, n_best=1, min_output_length=1, max_output_length=130, return_prob='none', generate_unk=True, repetition_penalty=-1, no_repeat_ngram_size=-1)\n",
            "2022-09-16 12:22:50,694 - INFO - joeynmt.metrics - nrefs:1|case:mixed|eff:no|tok:13a|smooth:exp|version:2.2.0\n",
            "2022-09-16 12:22:50,696 - INFO - joeynmt.prediction - Evaluation result (beam search) bleu:  24.25, generation: 1551.1021[sec], evaluation: 10.1985[sec]\n",
            "2022-09-16 12:22:50,757 - INFO - joeynmt.prediction - Translations saved to: /home/ubuntu/joeynmt_kriti/models/v1_enhi_100_transformer/enhi_transformer_t1_least_confidence_resume/00273000.hyps.dev.\n",
            "2022-09-16 12:22:50,757 - INFO - joeynmt.prediction - Decoding on test set...\n",
            "2022-09-16 12:22:50,757 - INFO - joeynmt.prediction - Predicting 40858 example(s)... (Beam search with beam_size=5, beam_alpha=1.0, n_best=1, min_output_length=1, max_output_length=130, return_prob='none', generate_unk=True, repetition_penalty=-1, no_repeat_ngram_size=-1)\n",
            "2022-09-16 12:47:40,361 - INFO - joeynmt.metrics - nrefs:1|case:mixed|eff:no|tok:13a|smooth:exp|version:2.2.0\n",
            "2022-09-16 12:47:40,363 - INFO - joeynmt.prediction - Evaluation result (beam search) bleu:  23.20, generation: 1478.8113[sec], evaluation: 10.2912[sec]\n",
            "2022-09-16 12:47:40,434 - INFO - joeynmt.prediction - Translations saved to: /home/ubuntu/joeynmt_kriti/models/v1_enhi_100_transformer/enhi_transformer_t1_least_confidence_resume/00273000.hyps.test.\n",
            "2022-09-16 12:47:40,447 - INFO - joeynmt.training - ACTIVE LEARNING MODEL END - MARGIN 5\n"
          ]
        }
      ],
      "source": [
        "!python main.py active_learning {data_dir}/margin_config.yaml"
      ]
    },
    {
      "cell_type": "code",
      "execution_count": 30,
      "outputs": [
        {
          "output_type": "stream",
          "name": "stdout",
          "text": [
            "2022-09-16 11:55:11,985 - INFO - joeynmt.training - \tReference:  भाषण शैली और वाक् प्रशिक्षण\n",
            "2022-09-16 11:55:11,986 - INFO - joeynmt.training - \tHypothesis: भाषण और आवाज प्रशिक्षण\n",
            "2022-09-16 11:55:23,887 - INFO - joeynmt.training - Epoch   1, Step:   275100, Batch Loss:     2.575066, Batch Acc: 0.005007, Tokens per Sec:     9680, Lr: 0.000035\n",
            "2022-09-16 11:55:35,733 - INFO - joeynmt.training - Epoch   1, Step:   275200, Batch Loss:     2.583625, Batch Acc: 0.004339, Tokens per Sec:     9728, Lr: 0.000035\n",
            "2022-09-16 11:55:47,570 - INFO - joeynmt.training - Epoch   1, Step:   275300, Batch Loss:     2.597494, Batch Acc: 0.004560, Tokens per Sec:     9652, Lr: 0.000035\n",
            "2022-09-16 11:55:59,338 - INFO - joeynmt.training - Epoch   1, Step:   275400, Batch Loss:     2.355397, Batch Acc: 0.004010, Tokens per Sec:     9706, Lr: 0.000035\n",
            "2022-09-16 11:56:11,117 - INFO - joeynmt.training - Epoch   1, Step:   275500, Batch Loss:     2.507886, Batch Acc: 0.004060, Tokens per Sec:     9787, Lr: 0.000035\n",
            "2022-09-16 11:56:22,930 - INFO - joeynmt.training - Epoch   1, Step:   275600, Batch Loss:     2.358391, Batch Acc: 0.004612, Tokens per Sec:     9599, Lr: 0.000035\n",
            "2022-09-16 11:56:34,714 - INFO - joeynmt.training - Epoch   1, Step:   275700, Batch Loss:     2.628458, Batch Acc: 0.004186, Tokens per Sec:     9568, Lr: 0.000035\n",
            "2022-09-16 11:56:46,687 - INFO - joeynmt.training - Epoch   1, Step:   275800, Batch Loss:     2.576312, Batch Acc: 0.005027, Tokens per Sec:     9537, Lr: 0.000035\n",
            "2022-09-16 11:56:48,196 - INFO - joeynmt.training - Epoch   1: total training loss 38205.03\n",
            "2022-09-16 11:56:48,196 - INFO - joeynmt.training - Training ended after   1 epochs.\n",
            "2022-09-16 11:56:48,197 - INFO - joeynmt.training - Best validation result (greedy) at step   273000:  11.71 ppl.\n",
            "2022-09-16 11:56:48,197 - INFO - joeynmt.training - Loading from ckpt file: /home/ubuntu/joeynmt_kriti/models/v1_enhi_100_transformer/enhi_transformer_t1_least_confidence_resume/273000.ckpt\n",
            "2022-09-16 11:56:48,215 - INFO - joeynmt.model - Building an encoder-decoder model...\n",
            "2022-09-16 11:56:48,215 - INFO - joeynmt.model - Pytorch version 1.12.1+cu102 torch.version.cuda 10.2 Cuda available True Cuda devices 1\n",
            "2022-09-16 11:56:48,549 - INFO - joeynmt.model - Enc-dec model built.\n",
            "2022-09-16 11:56:48,554 - INFO - joeynmt.model - Total params: 19302144\n",
            "2022-09-16 11:56:48,821 - INFO - joeynmt.helpers - Load model from /home/ubuntu/joeynmt_kriti/models/v1_enhi_100_transformer/enhi_transformer_t1_least_confidence_resume/273000.ckpt.\n",
            "2022-09-16 11:56:48,887 - INFO - joeynmt.prediction - Decoding on dev set...\n",
            "2022-09-16 11:56:48,887 - INFO - joeynmt.prediction - Predicting 40856 example(s)... (Beam search with beam_size=5, beam_alpha=1.0, n_best=1, min_output_length=1, max_output_length=130, return_prob='none', generate_unk=True, repetition_penalty=-1, no_repeat_ngram_size=-1)\n",
            "2022-09-16 12:22:50,694 - INFO - joeynmt.metrics - nrefs:1|case:mixed|eff:no|tok:13a|smooth:exp|version:2.2.0\n",
            "2022-09-16 12:22:50,696 - INFO - joeynmt.prediction - Evaluation result (beam search) bleu:  24.11, generation: 1551.1021[sec], evaluation: 10.1985[sec]\n",
            "2022-09-16 12:22:50,757 - INFO - joeynmt.prediction - Translations saved to: /home/ubuntu/joeynmt_kriti/models/v1_enhi_100_transformer/enhi_transformer_t1_least_confidence_resume/00273000.hyps.dev.\n",
            "2022-09-16 12:22:50,757 - INFO - joeynmt.prediction - Decoding on test set...\n",
            "2022-09-16 12:22:50,757 - INFO - joeynmt.prediction - Predicting 40858 example(s)... (Beam search with beam_size=5, beam_alpha=1.0, n_best=1, min_output_length=1, max_output_length=130, return_prob='none', generate_unk=True, repetition_penalty=-1, no_repeat_ngram_size=-1)\n",
            "2022-09-16 12:47:40,361 - INFO - joeynmt.metrics - nrefs:1|case:mixed|eff:no|tok:13a|smooth:exp|version:2.2.0\n",
            "2022-09-16 12:47:40,363 - INFO - joeynmt.prediction - Evaluation result (beam search) bleu:  23.36, generation: 1478.8113[sec], evaluation: 10.2912[sec]\n",
            "2022-09-16 12:47:40,434 - INFO - joeynmt.prediction - Translations saved to: /home/ubuntu/joeynmt_kriti/models/v1_enhi_100_transformer/enhi_transformer_t1_least_confidence_resume/00273000.hyps.test.\n",
            "2022-09-16 12:47:40,447 - INFO - joeynmt.training - ACTIVE LEARNING MODEL END - LEAST CONFIDENCE 2\n"
          ]
        }
      ],
      "source": [
        "!python main.py active_learning {data_dir}/least_confidence_config.yaml"
      ],
      "metadata": {
        "pycharm": {
          "name": "#%%\n"
        },
        "id": "47l_cv8YOMGm",
        "colab": {
          "base_uri": "https://localhost:8080/"
        },
        "outputId": "155b1d1b-6c4d-4e46-cb39-de2f9cbd68be"
      }
    },
    {
      "cell_type": "code",
      "execution_count": 29,
      "metadata": {
        "id": "Wn9PshFnHzLU",
        "pycharm": {
          "name": "#%%\n"
        },
        "colab": {
          "base_uri": "https://localhost:8080/"
        },
        "outputId": "d4934566-d557-4793-88e8-745172afd637"
      },
      "outputs": [
        {
          "output_type": "stream",
          "name": "stdout",
          "text": [
            "2022-09-15 20:21:58,940 - INFO - joeynmt.training - \tHypothesis: भाषण और आवाज प्रशिक्षण\n",
            "2022-09-15 20:22:14,081 - INFO - joeynmt.training - Epoch   5, Step:   278100, Batch Loss:     2.572317, Batch Acc: 0.004519, Tokens per Sec:     6884, Lr: 0.000035\n",
            "2022-09-15 20:22:28,985 - INFO - joeynmt.training - Epoch   5, Step:   278200, Batch Loss:     2.733479, Batch Acc: 0.004499, Tokens per Sec:     7561, Lr: 0.000035\n",
            "2022-09-15 20:22:43,790 - INFO - joeynmt.training - Epoch   5, Step:   278300, Batch Loss:     2.668473, Batch Acc: 0.004343, Tokens per Sec:     7450, Lr: 0.000035\n",
            "2022-09-15 20:22:58,892 - INFO - joeynmt.training - Epoch   5, Step:   278400, Batch Loss:     2.440015, Batch Acc: 0.004810, Tokens per Sec:     7379, Lr: 0.000035\n",
            "2022-09-15 20:23:14,346 - INFO - joeynmt.training - Epoch   5, Step:   278500, Batch Loss:     2.370182, Batch Acc: 0.005294, Tokens per Sec:     7102, Lr: 0.000035\n",
            "2022-09-15 20:23:29,158 - INFO - joeynmt.training - Epoch   5, Step:   278600, Batch Loss:     2.235409, Batch Acc: 0.005179, Tokens per Sec:     7600, Lr: 0.000035\n",
            "2022-09-15 20:23:43,997 - INFO - joeynmt.training - Epoch   5, Step:   278700, Batch Loss:     2.291216, Batch Acc: 0.004563, Tokens per Sec:     7548, Lr: 0.000035\n",
            "2022-09-15 20:23:58,971 - INFO - joeynmt.training - Epoch   5, Step:   278800, Batch Loss:     2.434439, Batch Acc: 0.004985, Tokens per Sec:     7435, Lr: 0.000035\n",
            "2022-09-15 20:24:13,850 - INFO - joeynmt.training - Epoch   5, Step:   278900, Batch Loss:     2.285595, Batch Acc: 0.005025, Tokens per Sec:     7463, Lr: 0.000035\n",
            "2022-09-15 20:24:28,662 - INFO - joeynmt.training - Epoch   5, Step:   279000, Batch Loss:     2.528404, Batch Acc: 0.004001, Tokens per Sec:     7508, Lr: 0.000035\n",
            "2022-09-15 20:24:28,663 - INFO - joeynmt.prediction - Predicting 40856 example(s)... (Greedy decoding with min_output_length=1, max_output_length=130, return_prob='none', generate_unk=True, repetition_penalty=-1, no_repeat_ngram_size=-1)\n",
            "2022-09-15 20:34:32,382 - INFO - joeynmt.metrics - nrefs:1|case:mixed|eff:no|tok:13a|smooth:exp|version:2.2.1\n",
            "2022-09-15 20:34:33,059 - INFO - joeynmt.prediction - Evaluation result (greedy) bleu:  21.87, loss:   2.55, ppl:  12.79, acc:   0.51, generation: 589.0529[sec], evaluation: 7.7926[sec]\n",
            "2022-09-15 20:34:55,288 - INFO - joeynmt.training - Training ended after  5 epochs.\n",
            "2022-09-15 20:34:55,288 - INFO - joeynmt.training - Best validation result (greedy) at step   211000:  21.00 ppl.\n",
            "2022-09-15 20:34:55,303 - INFO - joeynmt.model - Building an encoder-decoder model...\n",
            "2022-09-15 20:34:55,303 - INFO - joeynmt.model - Pytorch version 1.12.1+cu102 torch.version.cuda 10.2 Cuda available True Cuda devices 1\n",
            "2022-09-15 20:34:55,647 - INFO - joeynmt.model - Enc-dec model built.\n",
            "2022-09-15 20:34:55,560 - INFO - joeynmt.model - Total params: 19302144\n",
            "2022-09-15 20:34:55,449 - INFO - joeynmt.helpers - Load model from /content/drive/MyDrive/models/v1_enhi_100_transformer/enhi_transformer_t1_full/278000.ckpt.\n",
            "2022-09-15 20:34:55,535 - INFO - joeynmt.prediction - Decoding on dev set...\n",
            "2022-09-15 20:34:55,536 - INFO - joeynmt.prediction - Predicting 40886 example(s)... (Beam search with beam_size=5, beam_alpha=1.0, n_best=1, min_output_length=1, max_output_length=130, return_prob='none', generate_unk=True, repetition_penalty=-1, no_repeat_ngram_size=-1)\n",
            "2022-09-15 21:03:21,971 - INFO - joeynmt.metrics - nrefs:1|case:mixed|eff:no|tok:13a|smooth:exp|version:2.2.1\n",
            "2022-09-15 21:03:21,972 - INFO - joeynmt.prediction - Evaluation result (beam search) bleu:  23.44, generation: 1277.6626[sec], evaluation: 9.2449[sec]\n",
            "2022-09-15 21:03:21,978 - INFO - joeynmt.prediction - Decoding on test set...\n",
            "2022-09-15 21:03:21,979 - INFO - joeynmt.prediction - Predicting 40888 example(s)... (Beam search with beam_size=5, beam_alpha=1.0, n_best=1, min_output_length=1, max_output_length=130, return_prob='none', generate_unk=True, repetition_penalty=-1, no_repeat_ngram_size=-1)\n",
            "2022-09-15 22:34:55,886 - INFO - joeynmt.metrics - nrefs:1|case:mixed|eff:no|tok:13a|smooth:exp|version:2.2.1\n",
            "2022-09-15 22:34:55,887 - INFO - joeynmt.prediction - Evaluation result (beam search) bleu:  22.56, generation: 1105.2651[sec], evaluation: 8.2305[sec]\n",
            "2022-09-15 22:34:55,829 - INFO - joeynmt.prediction - Translations saved to: /home/ubuntu/joeynmt_kriti/models/v1_enhi_100_transformer/enhi_transformer_t1_fully_trained/278000.hyps.test."
          ]
        }
      ],
      "source": [
        "!python main.py train {data_dir}/full_config.yaml"
      ]
    },
    {
      "cell_type": "markdown",
      "metadata": {
        "id": "l7qULQu0B5Yl"
      },
      "source": [
        "### Continue training after interruption\n",
        "To continue after an interruption, the configuration needs to be modified in the following places:\n",
        "\n",
        "- `load_model` to point to the checkpoint to load.\n",
        "- `reset_*` options (must be False) to resume the previous session.\n",
        "- `model_dir` to create a new directory."
      ]
    },
    {
      "cell_type": "code",
      "execution_count": null,
      "metadata": {
        "id": "Fr3mEDga2BiJ",
        "pycharm": {
          "name": "#%%\n"
        }
      },
      "outputs": [],
      "source": [
        "resume_config = config\\\n",
        "  .replace('#load_model:', 'load_model:')\\\n",
        "  .replace('#reset_best_ckpt: False', 'reset_best_ckpt: False')\\\n",
        "  .replace('#reset_scheduler: False', 'reset_scheduler: False')\\\n",
        "  .replace('#reset_optimizer: False', 'reset_optimizer: False')\\\n",
        "  .replace('#reset_iter_state: False', 'reset_iter_state: False')\\\n",
        "  .replace('epochs: 20', 'epochs: 1')\\\n",
        "  .replace(f'model_dir: \"{model_dir}/enhi_transformer_t1_baseline\"', f'model_dir: \"{model_dir}/enhi_transformer_t1_baseline_resume\"')\n",
        "\n",
        "with open(f\"{data_dir}/resume_config.yaml\",'w') as f:\n",
        "    f.write(resume_config)"
      ]
    },
    {
      "cell_type": "code",
      "execution_count": null,
      "metadata": {
        "colab": {
          "base_uri": "https://localhost:8080/"
        },
        "id": "Ii8vW5hFqFkn",
        "outputId": "814ac335-0916-412c-bfee-889b7be3a5ab"
      },
      "outputs": [
        {
          "name": "stdout",
          "output_type": "stream",
          "text": [
            "-rw------- 1 root root 3813 Aug 22 23:24 /content/drive/MyDrive/datasets_enhi_10/resume_config.yaml\n"
          ]
        }
      ],
      "source": [
        "!ls -l {data_dir}/resume_config.yaml"
      ]
    },
    {
      "cell_type": "code",
      "execution_count": null,
      "metadata": {
        "colab": {
          "background_save": true
        },
        "id": "HgH1vAsV2Bkw"
      },
      "outputs": [],
      "source": [
        "!python -m joeynmt train {data_dir}/resume_config.yaml"
      ]
    },
    {
      "cell_type": "markdown",
      "metadata": {
        "id": "AaHtCsyJf1yD",
        "pycharm": {
          "name": "#%% md\n"
        }
      },
      "source": [
        "> 💡 It starts counting the epochs from the beginning again, but step numbers should continue from before and we should find a \"reloading\" line in the training log.\n",
        "\n",
        "\n",
        "We can plot all resumed sessions together in a sigle tensorboard by creating a symlink:"
      ]
    },
    {
      "cell_type": "code",
      "execution_count": null,
      "metadata": {
        "id": "CfQrLa-Ck3KG"
      },
      "outputs": [],
      "source": [
        "!mkdir /content/drive/MyDrive/models/logdir\n",
        "!cd /content/drive/MyDrive/models/logdir && ln -s ../tatoeba_deen/tensorboard tatoeba_deen\n",
        "!cd /content/drive/MyDrive/models/logdir && ln -s ../tatoeba_deen_resume/tensorboard tatoeba_deen_resume"
      ]
    },
    {
      "cell_type": "code",
      "execution_count": null,
      "metadata": {
        "id": "KFPdKgjiyQ57"
      },
      "outputs": [],
      "source": [
        "# Reload the TensorBoard notebook extension.\n",
        "%reload_ext tensorboard"
      ]
    },
    {
      "cell_type": "code",
      "execution_count": null,
      "metadata": {
        "id": "Zt8BQU8syHMS"
      },
      "outputs": [],
      "source": [
        "%tensorboard --logdir /content/drive/MyDrive/models/logdir"
      ]
    },
    {
      "cell_type": "markdown",
      "metadata": {
        "id": "NVv1ja0eCk66"
      },
      "source": [
        "## Evaluation\n",
        "\n",
        "\n",
        "The `test` mode can be used to translate (and evaluate on) the test set specified in the configuration. We usually do this only once after we've tuned hyperparameters on the dev set."
      ]
    },
    {
      "cell_type": "code",
      "execution_count": null,
      "metadata": {
        "id": "k5T0OEp22BnX",
        "pycharm": {
          "name": "#%%\n"
        },
        "colab": {
          "base_uri": "https://localhost:8080/"
        },
        "outputId": "dd0dc875-2fdd-4d34-e2f1-90c6404f00c4"
      },
      "outputs": [
        {
          "output_type": "stream",
          "name": "stdout",
          "text": [
            "2022-09-16 04:13:13,927 - INFO - root - Hello! This is Joey-NMT (version 2.0.0).\n",
            "2022-09-16 04:13:13,929 - INFO - joeynmt.data - Building tokenizer...\n",
            "2022-09-16 04:13:14,025 - INFO - joeynmt.tokenizers - en tokenizer: SubwordNMTTokenizer(level=bpe, lowercase=False, normalize=False, filter_by_length=(-1, 60), pretokenizer=moses, tokenizer=BPE, separator=@@, dropout=0.0)\n",
            "2022-09-16 04:13:14,025 - INFO - joeynmt.tokenizers - hi tokenizer: SubwordNMTTokenizer(level=bpe, lowercase=False, normalize=False, filter_by_length=(-1, 60), pretokenizer=none, tokenizer=BPE, separator=@@, dropout=0.0)\n",
            "2022-09-16 04:13:14,025 - INFO - joeynmt.data - Building vocabulary...\n",
            "2022-09-16 04:13:17,614 - INFO - joeynmt.data - Loading dev set...\n",
            "2022-09-16 04:13:23,329 - INFO - joeynmt.data - Loading test set...\n",
            "2022-09-16 04:13:28,794 - INFO - joeynmt.data - Data loaded.\n",
            "2022-09-16 04:13:28,794 - INFO - joeynmt.helpers - Train dataset: None\n",
            "2022-09-16 04:13:28,795 - INFO - joeynmt.helpers - Valid dataset: PlaintextDatasetAC(split=dev, len=40886, src_lang=en, trg_lang=hi, has_trg=True, random_subset=-1)\n",
            "2022-09-16 04:13:28,795 - INFO - joeynmt.helpers -  Test dataset: PlaintextDatasetAC(split=test, len=40888, src_lang=en, trg_lang=hi, has_trg=True, random_subset=-1)\n",
            "2022-09-16 04:13:28,795 - INFO - joeynmt.helpers - First 10 Src tokens: (0) <unk> (1) <pad> (2) <s> (3) </s> (4) the (5) , (6) . (7) of (8) and (9) to\n",
            "2022-09-16 04:13:28,795 - INFO - joeynmt.helpers - First 10 Trg tokens: (0) <unk> (1) <pad> (2) <s> (3) </s> (4) के (5) है (6) । (7) , (8) और (9) में\n",
            "2022-09-16 04:13:28,796 - INFO - joeynmt.helpers - Number of unique Src tokens (vocab_size): 16021\n",
            "2022-09-16 04:13:28,796 - INFO - joeynmt.helpers - Number of unique Trg tokens (vocab_size): 16174\n",
            "2022-09-16 04:13:28,796 - INFO - joeynmt.model - Building an encoder-decoder model...\n",
            "2022-09-16 04:13:28,796 - INFO - joeynmt.model - Pytorch version 1.12.1+cu113 torch.version.cuda 11.3 Cuda available True Cuda devices 1\n",
            "2022-09-16 04:13:29,276 - INFO - joeynmt.model - Enc-dec model built.\n",
            "2022-09-16 04:13:29,280 - INFO - joeynmt.model - Total params: 19302144\n",
            "2022-09-16 04:13:37,009 - INFO - joeynmt.helpers - Load model from /content/drive/MyDrive/models/v1_enhi_100_transformer/enhi_transformer_t1_baseline/180000.ckpt.\n",
            "2022-09-16 04:13:37,094 - INFO - joeynmt.prediction - Decoding on dev set...\n",
            "2022-09-16 04:13:37,094 - INFO - joeynmt.prediction - Predicting 40886 example(s)... (Beam search with beam_size=5, beam_alpha=1.0, n_best=1, min_output_length=1, max_output_length=130, return_prob='none', generate_unk=True, repetition_penalty=-1, no_repeat_ngram_size=-1)\n",
            "2022-09-16 04:35:20,381 - INFO - joeynmt.metrics - nrefs:1|case:mixed|eff:no|tok:13a|smooth:exp|version:2.2.1\n",
            "2022-09-16 04:35:20,381 - INFO - joeynmt.prediction - Evaluation result (beam search) bleu:  16.43, generation: 1295.4617[sec], evaluation: 7.3039[sec]\n",
            "2022-09-16 04:35:20,388 - INFO - joeynmt.prediction - Decoding on test set...\n",
            "2022-09-16 04:35:20,388 - INFO - joeynmt.prediction - Predicting 40888 example(s)... (Beam search with beam_size=5, beam_alpha=1.0, n_best=1, min_output_length=1, max_output_length=130, return_prob='none', generate_unk=True, repetition_penalty=-1, no_repeat_ngram_size=-1)\n",
            "2022-09-16 04:55:29,123 - INFO - joeynmt.metrics - nrefs:1|case:mixed|eff:no|tok:13a|smooth:exp|version:2.2.1\n",
            "2022-09-16 04:55:29,124 - INFO - joeynmt.prediction - Evaluation result (beam search) bleu:  18.17, generation: 1200.3362[sec], evaluation: 7.9269[sec]\n"
          ]
        }
      ],
      "source": [
        "!python main.py test {data_dir}/baseline_config.yaml --ckpt {model_dir}/enhi_transformer_t1_baseline/180000.ckpt"
      ]
    },
    {
      "cell_type": "code",
      "execution_count": null,
      "metadata": {
        "id": "_EcmE1IAMxkX",
        "pycharm": {
          "name": "#%%\n"
        }
      },
      "outputs": [],
      "source": [
        "!python main.py test {data_dir}/margin_config.yaml --ckpt {model_dir}/enhi_transformer_t1_margin/"
      ]
    },
    {
      "cell_type": "code",
      "execution_count": null,
      "outputs": [],
      "source": [
        "!python main.py test {data_dir}/least_condifence_config.yaml --ckpt {model_dir}/enhi_transformer_t1_least_confidence/273000.ckpt"
      ],
      "metadata": {
        "pycharm": {
          "name": "#%%\n"
        },
        "id": "LDkgC47tOMGn"
      }
    },
    {
      "cell_type": "code",
      "execution_count": null,
      "outputs": [
        {
          "output_type": "stream",
          "name": "stdout",
          "text": [
            "2022-09-16 04:56:45,337 - INFO - root - Hello! This is Joey-NMT (version 2.0.0).\n",
            "2022-09-16 04:56:45,338 - INFO - joeynmt.data - Building tokenizer...\n",
            "2022-09-16 04:56:45,438 - INFO - joeynmt.tokenizers - en tokenizer: SubwordNMTTokenizer(level=bpe, lowercase=False, normalize=False, filter_by_length=(-1, 60), pretokenizer=moses, tokenizer=BPE, separator=@@, dropout=0.0)\n",
            "2022-09-16 04:56:45,438 - INFO - joeynmt.tokenizers - hi tokenizer: SubwordNMTTokenizer(level=bpe, lowercase=False, normalize=False, filter_by_length=(-1, 60), pretokenizer=none, tokenizer=BPE, separator=@@, dropout=0.0)\n",
            "2022-09-16 04:56:45,438 - INFO - joeynmt.data - Building vocabulary...\n",
            "2022-09-16 04:56:49,044 - INFO - joeynmt.data - Loading dev set...\n",
            "2022-09-16 04:56:54,763 - INFO - joeynmt.data - Loading test set...\n",
            "2022-09-16 04:57:00,221 - INFO - joeynmt.data - Data loaded.\n",
            "2022-09-16 04:57:00,222 - INFO - joeynmt.helpers - Train dataset: None\n",
            "2022-09-16 04:57:00,222 - INFO - joeynmt.helpers - Valid dataset: PlaintextDatasetAC(split=dev, len=40886, src_lang=en, trg_lang=hi, has_trg=True, random_subset=-1)\n",
            "2022-09-16 04:57:00,222 - INFO - joeynmt.helpers -  Test dataset: PlaintextDatasetAC(split=test, len=40888, src_lang=en, trg_lang=hi, has_trg=True, random_subset=-1)\n",
            "2022-09-16 04:57:00,223 - INFO - joeynmt.helpers - First 10 Src tokens: (0) <unk> (1) <pad> (2) <s> (3) </s> (4) the (5) , (6) . (7) of (8) and (9) to\n",
            "2022-09-16 04:57:00,223 - INFO - joeynmt.helpers - First 10 Trg tokens: (0) <unk> (1) <pad> (2) <s> (3) </s> (4) के (5) है (6) । (7) , (8) और (9) में\n",
            "2022-09-16 04:57:00,223 - INFO - joeynmt.helpers - Number of unique Src tokens (vocab_size): 16021\n",
            "2022-09-16 04:57:00,223 - INFO - joeynmt.helpers - Number of unique Trg tokens (vocab_size): 16174\n",
            "2022-09-16 04:57:00,223 - INFO - joeynmt.model - Building an encoder-decoder model...\n",
            "2022-09-16 04:57:00,223 - INFO - joeynmt.model - Pytorch version 1.12.1+cu113 torch.version.cuda 11.3 Cuda available True Cuda devices 1\n",
            "2022-09-16 04:57:00,555 - INFO - joeynmt.model - Enc-dec model built.\n",
            "2022-09-16 04:57:00,560 - INFO - joeynmt.model - Total params: 19302144\n",
            "2022-09-16 04:57:04,449 - INFO - joeynmt.helpers - Load model from /content/drive/MyDrive/models/v1_enhi_100_transformer/enhi_transformer_t1_full/278000.ckpt.\n",
            "2022-09-16 04:57:04,535 - INFO - joeynmt.prediction - Decoding on dev set...\n",
            "2022-09-16 04:57:04,536 - INFO - joeynmt.prediction - Predicting 40886 example(s)... (Beam search with beam_size=5, beam_alpha=1.0, n_best=1, min_output_length=1, max_output_length=130, return_prob='none', generate_unk=True, repetition_penalty=-1, no_repeat_ngram_size=-1)\n",
            "2022-09-16 05:18:31,971 - INFO - joeynmt.metrics - nrefs:1|case:mixed|eff:no|tok:13a|smooth:exp|version:2.2.1\n",
            "2022-09-16 05:18:31,972 - INFO - joeynmt.prediction - Evaluation result (beam search) bleu:  23.44, generation: 1277.6626[sec], evaluation: 9.2449[sec]\n",
            "2022-09-16 05:18:31,978 - INFO - joeynmt.prediction - Decoding on test set...\n",
            "2022-09-16 05:18:31,979 - INFO - joeynmt.prediction - Predicting 40888 example(s)... (Beam search with beam_size=5, beam_alpha=1.0, n_best=1, min_output_length=1, max_output_length=130, return_prob='none', generate_unk=True, repetition_penalty=-1, no_repeat_ngram_size=-1)\n",
            "2022-09-16 05:37:05,886 - INFO - joeynmt.metrics - nrefs:1|case:mixed|eff:no|tok:13a|smooth:exp|version:2.2.1\n",
            "2022-09-16 05:37:05,887 - INFO - joeynmt.prediction - Evaluation result (beam search) bleu:  22.56, generation: 1105.2651[sec], evaluation: 8.2305[sec]\n"
          ]
        }
      ],
      "source": [
        "!python main.py test {data_dir}/fully_trained_config.yaml --ckpt {model_dir}/enhi_transformer_t1_full/278000.ckpt"
      ],
      "metadata": {
        "pycharm": {
          "name": "#%%\n"
        },
        "colab": {
          "base_uri": "https://localhost:8080/"
        },
        "id": "5v_92DKpOMGn",
        "outputId": "c120bf16-e3f7-4e42-9d35-d17441014bcd"
      }
    },
    {
      "cell_type": "markdown",
      "source": [
        "### Human in the loop"
      ],
      "metadata": {
        "id": "akZYUcOJEr90"
      }
    },
    {
      "cell_type": "markdown",
      "source": [
        "In `active_learning` mode we can annotate certain samples if we feel fit that the translation is sub-optimum. It is interactive and takes prompts to translate interactively.\n",
        "\n",
        "Let's Translate a few examples to provide better results for active learning.\n"
      ],
      "metadata": {
        "id": "C-W_6VOEC2wr"
      }
    },
    {
      "cell_type": "code",
      "source": [
        "config = \" \".join(open(f\"{data_dir}/least_confidence.yaml\").readlines())\n",
        "resume_config = config\\\n",
        "  .replace(f'interactive: False', f'interactive: True')\\\n",
        "  .replace(f'model_dir: \"{model_dir}/enhi_transformer_t1_least_confidence\"', f'model_dir: \"{model_dir}/enhi_transformer_t1_least_confidence_interactive\"')\n",
        "\n",
        "\n",
        "with open(f\"{data_dir}/least_confidence_interactive.yaml\",'w') as f:\n",
        "    f.write(resume_config)"
      ],
      "metadata": {
        "id": "IJXaKfP5C1vE"
      },
      "execution_count": 34,
      "outputs": []
    },
    {
      "cell_type": "code",
      "source": [
        "!python main.py active_learning {data_dir}/least_confidence_interactive.yaml"
      ],
      "metadata": {
        "colab": {
          "base_uri": "https://localhost:8080/"
        },
        "id": "TFxOJNb5FvlO",
        "outputId": "f631518b-6495-46e9-a745-9d33f3a9354c"
      },
      "execution_count": null,
      "outputs": [
        {
          "output_type": "stream",
          "name": "stdout",
          "text": [
            "2022-09-16 16:19:50,402 - INFO - root - Hello! This is Joey-NMT (version 2.0.0).\n",
            "2022-09-16 16:19:50,403 - INFO - joeynmt.helpers -                           cfg.name : transformer_100_enhi_bpe\n",
            "2022-09-16 16:19:50,403 - INFO - joeynmt.helpers -                cfg.joeynmt_version : 2.0.0\n",
            "2022-09-16 16:19:50,403 - INFO - joeynmt.helpers -                     cfg.data.train : /content/drive/MyDrive/data/datasets_enhi_100/train_tok\n",
            "2022-09-16 16:19:50,403 - INFO - joeynmt.helpers -                       cfg.data.dev : /content/drive/MyDrive/data/datasets_enhi_100/val_tok\n",
            "2022-09-16 16:19:50,403 - INFO - joeynmt.helpers -                      cfg.data.test : /content/drive/MyDrive/data/datasets_enhi_100/test_tok\n",
            "2022-09-16 16:19:50,403 - INFO - joeynmt.helpers -              cfg.data.dataset_type : plain_ac\n",
            "2022-09-16 16:19:50,404 - INFO - joeynmt.helpers -                  cfg.data.src.lang : en\n",
            "2022-09-16 16:19:50,404 - INFO - joeynmt.helpers -            cfg.data.src.max_length : 60\n",
            "2022-09-16 16:19:50,404 - INFO - joeynmt.helpers -             cfg.data.src.lowercase : False\n",
            "2022-09-16 16:19:50,404 - INFO - joeynmt.helpers -                 cfg.data.src.level : bpe\n",
            "2022-09-16 16:19:50,404 - INFO - joeynmt.helpers -              cfg.data.src.voc_file : /content/drive/MyDrive/data/datasets_enhi_100/vocab.en\n",
            "2022-09-16 16:19:50,404 - INFO - joeynmt.helpers -        cfg.data.src.tokenizer_type : subword-nmt\n",
            "2022-09-16 16:19:50,404 - INFO - joeynmt.helpers -   cfg.data.src.tokenizer_cfg.codes : /content/drive/MyDrive/data/datasets_enhi_100/en.bpe.codes\n",
            "2022-09-16 16:19:50,405 - INFO - joeynmt.helpers - cfg.data.src.tokenizer_cfg.num_merges : 16000\n",
            "2022-09-16 16:19:50,405 - INFO - joeynmt.helpers - cfg.data.src.tokenizer_cfg.pretokenizer : moses\n",
            "2022-09-16 16:19:50,405 - INFO - joeynmt.helpers -                  cfg.data.trg.lang : hi\n",
            "2022-09-16 16:19:50,405 - INFO - joeynmt.helpers -            cfg.data.trg.max_length : 60\n",
            "2022-09-16 16:19:50,405 - INFO - joeynmt.helpers -             cfg.data.trg.lowercase : False\n",
            "2022-09-16 16:19:50,405 - INFO - joeynmt.helpers -                 cfg.data.trg.level : bpe\n",
            "2022-09-16 16:19:50,405 - INFO - joeynmt.helpers -              cfg.data.trg.voc_file : /content/drive/MyDrive/data/datasets_enhi_100/vocab.hi\n",
            "2022-09-16 16:19:50,405 - INFO - joeynmt.helpers -        cfg.data.trg.tokenizer_type : subword-nmt\n",
            "2022-09-16 16:19:50,406 - INFO - joeynmt.helpers -   cfg.data.trg.tokenizer_cfg.codes : /content/drive/MyDrive/data/datasets_enhi_100/hi.bpe.codes\n",
            "2022-09-16 16:19:50,406 - INFO - joeynmt.helpers - cfg.data.trg.tokenizer_cfg.num_merges : 16000\n",
            "2022-09-16 16:19:50,406 - INFO - joeynmt.helpers - cfg.data.trg.tokenizer_cfg.pretokenizer : none\n",
            "2022-09-16 16:19:50,406 - INFO - joeynmt.helpers -                 cfg.testing.n_best : 1\n",
            "2022-09-16 16:19:50,406 - INFO - joeynmt.helpers -              cfg.testing.beam_size : 5\n",
            "2022-09-16 16:19:50,406 - INFO - joeynmt.helpers -             cfg.testing.beam_alpha : 1.0\n",
            "2022-09-16 16:19:50,406 - INFO - joeynmt.helpers -             cfg.testing.batch_size : 1024\n",
            "2022-09-16 16:19:50,406 - INFO - joeynmt.helpers -             cfg.testing.batch_type : token\n",
            "2022-09-16 16:19:50,406 - INFO - joeynmt.helpers -      cfg.testing.max_output_length : 130\n",
            "2022-09-16 16:19:50,407 - INFO - joeynmt.helpers -           cfg.testing.eval_metrics : ['bleu']\n",
            "2022-09-16 16:19:50,407 - INFO - joeynmt.helpers -            cfg.testing.return_prob : none\n",
            "2022-09-16 16:19:50,407 - INFO - joeynmt.helpers -       cfg.testing.return_attention : False\n",
            "2022-09-16 16:19:50,407 - INFO - joeynmt.helpers - cfg.testing.sacrebleu_cfg.tokenize : 13a\n",
            "2022-09-16 16:19:50,407 - INFO - joeynmt.helpers - cfg.testing.sacrebleu_cfg.lowercase : False\n",
            "2022-09-16 16:19:50,407 - INFO - joeynmt.helpers -     cfg.active_learning.query_size : 10000\n",
            "2022-09-16 16:19:50,407 - INFO - joeynmt.helpers -    cfg.active_learning.interactive : True\n",
            "2022-09-16 16:19:50,407 - INFO - joeynmt.helpers -      cfg.active_learning.pool_size : 6\n",
            "2022-09-16 16:19:50,408 - INFO - joeynmt.helpers -     cfg.active_learning.batch_size : 256\n",
            "2022-09-16 16:19:50,408 - INFO - joeynmt.helpers -    cfg.active_learning.num_workers : 4\n",
            "2022-09-16 16:19:50,408 - INFO - joeynmt.helpers -    cfg.active_learning.num_queries : 5\n",
            "2022-09-16 16:19:50,408 - INFO - joeynmt.helpers -     cfg.active_learning.al_percent : 30\n",
            "2022-09-16 16:19:50,408 - INFO - joeynmt.helpers - cfg.active_learning.query_strategy : least_confidence\n",
            "2022-09-16 16:19:50,408 - INFO - joeynmt.helpers -          cfg.active_learning.epoch : 1\n",
            "2022-09-16 16:19:50,408 - INFO - joeynmt.helpers - cfg.active_learning.validation_freq : 1000\n",
            "2022-09-16 16:19:50,408 - INFO - joeynmt.helpers -            cfg.training.load_model : /content/drive/MyDrive/models/v1_enhi_100_transformer/enhi_transformer_t1_least_confidence/180000.ckpt\n",
            "2022-09-16 16:19:50,408 - INFO - joeynmt.helpers -       cfg.training.reset_best_ckpt : False\n",
            "2022-09-16 16:19:50,409 - INFO - joeynmt.helpers -       cfg.training.reset_scheduler : False\n",
            "2022-09-16 16:19:50,409 - INFO - joeynmt.helpers -       cfg.training.reset_optimizer : False\n",
            "2022-09-16 16:19:50,409 - INFO - joeynmt.helpers -      cfg.training.reset_iter_state : False\n",
            "2022-09-16 16:19:50,409 - INFO - joeynmt.helpers -           cfg.training.random_seed : 42\n",
            "2022-09-16 16:19:50,409 - INFO - joeynmt.helpers -             cfg.training.optimizer : adam\n",
            "2022-09-16 16:19:50,409 - INFO - joeynmt.helpers -         cfg.training.normalization : tokens\n",
            "2022-09-16 16:19:50,409 - INFO - joeynmt.helpers -            cfg.training.adam_betas : [0.9, 0.999]\n",
            "2022-09-16 16:19:50,409 - INFO - joeynmt.helpers -            cfg.training.scheduling : plateau\n",
            "2022-09-16 16:19:50,410 - INFO - joeynmt.helpers - cfg.training.learning_rate_decay_length : 2500\n",
            "2022-09-16 16:19:50,410 - INFO - joeynmt.helpers -    cfg.training.learning_rate_peak : 0.005\n",
            "2022-09-16 16:19:50,410 - INFO - joeynmt.helpers -  cfg.training.learning_rate_warmup : 1000\n",
            "2022-09-16 16:19:50,410 - INFO - joeynmt.helpers -  cfg.training.learning_rate_factor : 0.5\n",
            "2022-09-16 16:19:50,410 - INFO - joeynmt.helpers -              cfg.training.patience : 5\n",
            "2022-09-16 16:19:50,410 - INFO - joeynmt.helpers -       cfg.training.decrease_factor : 0.7\n",
            "2022-09-16 16:19:50,410 - INFO - joeynmt.helpers -                  cfg.training.loss : crossentropy\n",
            "2022-09-16 16:19:50,411 - INFO - joeynmt.helpers -         cfg.training.learning_rate : 0.0003\n",
            "2022-09-16 16:19:50,411 - INFO - joeynmt.helpers -     cfg.training.learning_rate_min : 1e-08\n",
            "2022-09-16 16:19:50,411 - INFO - joeynmt.helpers -          cfg.training.weight_decay : 0.0\n",
            "2022-09-16 16:19:50,411 - INFO - joeynmt.helpers -       cfg.training.label_smoothing : 0.1\n",
            "2022-09-16 16:19:50,411 - INFO - joeynmt.helpers -            cfg.training.batch_size : 4096\n",
            "2022-09-16 16:19:50,411 - INFO - joeynmt.helpers -            cfg.training.batch_type : token\n",
            "2022-09-16 16:19:50,411 - INFO - joeynmt.helpers -      cfg.training.batch_multiplier : 1\n",
            "2022-09-16 16:19:50,412 - INFO - joeynmt.helpers - cfg.training.early_stopping_metric : ppl\n",
            "2022-09-16 16:19:50,412 - INFO - joeynmt.helpers -                cfg.training.epochs : 20\n",
            "2022-09-16 16:19:50,412 - INFO - joeynmt.helpers -       cfg.training.validation_freq : 1000\n",
            "2022-09-16 16:19:50,412 - INFO - joeynmt.helpers -          cfg.training.logging_freq : 100\n",
            "2022-09-16 16:19:50,412 - INFO - joeynmt.helpers -             cfg.training.model_dir : /content/drive/MyDrive/models/v1_enhi_100_transformer/enhi_transformer_t1_least_confidence_interactive\n",
            "2022-09-16 16:19:50,412 - INFO - joeynmt.helpers -             cfg.training.overwrite : False\n",
            "2022-09-16 16:19:50,412 - INFO - joeynmt.helpers -               cfg.training.shuffle : True\n",
            "2022-09-16 16:19:50,412 - INFO - joeynmt.helpers -              cfg.training.use_cuda : True\n",
            "2022-09-16 16:19:50,413 - INFO - joeynmt.helpers -     cfg.training.print_valid_sents : [0, 1, 2, 3]\n",
            "2022-09-16 16:19:50,413 - INFO - joeynmt.helpers -       cfg.training.keep_best_ckpts : 3\n",
            "2022-09-16 16:19:50,413 - INFO - joeynmt.helpers -              cfg.model.initializer : xavier\n",
            "2022-09-16 16:19:50,413 - INFO - joeynmt.helpers -         cfg.model.bias_initializer : zeros\n",
            "2022-09-16 16:19:50,413 - INFO - joeynmt.helpers -                cfg.model.init_gain : 1.0\n",
            "2022-09-16 16:19:50,413 - INFO - joeynmt.helpers -        cfg.model.embed_initializer : xavier\n",
            "2022-09-16 16:19:50,413 - INFO - joeynmt.helpers -          cfg.model.embed_init_gain : 1.0\n",
            "2022-09-16 16:19:50,413 - INFO - joeynmt.helpers -          cfg.model.tied_embeddings : False\n",
            "2022-09-16 16:19:50,413 - INFO - joeynmt.helpers -             cfg.model.tied_softmax : True\n",
            "2022-09-16 16:19:50,414 - INFO - joeynmt.helpers -             cfg.model.encoder.type : transformer\n",
            "2022-09-16 16:19:50,414 - INFO - joeynmt.helpers -       cfg.model.encoder.num_layers : 6\n",
            "2022-09-16 16:19:50,414 - INFO - joeynmt.helpers -        cfg.model.encoder.num_heads : 4\n",
            "2022-09-16 16:19:50,414 - INFO - joeynmt.helpers - cfg.model.encoder.embeddings.embedding_dim : 256\n",
            "2022-09-16 16:19:50,414 - INFO - joeynmt.helpers - cfg.model.encoder.embeddings.scale : True\n",
            "2022-09-16 16:19:50,414 - INFO - joeynmt.helpers - cfg.model.encoder.embeddings.dropout : 0.2\n",
            "2022-09-16 16:19:50,414 - INFO - joeynmt.helpers -      cfg.model.encoder.hidden_size : 256\n",
            "2022-09-16 16:19:50,414 - INFO - joeynmt.helpers -          cfg.model.encoder.ff_size : 1024\n",
            "2022-09-16 16:19:50,415 - INFO - joeynmt.helpers -          cfg.model.encoder.dropout : 0.3\n",
            "2022-09-16 16:19:50,415 - INFO - joeynmt.helpers -       cfg.model.encoder.layer_norm : pre\n",
            "2022-09-16 16:19:50,415 - INFO - joeynmt.helpers -             cfg.model.decoder.type : transformer\n",
            "2022-09-16 16:19:50,415 - INFO - joeynmt.helpers -       cfg.model.decoder.num_layers : 6\n",
            "2022-09-16 16:19:50,415 - INFO - joeynmt.helpers -        cfg.model.decoder.num_heads : 4\n",
            "2022-09-16 16:19:50,415 - INFO - joeynmt.helpers - cfg.model.decoder.embeddings.embedding_dim : 256\n",
            "2022-09-16 16:19:50,415 - INFO - joeynmt.helpers - cfg.model.decoder.embeddings.scale : True\n",
            "2022-09-16 16:19:50,415 - INFO - joeynmt.helpers - cfg.model.decoder.embeddings.dropout : 0.2\n",
            "2022-09-16 16:19:50,416 - INFO - joeynmt.helpers -      cfg.model.decoder.hidden_size : 256\n",
            "2022-09-16 16:19:50,416 - INFO - joeynmt.helpers -          cfg.model.decoder.ff_size : 1024\n",
            "2022-09-16 16:19:50,417 - INFO - joeynmt.helpers -          cfg.model.decoder.dropout : 0.3\n",
            "2022-09-16 16:19:50,417 - INFO - joeynmt.helpers -       cfg.model.decoder.layer_norm : pre\n",
            "2022-09-16 16:19:50,434 - INFO - joeynmt.data - Building tokenizer...\n",
            "2022-09-16 16:19:50,916 - INFO - joeynmt.tokenizers - en tokenizer: SubwordNMTTokenizer(level=bpe, lowercase=False, normalize=False, filter_by_length=(-1, 60), pretokenizer=moses, tokenizer=BPE, separator=@@, dropout=0.0)\n",
            "2022-09-16 16:19:50,916 - INFO - joeynmt.tokenizers - hi tokenizer: SubwordNMTTokenizer(level=bpe, lowercase=False, normalize=False, filter_by_length=(-1, 60), pretokenizer=none, tokenizer=BPE, separator=@@, dropout=0.0)\n",
            "2022-09-16 16:19:50,916 - INFO - joeynmt.data - Loading train set...\n"
          ]
        }
      ]
    },
    {
      "cell_type": "markdown",
      "source": [
        "### Translate to Hindi"
      ],
      "metadata": {
        "id": "hwub18o7GmRV"
      }
    },
    {
      "cell_type": "markdown",
      "metadata": {
        "id": "ripZMg6kCqzd"
      },
      "source": [
        "The `translate` mode is more interactive and takes prompts to translate interactively.\n",
        "\n",
        "Let's Translate a few examples!"
      ]
    },
    {
      "cell_type": "code",
      "execution_count": null,
      "metadata": {
        "id": "KEcyEwpS1Pvi",
        "pycharm": {
          "name": "#%%\n"
        }
      },
      "outputs": [],
      "source": [
        "!python main.py translate {data_dir}/margin_config.yaml --ckpt {model_dir}/enhi_transformer_t1_margin/"
      ]
    },
    {
      "cell_type": "markdown",
      "metadata": {
        "id": "QH5QwafwIYZu"
      },
      "source": [
        "You can also get the n-best hypotheses (up to the size of the beam, in our example 5), not only the highest scoring one. The better your model gets, the more interesting should the alternatives be.\n",
        "\n"
      ]
    },
    {
      "cell_type": "code",
      "execution_count": null,
      "metadata": {
        "id": "GzpnG_3IJwkj"
      },
      "outputs": [],
      "source": [
        "nbest_config = config.replace('n_best: 1', 'n_best: 5')\\\n",
        "  .replace('#return_prob: \"hyp\"', 'return_prob: \"hyp\"')\n",
        "\n",
        "with (Path(data_dir) / \"nbest_config.yaml\").open('w') as f:\n",
        "    f.write(nbest_config)"
      ]
    },
    {
      "cell_type": "code",
      "execution_count": null,
      "metadata": {
        "id": "Nya4YXTGRurr",
        "pycharm": {
          "name": "#%%\n"
        }
      },
      "outputs": [],
      "source": [
        "!python -m joeynmt translate {data_dir}/margin_config.yaml --ckpt {model_dir}/enhi_transformer_t1_margin/"
      ]
    },
    {
      "cell_type": "markdown",
      "source": [
        "## Appendix:\n",
        "\n",
        "### plotting learning curves\n",
        "\n",
        "`plot_validations.py` script will generate validation learning curves.\n",
        "\n",
        "We resumed the training once, so first we concatenate the validations.txt file, and use the concatenated validations.txt for plotting."
      ],
      "metadata": {
        "collapsed": false,
        "pycharm": {
          "name": "#%% md\n"
        },
        "id": "ndDOjBUQOMGq"
      }
    },
    {
      "cell_type": "code",
      "execution_count": null,
      "metadata": {
        "id": "L3t2CWP1lbjX"
      },
      "outputs": [],
      "source": [
        "!cat {model_dir}/validations.txt {model_dir}_resume/validations.txt > {model_dir}_resume/_validations.txt\n",
        "!mv {model_dir}_resume/validations.txt resumed_valudations.txt\n",
        "!mv {model_dir}_resume/_validations.txt {model_dir}_resume/validations.txt"
      ]
    },
    {
      "cell_type": "code",
      "execution_count": null,
      "metadata": {
        "id": "2jsuu4GZK1Yc"
      },
      "outputs": [],
      "source": [
        "!python /content/drive/MyDrive/joeynmt/scripts/plot_validations.py {model_dir}_resume --output_path {model_dir}_resume/plot.png"
      ]
    },
    {
      "cell_type": "code",
      "execution_count": null,
      "metadata": {
        "id": "QmNIN6P58Gjw"
      },
      "outputs": [],
      "source": [
        "from IPython.display import Image\n",
        "\n",
        "Image(f\"{model_dir}_resume/plot.png\")"
      ]
    },
    {
      "cell_type": "code",
      "source": [
        "%cd joeynmt"
      ],
      "metadata": {
        "colab": {
          "base_uri": "https://localhost:8080/"
        },
        "id": "E-AWAA_gmQ6m",
        "outputId": "49ab337a-a0bb-4330-e1c7-1b0da20cafba"
      },
      "execution_count": 5,
      "outputs": [
        {
          "output_type": "stream",
          "name": "stdout",
          "text": [
            "/content/joeynmt\n"
          ]
        }
      ]
    },
    {
      "cell_type": "code",
      "execution_count": 2,
      "metadata": {
        "id": "HzWGusMmOMGq"
      },
      "outputs": [],
      "source": [
        "import numpy as np\n",
        "import matplotlib.pyplot as plt\n",
        "import seaborn as sns\n",
        "import os\n",
        "from pathlib import Path\n",
        "import re, json\n",
        "\n",
        "def get_bleu(data):\n",
        "    lst=re.findall(re.compile('\\(greedy\\)\\sbleu:\\s+\\d+.\\d+'),data)\n",
        "    margin_bleu=[]\n",
        "    for ele in lst:\n",
        "        value=re.search('\\d+.\\d+',ele)[0]\n",
        "        margin_bleu.append(float(value))\n",
        "    return margin_bleu\n",
        "def get_ppl(data):\n",
        "    lst=re.findall(re.compile('ppl:\\s+\\d+.\\d+'),data)\n",
        "    margin_bleu=[]\n",
        "    for ele in lst:\n",
        "        value=re.search('\\d+.\\d+',ele)[0]\n",
        "        margin_bleu.append(float(value))\n",
        "    return margin_bleu\n",
        "def get_steps(data):\n",
        "    pat='Epoch\\s+\\d{1,2},\\s+Step:\\s+\\d+'\n",
        "    lst=re.findall(re.compile(pat),data)\n",
        "    lst=[int(i.split()[-1]) for i in lst]\n",
        "    start,end=lst[0],lst[-1]\n",
        "    print(start,end)\n",
        "    steps=[i for i in range(start,end,1000)]\n",
        "    if end%1000!=0:\n",
        "        steps.append(end)\n",
        "    return steps\n",
        "def get_loss(data):\n",
        "    pat='\\,\\sloss:\\s+\\d+.\\d+'\n",
        "    lst=re.findall(re.compile(pat),data)\n",
        "    lst=[float(i.split()[-1]) for i in lst]\n",
        "    return lst"
      ]
    },
    {
      "cell_type": "code",
      "source": [
        "!rm -rf logs/.ipynb_checkpoints"
      ],
      "metadata": {
        "id": "MmbuRllarn2d"
      },
      "execution_count": 19,
      "outputs": []
    },
    {
      "cell_type": "code",
      "execution_count": 18,
      "metadata": {
        "pycharm": {
          "name": "#%%\n"
        },
        "id": "COvzCGwYOMGq",
        "outputId": "67be4ebe-37f6-48da-b1b7-14545798e451",
        "colab": {
          "base_uri": "https://localhost:8080/"
        }
      },
      "outputs": [
        {
          "output_type": "execute_result",
          "data": {
            "text/plain": [
              "['.ipynb_checkpoints',\n",
              " 'baseline.log',\n",
              " 'least_confidence.log',\n",
              " 'fully_train.log',\n",
              " 'margin.log']"
            ]
          },
          "metadata": {},
          "execution_count": 18
        }
      ],
      "source": [
        "import os\n",
        "os.listdir('logs/')"
      ]
    },
    {
      "cell_type": "code",
      "execution_count": 20,
      "metadata": {
        "pycharm": {
          "name": "#%%\n"
        },
        "id": "ppepuRj7OMGq",
        "outputId": "ad2bbffc-a589-4c6f-f735-ba7ca5eec310",
        "colab": {
          "base_uri": "https://localhost:8080/"
        }
      },
      "outputs": [
        {
          "output_type": "stream",
          "name": "stdout",
          "text": [
            "100 281300\n",
            "baseline.log 283 283 283 283\n",
            "180100 275800\n",
            "least_confidence.log 97 97 97 97\n",
            "180100 279000\n",
            "fully_train.log 99 99 99 99\n",
            "180100 265000\n",
            "margin.log 85 85 85 85\n"
          ]
        }
      ],
      "source": [
        "files=[file for file in os.listdir('logs/') if file.endswith('.log')]\n",
        "\n",
        "all_data=[]\n",
        "for file in files:\n",
        "    value_dict={}\n",
        "    with open('logs/'+file,encoding='utf-8') as f:\n",
        "        data = f.read()\n",
        "    steps=get_steps(data)\n",
        "    score=get_bleu(data)\n",
        "    ppl=get_ppl(data)\n",
        "    loss=get_loss(data)\n",
        "    value_dict[Path(file).stem]={'score':score,'steps':steps,'ppl':ppl,'loss':loss}\n",
        "    print(file,len(score),len(steps),len(ppl),len(loss))\n",
        "    assert len(score)==len(steps)==len(ppl)\n",
        "    with open(Path(file).stem+'_dict.json','w') as f:\n",
        "        json.dump(value_dict,f)\n",
        "    all_data.append(value_dict)"
      ]
    },
    {
      "cell_type": "markdown",
      "metadata": {
        "pycharm": {
          "name": "#%% md\n"
        },
        "id": "XNLJhu4IOMGq"
      },
      "source": [
        "### Plot the bleu and ppl"
      ]
    },
    {
      "cell_type": "code",
      "execution_count": 21,
      "metadata": {
        "id": "neYHaXiIOMGq",
        "outputId": "542c339b-476c-4a97-ff60-ecb990655623",
        "colab": {
          "base_uri": "https://localhost:8080/",
          "height": 525
        }
      },
      "outputs": [
        {
          "output_type": "display_data",
          "data": {
            "text/plain": [
              "<Figure size 1440x720 with 8 Axes>"
            ],
            "image/png": "[encoded data removed]"
          },
          "metadata": {
            "needs_background": "light"
          }
        }
      ],
      "source": [
        "#to Plot the bleu and ppl\n",
        "fig, axs = plt.subplots(2, 4,figsize=(20,10))\n",
        "color=['blue','orange','red','green']\n",
        "for i,value in enumerate(all_data):\n",
        "    key=list(value.keys())[0]\n",
        "    axs[0, i].set_title(key)\n",
        "    axs[0, i].plot(value[key]['steps'],value[key]['score'],'tab:'+color[i])\n",
        "    axs[0, i].set( ylabel='bleu')\n",
        "    axs[1, i].plot(value[key]['steps'],value[key]['ppl'], 'tab:'+color[i])\n",
        "    axs[1, i].set( ylabel='ppl')"
      ]
    },
    {
      "cell_type": "markdown",
      "metadata": {
        "id": "U6kUx49QOMGq"
      },
      "source": [
        "### Plot the Training loss"
      ]
    },
    {
      "cell_type": "code",
      "execution_count": 22,
      "metadata": {
        "id": "Ep-WXnXdOMGq",
        "outputId": "82bfc78e-0a12-4a73-ecfe-39fe84e77a7b",
        "colab": {
          "base_uri": "https://localhost:8080/",
          "height": 293
        }
      },
      "outputs": [
        {
          "output_type": "display_data",
          "data": {
            "text/plain": [
              "<Figure size 1440x360 with 4 Axes>"
            ],
            "image/png": "[encoded data removed]"
          },
          "metadata": {
            "needs_background": "light"
          }
        }
      ],
      "source": [
        "#to Plot the loss function\n",
        "fig, axs = plt.subplots(1, 4,figsize=(20,5))\n",
        "color=['blue','orange','red','green']\n",
        "for i,value in enumerate(all_data):\n",
        "    key=list(value.keys())[0]\n",
        "    axs[i].set_title(key)\n",
        "    axs[i].plot(value[key]['steps'],value[key]['loss'],'tab:'+color[i])\n",
        "    axs[i].set( ylabel='loss')"
      ]
    },
    {
      "cell_type": "markdown",
      "source": [
        "### BLEU Score comparision"
      ],
      "metadata": {
        "id": "pUcXtNggSjTB"
      }
    },
    {
      "cell_type": "code",
      "execution_count": 23,
      "metadata": {
        "id": "c55ddyytOMGq",
        "outputId": "ffa98550-b89e-427f-e3e2-6a22881b922d",
        "colab": {
          "base_uri": "https://localhost:8080/",
          "height": 280
        }
      },
      "outputs": [
        {
          "output_type": "display_data",
          "data": {
            "text/plain": [
              "<Figure size 432x288 with 1 Axes>"
            ],
            "image/png": "[encoded data removed]"
          },
          "metadata": {
            "needs_background": "light"
          }
        }
      ],
      "source": [
        "\n",
        "for i,value in enumerate(all_data):\n",
        "    key=list(value.keys())[0]\n",
        "    if key!='baseline':\n",
        "        plt.plot(value[key]['steps'],value[key]['score'], label = key)\n",
        "    else:\n",
        "        pass\n",
        "\n",
        "plt.legend()\n",
        "plt.ylabel('bleu')\n",
        "plt.xlabel('steps')\n",
        "plt.show()"
      ]
    },
    {
      "cell_type": "markdown",
      "source": [
        "### Sentence length based evaluation of BLEU Score"
      ],
      "metadata": {
        "id": "7E9oGXmUSJuO"
      }
    },
    {
      "cell_type": "code",
      "source": [
        "df_datasets = pd.read_csv(data_dir+\"/final.csv\") "
      ],
      "metadata": {
        "id": "jm4Vrc9FeBbV"
      },
      "execution_count": 11,
      "outputs": []
    },
    {
      "cell_type": "code",
      "source": [
        "df_datasets"
      ],
      "metadata": {
        "colab": {
          "base_uri": "https://localhost:8080/",
          "height": 424
        },
        "id": "gYDzToLAe6S5",
        "outputId": "ec236397-2883-455a-cec5-c3a9c03d6636"
      },
      "execution_count": 12,
      "outputs": [
        {
          "output_type": "execute_result",
          "data": {
            "text/plain": [
              "                                              clean_en_tok  \\\n",
              "0           give your application an accessibility workout   \n",
              "1                        accerciser accessibility explorer   \n",
              "2           the default plugin layout for the bottom panel   \n",
              "3              the default plugin layout for the top panel   \n",
              "4           a list of plugins that are disabled by default   \n",
              "...                                                    ...   \n",
              "1635473  the former deputy chief minister , narhari ami...   \n",
              "1635474  this ministry expansion is being seen as modis...   \n",
              "1635475  he has been travelling around a lot to promote...   \n",
              "1635476  after doing a tour of the five states , he wil...   \n",
              "1635477  in this way he wants to turn guajrat into an i...   \n",
              "\n",
              "                                              clean_hi_tok  en_tok_len  \\\n",
              "0          अपने अनुप्रयोग को पहुंचनीयता व्यायाम का लाभ दें           6   \n",
              "1                          एक्सेर्साइसर पहुंचनीयता अन्वेषक           3   \n",
              "2                     निचले पटल के लिए डिफोल्ट प्लगइन खाका           8   \n",
              "3                      ऊपरी पटल के लिए डिफोल्ट प्लगइन खाका           8   \n",
              "4        उन प्लगइनों की सूची जिन्हें डिफोल्ट रूप से निष...           9   \n",
              "...                                                    ...         ...   \n",
              "1635473  विस चुनाव से पहले कांग्रेस छोड़ भाजपा में आए प...          29   \n",
              "1635474  इस मंत्रिमंडल विस्तार को मोदी की लोकसभा चुनाव ...          14   \n",
              "1635475        वह लंबे समय से राजनीतिक प्रवास कर रहे हैं ।          12   \n",
              "1635476  पांच राज्यों के विस चुनाव बाद और ज्यादा आक्राम...          17   \n",
              "1635477  ऐसे में वह गुजरात के किले को पूरी तरह से अभेद ...          12   \n",
              "\n",
              "         hi_tok_len   type  \n",
              "0                 8  train  \n",
              "1                 3  train  \n",
              "2                 7  train  \n",
              "3                 7  train  \n",
              "4                12  train  \n",
              "...             ...    ...  \n",
              "1635473          22   test  \n",
              "1635474          17   test  \n",
              "1635475           9   test  \n",
              "1635476          16   test  \n",
              "1635477          15   test  \n",
              "\n",
              "[1635478 rows x 5 columns]"
            ],
            "text/html": [
              "\n",
              "  <div id=\"df-cc6534b9-935f-4ca7-b225-8feff9060c62\">\n",
              "    <div class=\"colab-df-container\">\n",
              "      <div>\n",
              "<style scoped>\n",
              "    .dataframe tbody tr th:only-of-type {\n",
              "        vertical-align: middle;\n",
              "    }\n",
              "\n",
              "    .dataframe tbody tr th {\n",
              "        vertical-align: top;\n",
              "    }\n",
              "\n",
              "    .dataframe thead th {\n",
              "        text-align: right;\n",
              "    }\n",
              "</style>\n",
              "<table border=\"1\" class=\"dataframe\">\n",
              "  <thead>\n",
              "    <tr style=\"text-align: right;\">\n",
              "      <th></th>\n",
              "      <th>clean_en_tok</th>\n",
              "      <th>clean_hi_tok</th>\n",
              "      <th>en_tok_len</th>\n",
              "      <th>hi_tok_len</th>\n",
              "      <th>type</th>\n",
              "    </tr>\n",
              "  </thead>\n",
              "  <tbody>\n",
              "    <tr>\n",
              "      <th>0</th>\n",
              "      <td>give your application an accessibility workout</td>\n",
              "      <td>अपने अनुप्रयोग को पहुंचनीयता व्यायाम का लाभ दें</td>\n",
              "      <td>6</td>\n",
              "      <td>8</td>\n",
              "      <td>train</td>\n",
              "    </tr>\n",
              "    <tr>\n",
              "      <th>1</th>\n",
              "      <td>accerciser accessibility explorer</td>\n",
              "      <td>एक्सेर्साइसर पहुंचनीयता अन्वेषक</td>\n",
              "      <td>3</td>\n",
              "      <td>3</td>\n",
              "      <td>train</td>\n",
              "    </tr>\n",
              "    <tr>\n",
              "      <th>2</th>\n",
              "      <td>the default plugin layout for the bottom panel</td>\n",
              "      <td>निचले पटल के लिए डिफोल्ट प्लगइन खाका</td>\n",
              "      <td>8</td>\n",
              "      <td>7</td>\n",
              "      <td>train</td>\n",
              "    </tr>\n",
              "    <tr>\n",
              "      <th>3</th>\n",
              "      <td>the default plugin layout for the top panel</td>\n",
              "      <td>ऊपरी पटल के लिए डिफोल्ट प्लगइन खाका</td>\n",
              "      <td>8</td>\n",
              "      <td>7</td>\n",
              "      <td>train</td>\n",
              "    </tr>\n",
              "    <tr>\n",
              "      <th>4</th>\n",
              "      <td>a list of plugins that are disabled by default</td>\n",
              "      <td>उन प्लगइनों की सूची जिन्हें डिफोल्ट रूप से निष...</td>\n",
              "      <td>9</td>\n",
              "      <td>12</td>\n",
              "      <td>train</td>\n",
              "    </tr>\n",
              "    <tr>\n",
              "      <th>...</th>\n",
              "      <td>...</td>\n",
              "      <td>...</td>\n",
              "      <td>...</td>\n",
              "      <td>...</td>\n",
              "      <td>...</td>\n",
              "    </tr>\n",
              "    <tr>\n",
              "      <th>1635473</th>\n",
              "      <td>the former deputy chief minister , narhari ami...</td>\n",
              "      <td>विस चुनाव से पहले कांग्रेस छोड़ भाजपा में आए प...</td>\n",
              "      <td>29</td>\n",
              "      <td>22</td>\n",
              "      <td>test</td>\n",
              "    </tr>\n",
              "    <tr>\n",
              "      <th>1635474</th>\n",
              "      <td>this ministry expansion is being seen as modis...</td>\n",
              "      <td>इस मंत्रिमंडल विस्तार को मोदी की लोकसभा चुनाव ...</td>\n",
              "      <td>14</td>\n",
              "      <td>17</td>\n",
              "      <td>test</td>\n",
              "    </tr>\n",
              "    <tr>\n",
              "      <th>1635475</th>\n",
              "      <td>he has been travelling around a lot to promote...</td>\n",
              "      <td>वह लंबे समय से राजनीतिक प्रवास कर रहे हैं ।</td>\n",
              "      <td>12</td>\n",
              "      <td>9</td>\n",
              "      <td>test</td>\n",
              "    </tr>\n",
              "    <tr>\n",
              "      <th>1635476</th>\n",
              "      <td>after doing a tour of the five states , he wil...</td>\n",
              "      <td>पांच राज्यों के विस चुनाव बाद और ज्यादा आक्राम...</td>\n",
              "      <td>17</td>\n",
              "      <td>16</td>\n",
              "      <td>test</td>\n",
              "    </tr>\n",
              "    <tr>\n",
              "      <th>1635477</th>\n",
              "      <td>in this way he wants to turn guajrat into an i...</td>\n",
              "      <td>ऐसे में वह गुजरात के किले को पूरी तरह से अभेद ...</td>\n",
              "      <td>12</td>\n",
              "      <td>15</td>\n",
              "      <td>test</td>\n",
              "    </tr>\n",
              "  </tbody>\n",
              "</table>\n",
              "<p>1635478 rows × 5 columns</p>\n",
              "</div>\n",
              "      <button class=\"colab-df-convert\" onclick=\"convertToInteractive('df-cc6534b9-935f-4ca7-b225-8feff9060c62')\"\n",
              "              title=\"Convert this dataframe to an interactive table.\"\n",
              "              style=\"display:none;\">\n",
              "        \n",
              "  <svg xmlns=\"http://www.w3.org/2000/svg\" height=\"24px\"viewBox=\"0 0 24 24\"\n",
              "       width=\"24px\">\n",
              "    <path d=\"M0 0h24v24H0V0z\" fill=\"none\"/>\n",
              "    <path d=\"M18.56 5.44l.94 2.06.94-2.06 2.06-.94-2.06-.94-.94-2.06-.94 2.06-2.06.94zm-11 1L8.5 8.5l.94-2.06 2.06-.94-2.06-.94L8.5 2.5l-.94 2.06-2.06.94zm10 10l.94 2.06.94-2.06 2.06-.94-2.06-.94-.94-2.06-.94 2.06-2.06.94z\"/><path d=\"M17.41 7.96l-1.37-1.37c-.4-.4-.92-.59-1.43-.59-.52 0-1.04.2-1.43.59L10.3 9.45l-7.72 7.72c-.78.78-.78 2.05 0 2.83L4 21.41c.39.39.9.59 1.41.59.51 0 1.02-.2 1.41-.59l7.78-7.78 2.81-2.81c.8-.78.8-2.07 0-2.86zM5.41 20L4 18.59l7.72-7.72 1.47 1.35L5.41 20z\"/>\n",
              "  </svg>\n",
              "      </button>\n",
              "      \n",
              "  <style>\n",
              "    .colab-df-container {\n",
              "      display:flex;\n",
              "      flex-wrap:wrap;\n",
              "      gap: 12px;\n",
              "    }\n",
              "\n",
              "    .colab-df-convert {\n",
              "      background-color: #E8F0FE;\n",
              "      border: none;\n",
              "      border-radius: 50%;\n",
              "      cursor: pointer;\n",
              "      display: none;\n",
              "      fill: #1967D2;\n",
              "      height: 32px;\n",
              "      padding: 0 0 0 0;\n",
              "      width: 32px;\n",
              "    }\n",
              "\n",
              "    .colab-df-convert:hover {\n",
              "      background-color: #E2EBFA;\n",
              "      box-shadow: 0px 1px 2px rgba(60, 64, 67, 0.3), 0px 1px 3px 1px rgba(60, 64, 67, 0.15);\n",
              "      fill: #174EA6;\n",
              "    }\n",
              "\n",
              "    [theme=dark] .colab-df-convert {\n",
              "      background-color: #3B4455;\n",
              "      fill: #D2E3FC;\n",
              "    }\n",
              "\n",
              "    [theme=dark] .colab-df-convert:hover {\n",
              "      background-color: #434B5C;\n",
              "      box-shadow: 0px 1px 3px 1px rgba(0, 0, 0, 0.15);\n",
              "      filter: drop-shadow(0px 1px 2px rgba(0, 0, 0, 0.3));\n",
              "      fill: #FFFFFF;\n",
              "    }\n",
              "  </style>\n",
              "\n",
              "      <script>\n",
              "        const buttonEl =\n",
              "          document.querySelector('#df-cc6534b9-935f-4ca7-b225-8feff9060c62 button.colab-df-convert');\n",
              "        buttonEl.style.display =\n",
              "          google.colab.kernel.accessAllowed ? 'block' : 'none';\n",
              "\n",
              "        async function convertToInteractive(key) {\n",
              "          const element = document.querySelector('#df-cc6534b9-935f-4ca7-b225-8feff9060c62');\n",
              "          const dataTable =\n",
              "            await google.colab.kernel.invokeFunction('convertToInteractive',\n",
              "                                                     [key], {});\n",
              "          if (!dataTable) return;\n",
              "\n",
              "          const docLinkHtml = 'Like what you see? Visit the ' +\n",
              "            '<a target=\"_blank\" href=https://colab.research.google.com/notebooks/data_table.ipynb>data table notebook</a>'\n",
              "            + ' to learn more about interactive tables.';\n",
              "          element.innerHTML = '';\n",
              "          dataTable['output_type'] = 'display_data';\n",
              "          await google.colab.output.renderOutput(dataTable, element);\n",
              "          const docLink = document.createElement('div');\n",
              "          docLink.innerHTML = docLinkHtml;\n",
              "          element.appendChild(docLink);\n",
              "        }\n",
              "      </script>\n",
              "    </div>\n",
              "  </div>\n",
              "  "
            ]
          },
          "metadata": {},
          "execution_count": 12
        }
      ]
    },
    {
      "cell_type": "code",
      "source": [
        "df_datasets_lt_10 = df_datasets[(df_datasets['en_tok_len'] <= 10 ) & (df_datasets['hi_tok_len'] <= 10)]\n",
        "df_datasets_gt_10_lt_60 = df_datasets[((df_datasets['en_tok_len'] > 10 ) & (df_datasets['hi_tok_len'] > 10)) & ((df_datasets['en_tok_len'] <= 60 ) & (df_datasets['hi_tok_len'] <= 60)) ]\n",
        "df_datasets_gt_60 = df_datasets[(df_datasets['en_tok_len'] > 60 ) & (df_datasets['hi_tok_len'] > 60)]\n"
      ],
      "metadata": {
        "id": "Ub8sIwqCecWw"
      },
      "execution_count": 15,
      "outputs": []
    },
    {
      "cell_type": "code",
      "source": [
        "df_datasets_lt_10 = df_datasets_lt_10[(df_datasets_lt_10['type'] == \"test\" )]\n",
        "df_datasets_gt_10_lt_60 = df_datasets_gt_10_lt_60[(df_datasets_gt_10_lt_60['type'] == \"test\" )]\n",
        "df_datasets_gt_60 = df_datasets_gt_60[(df_datasets_gt_60['type'] == \"test\" )]"
      ],
      "metadata": {
        "id": "pnWMFZV2g9-T"
      },
      "execution_count": 18,
      "outputs": []
    },
    {
      "cell_type": "code",
      "source": [
        "df_datasets_lt_10[\"type\"] = \"test_lt_10\"\n",
        "df_datasets_gt_10_lt_60[\"type\"] = \"test_gt_10_lt_60\"\n",
        "df_datasets_gt_60[\"type\"] = \"test_gt_60\""
      ],
      "metadata": {
        "id": "e8xwaHjQhoSu"
      },
      "execution_count": null,
      "outputs": []
    },
    {
      "cell_type": "code",
      "source": [
        "print(df_datasets_lt_10.shape,df_datasets_gt_10_lt_60.shape,df_datasets_gt_60.shape)"
      ],
      "metadata": {
        "colab": {
          "base_uri": "https://localhost:8080/"
        },
        "id": "Errel6rmgv4t",
        "outputId": "2d956212-d27a-4d80-a328-9d7756696f8c"
      },
      "execution_count": 22,
      "outputs": [
        {
          "output_type": "stream",
          "name": "stdout",
          "text": [
            "(9378, 5) (27539, 5) (124, 5)\n"
          ]
        }
      ]
    },
    {
      "cell_type": "code",
      "source": [
        "create_tok_files(df_datasets_lt_10, \"test_lt_10\")\n",
        "create_tok_files(df_datasets_gt_10_lt_60, \"test_gt_10_lt_60\")\n",
        "create_tok_files(df_datasets_gt_60, \"test_gt_60\")"
      ],
      "metadata": {
        "colab": {
          "base_uri": "https://localhost:8080/"
        },
        "id": "gYUHPYTghWxy",
        "outputId": "19c7d929-0189-45eb-99a3-cec94fa22954"
      },
      "execution_count": 27,
      "outputs": [
        {
          "output_type": "stream",
          "name": "stdout",
          "text": [
            "Creating Source token files: /content/drive/MyDrive/data/datasets_enhi_100/test_lt_10_tok.en\n",
            "Creating Target token files: /content/drive/MyDrive/data/datasets_enhi_100/test_lt_10_tok.hi\n",
            "Creating Source token files: /content/drive/MyDrive/data/datasets_enhi_100/test_gt_10_lt_60_tok.en\n",
            "Creating Target token files: /content/drive/MyDrive/data/datasets_enhi_100/test_gt_10_lt_60_tok.hi\n",
            "Creating Source token files: /content/drive/MyDrive/data/datasets_enhi_100/test_gt_60_tok.en\n",
            "Creating Target token files: /content/drive/MyDrive/data/datasets_enhi_100/test_gt_60_tok.hi\n"
          ]
        }
      ]
    },
    {
      "cell_type": "code",
      "source": [
        "config = \" \".join(open(f\"{data_dir}/fully_trained_config.yaml\").readlines())\n",
        "resume_config = config\\\n",
        "  .replace(f'test: \"{data_dir}/test_tok\"', f'test: \"{data_dir}/test_lt_10_tok\"')\n",
        "\n",
        "with open(f\"{data_dir}/fully_trained_config_lt_10_tok.yaml\",'w') as f:\n",
        "    f.write(resume_config)"
      ],
      "metadata": {
        "id": "CT4TJuAtitXx"
      },
      "execution_count": 36,
      "outputs": []
    },
    {
      "cell_type": "code",
      "source": [
        "!python main.py test {data_dir}/fully_trained_config.yaml --ckpt {model_dir}/enhi_transformer_t1_full/278000.ckpt"
      ],
      "metadata": {
        "colab": {
          "base_uri": "https://localhost:8080/"
        },
        "id": "pRfl-29HlLir",
        "outputId": "0179f3f6-99e5-45b8-f6eb-3d3819c7fece"
      },
      "execution_count": 41,
      "outputs": [
        {
          "output_type": "stream",
          "name": "stdout",
          "text": [
            "2022-09-16 09:16:44,320 - INFO - root - Hello! This is Joey-NMT (version 2.0.0).\n",
            "2022-09-16 09:16:44,788 - INFO - joeynmt.data - Building tokenizer...\n",
            "2022-09-16 09:16:45,489 - INFO - joeynmt.tokenizers - en tokenizer: SubwordNMTTokenizer(level=bpe, lowercase=False, normalize=False, filter_by_length=(-1, 60), pretokenizer=moses, tokenizer=BPE, separator=@@, dropout=0.0)\n",
            "2022-09-16 09:16:45,489 - INFO - joeynmt.tokenizers - hi tokenizer: SubwordNMTTokenizer(level=bpe, lowercase=False, normalize=False, filter_by_length=(-1, 60), pretokenizer=none, tokenizer=BPE, separator=@@, dropout=0.0)\n",
            "2022-09-16 09:16:45,489 - INFO - joeynmt.data - Building vocabulary...\n",
            "2022-09-16 09:16:52,456 - INFO - joeynmt.data - Loading dev set...\n",
            "2022-09-16 09:17:00,913 - INFO - joeynmt.data - Loading test set...\n",
            "2022-09-16 09:17:08,154 - INFO - joeynmt.data - Data loaded.\n",
            "2022-09-16 09:17:08,154 - INFO - joeynmt.helpers - Train dataset: None\n",
            "2022-09-16 09:17:08,154 - INFO - joeynmt.helpers - Valid dataset: PlaintextDatasetAC(split=dev, len=40886, src_lang=en, trg_lang=hi, has_trg=True, random_subset=-1)\n",
            "2022-09-16 09:17:08,155 - INFO - joeynmt.helpers -  Test dataset: PlaintextDatasetAC(split=test, len=40888, src_lang=en, trg_lang=hi, has_trg=True, random_subset=-1)\n",
            "2022-09-16 09:17:08,155 - INFO - joeynmt.helpers - First 10 Src tokens: (0) <unk> (1) <pad> (2) <s> (3) </s> (4) the (5) , (6) . (7) of (8) and (9) to\n",
            "2022-09-16 09:17:08,155 - INFO - joeynmt.helpers - First 10 Trg tokens: (0) <unk> (1) <pad> (2) <s> (3) </s> (4) के (5) है (6) । (7) , (8) और (9) में\n",
            "2022-09-16 09:17:08,155 - INFO - joeynmt.helpers - Number of unique Src tokens (vocab_size): 16021\n",
            "2022-09-16 09:17:08,156 - INFO - joeynmt.helpers - Number of unique Trg tokens (vocab_size): 16174\n",
            "2022-09-16 09:17:08,156 - INFO - joeynmt.model - Building an encoder-decoder model...\n",
            "2022-09-16 09:17:08,156 - INFO - joeynmt.model - Pytorch version 1.12.1+cu113 torch.version.cuda 11.3 Cuda available True Cuda devices 1\n",
            "2022-09-16 09:17:08,748 - INFO - joeynmt.model - Enc-dec model built.\n",
            "2022-09-16 09:17:08,753 - INFO - joeynmt.model - Total params: 19302144\n",
            "2022-09-16 09:17:17,102 - INFO - joeynmt.helpers - Load model from /content/drive/MyDrive/models/v1_enhi_100_transformer/enhi_transformer_t1_full/278000.ckpt.\n",
            "2022-09-16 09:17:17,175 - INFO - joeynmt.prediction - Decoding on dev set...\n",
            "2022-09-16 09:17:17,176 - INFO - joeynmt.prediction - Predicting 40886 example(s)... (Beam search with beam_size=5, beam_alpha=1.0, n_best=1, min_output_length=1, max_output_length=130, return_prob='none', generate_unk=True, repetition_penalty=-1, no_repeat_ngram_size=-1)\n",
            "2022-09-16 09:45:46,728 - INFO - joeynmt.metrics - nrefs:1|case:mixed|eff:no|tok:13a|smooth:exp|version:2.2.1\n",
            "2022-09-16 09:45:46,729 - INFO - joeynmt.prediction - Evaluation result (beam search) bleu:  23.44, generation: 1699.7992[sec], evaluation: 9.1752[sec]\n",
            "2022-09-16 09:45:46,736 - INFO - joeynmt.prediction - Decoding on test set...\n",
            "2022-09-16 09:45:46,737 - INFO - joeynmt.prediction - Predicting 40888 example(s)... (Beam search with beam_size=5, beam_alpha=1.0, n_best=1, min_output_length=1, max_output_length=130, return_prob='none', generate_unk=True, repetition_penalty=-1, no_repeat_ngram_size=-1)\n",
            "2022-09-16 10:13:22,150 - INFO - joeynmt.metrics - nrefs:1|case:mixed|eff:no|tok:13a|smooth:exp|version:2.2.1\n",
            "2022-09-16 10:13:22,150 - INFO - joeynmt.prediction - Evaluation result (beam search) bleu:  22.56, generation: 1644.7515[sec], evaluation: 10.1728[sec]\n"
          ]
        }
      ]
    },
    {
      "cell_type": "code",
      "execution_count": 43,
      "metadata": {
        "colab": {
          "base_uri": "https://localhost:8080/",
          "height": 540
        },
        "id": "ydu-NJCMOMGq",
        "outputId": "9ce8d197-5115-42eb-9e1d-2edf2a8e0cc8"
      },
      "outputs": [
        {
          "output_type": "execute_result",
          "data": {
            "text/plain": [
              "<matplotlib.axes._subplots.AxesSubplot at 0x7f4e117a6d10>"
            ]
          },
          "metadata": {},
          "execution_count": 43
        },
        {
          "output_type": "display_data",
          "data": {
            "text/plain": [
              "<Figure size 842.4x595.44 with 1 Axes>"
            ],
            "image/png": "[encoded data removed]"
          },
          "metadata": {}
        }
      ],
      "source": [
        "df_ = pd.DataFrame({'Sentence length': ['sent_len<10', 'sent_len<10', 'sent_len<10', 'sent_len<10', 'sent_len_10_60', 'sent_len_10_60', 'sent_len_10_60', 'sent_len_10_60', 'sent_len>60', 'sent_len>60', 'sent_len>60', 'sent_len>60'],\n",
        "                   'BLEU': [18.06, 22.56, 23.89, 23.78, 18.16, 22.71, 23.90, 23.84, 5.06, 15.80, 19.89, 19.78],\n",
        "                   'model': ['baseline', 'fully_trained', 'margin', 'least_confidence', 'baseline', 'fully_trained', 'margin', 'least_confidence', 'baseline', 'fully_trained', 'margin', 'least_confidence']})\n",
        "\n",
        "#set seaborn plotting aesthetics\n",
        "# sns.set(style='white')\n",
        "\n",
        "#create grouped bar chart\n",
        "import matplotlib.pyplot as plt\n",
        "\n",
        "plt.ylim(0, 30)\n",
        "\n",
        "sns.set(rc={'figure.figsize':(11.7,8.27)})\n",
        "sns.barplot(x='Sentence length', y='BLEU', hue='model', data=df_)"
      ]
    }
  ],
  "metadata": {
    "colab": {
      "collapsed_sections": [
        "CEhTXWMOgGOr",
        "V7dS63JBCx-q",
        "E6mDzMpdxLCR"
      ],
      "provenance": [],
      "toc_visible": true,
      "include_colab_link": true
    },
    "gpuClass": "standard",
    "kernelspec": {
      "display_name": "Python 3",
      "name": "python3"
    },
    "language_info": {
      "name": "python"
    },
    "widgets": {
      "application/vnd.jupyter.widget-state+json": {
        "a972ea5c84304899b1210c718f730cb6": {
          "model_module": "@jupyter-widgets/controls",
          "model_name": "HBoxModel",
          "model_module_version": "1.5.0",
          "state": {
            "_dom_classes": [],
            "_model_module": "@jupyter-widgets/controls",
            "_model_module_version": "1.5.0",
            "_model_name": "HBoxModel",
            "_view_count": null,
            "_view_module": "@jupyter-widgets/controls",
            "_view_module_version": "1.5.0",
            "_view_name": "HBoxView",
            "box_style": "",
            "children": [
              "IPY_MODEL_e2cf4e8861fb4306a3305386e86b8006",
              "IPY_MODEL_97cf2bc593e8480d94f41473ad29cbe2",
              "IPY_MODEL_c2a9d848bc2044679f46a4d5351dba1f"
            ],
            "layout": "IPY_MODEL_4415d4c287044ffbbe6af0566e220d39"
          }
        },
        "e2cf4e8861fb4306a3305386e86b8006": {
          "model_module": "@jupyter-widgets/controls",
          "model_name": "HTMLModel",
          "model_module_version": "1.5.0",
          "state": {
            "_dom_classes": [],
            "_model_module": "@jupyter-widgets/controls",
            "_model_module_version": "1.5.0",
            "_model_name": "HTMLModel",
            "_view_count": null,
            "_view_module": "@jupyter-widgets/controls",
            "_view_module_version": "1.5.0",
            "_view_name": "HTMLView",
            "description": "",
            "description_tooltip": null,
            "layout": "IPY_MODEL_ec5fc286a8824a7caa94dc77c939ee60",
            "placeholder": "​",
            "style": "IPY_MODEL_ee27a32e021b4f2984980ea2b87ee2e8",
            "value": "Pandas Apply: 100%"
          }
        },
        "97cf2bc593e8480d94f41473ad29cbe2": {
          "model_module": "@jupyter-widgets/controls",
          "model_name": "FloatProgressModel",
          "model_module_version": "1.5.0",
          "state": {
            "_dom_classes": [],
            "_model_module": "@jupyter-widgets/controls",
            "_model_module_version": "1.5.0",
            "_model_name": "FloatProgressModel",
            "_view_count": null,
            "_view_module": "@jupyter-widgets/controls",
            "_view_module_version": "1.5.0",
            "_view_name": "ProgressView",
            "bar_style": "success",
            "description": "",
            "description_tooltip": null,
            "layout": "IPY_MODEL_169deff93b2d44699f0541a051b07536",
            "max": 1662110,
            "min": 0,
            "orientation": "horizontal",
            "style": "IPY_MODEL_db7c3905b1c0428f8034f14e2f0a02b7",
            "value": 1662110
          }
        },
        "c2a9d848bc2044679f46a4d5351dba1f": {
          "model_module": "@jupyter-widgets/controls",
          "model_name": "HTMLModel",
          "model_module_version": "1.5.0",
          "state": {
            "_dom_classes": [],
            "_model_module": "@jupyter-widgets/controls",
            "_model_module_version": "1.5.0",
            "_model_name": "HTMLModel",
            "_view_count": null,
            "_view_module": "@jupyter-widgets/controls",
            "_view_module_version": "1.5.0",
            "_view_name": "HTMLView",
            "description": "",
            "description_tooltip": null,
            "layout": "IPY_MODEL_84276cf1ce864a23b5394a28f4efbbd0",
            "placeholder": "​",
            "style": "IPY_MODEL_375b3e743a9b4c3db8f8b7421fd92a99",
            "value": " 1662110/1662110 [00:41&lt;00:00, 30312.12it/s]"
          }
        },
        "4415d4c287044ffbbe6af0566e220d39": {
          "model_module": "@jupyter-widgets/base",
          "model_name": "LayoutModel",
          "model_module_version": "1.2.0",
          "state": {
            "_model_module": "@jupyter-widgets/base",
            "_model_module_version": "1.2.0",
            "_model_name": "LayoutModel",
            "_view_count": null,
            "_view_module": "@jupyter-widgets/base",
            "_view_module_version": "1.2.0",
            "_view_name": "LayoutView",
            "align_content": null,
            "align_items": null,
            "align_self": null,
            "border": null,
            "bottom": null,
            "display": null,
            "flex": null,
            "flex_flow": null,
            "grid_area": null,
            "grid_auto_columns": null,
            "grid_auto_flow": null,
            "grid_auto_rows": null,
            "grid_column": null,
            "grid_gap": null,
            "grid_row": null,
            "grid_template_areas": null,
            "grid_template_columns": null,
            "grid_template_rows": null,
            "height": null,
            "justify_content": null,
            "justify_items": null,
            "left": null,
            "margin": null,
            "max_height": null,
            "max_width": null,
            "min_height": null,
            "min_width": null,
            "object_fit": null,
            "object_position": null,
            "order": null,
            "overflow": null,
            "overflow_x": null,
            "overflow_y": null,
            "padding": null,
            "right": null,
            "top": null,
            "visibility": null,
            "width": null
          }
        },
        "ec5fc286a8824a7caa94dc77c939ee60": {
          "model_module": "@jupyter-widgets/base",
          "model_name": "LayoutModel",
          "model_module_version": "1.2.0",
          "state": {
            "_model_module": "@jupyter-widgets/base",
            "_model_module_version": "1.2.0",
            "_model_name": "LayoutModel",
            "_view_count": null,
            "_view_module": "@jupyter-widgets/base",
            "_view_module_version": "1.2.0",
            "_view_name": "LayoutView",
            "align_content": null,
            "align_items": null,
            "align_self": null,
            "border": null,
            "bottom": null,
            "display": null,
            "flex": null,
            "flex_flow": null,
            "grid_area": null,
            "grid_auto_columns": null,
            "grid_auto_flow": null,
            "grid_auto_rows": null,
            "grid_column": null,
            "grid_gap": null,
            "grid_row": null,
            "grid_template_areas": null,
            "grid_template_columns": null,
            "grid_template_rows": null,
            "height": null,
            "justify_content": null,
            "justify_items": null,
            "left": null,
            "margin": null,
            "max_height": null,
            "max_width": null,
            "min_height": null,
            "min_width": null,
            "object_fit": null,
            "object_position": null,
            "order": null,
            "overflow": null,
            "overflow_x": null,
            "overflow_y": null,
            "padding": null,
            "right": null,
            "top": null,
            "visibility": null,
            "width": null
          }
        },
        "ee27a32e021b4f2984980ea2b87ee2e8": {
          "model_module": "@jupyter-widgets/controls",
          "model_name": "DescriptionStyleModel",
          "model_module_version": "1.5.0",
          "state": {
            "_model_module": "@jupyter-widgets/controls",
            "_model_module_version": "1.5.0",
            "_model_name": "DescriptionStyleModel",
            "_view_count": null,
            "_view_module": "@jupyter-widgets/base",
            "_view_module_version": "1.2.0",
            "_view_name": "StyleView",
            "description_width": ""
          }
        },
        "169deff93b2d44699f0541a051b07536": {
          "model_module": "@jupyter-widgets/base",
          "model_name": "LayoutModel",
          "model_module_version": "1.2.0",
          "state": {
            "_model_module": "@jupyter-widgets/base",
            "_model_module_version": "1.2.0",
            "_model_name": "LayoutModel",
            "_view_count": null,
            "_view_module": "@jupyter-widgets/base",
            "_view_module_version": "1.2.0",
            "_view_name": "LayoutView",
            "align_content": null,
            "align_items": null,
            "align_self": null,
            "border": null,
            "bottom": null,
            "display": null,
            "flex": null,
            "flex_flow": null,
            "grid_area": null,
            "grid_auto_columns": null,
            "grid_auto_flow": null,
            "grid_auto_rows": null,
            "grid_column": null,
            "grid_gap": null,
            "grid_row": null,
            "grid_template_areas": null,
            "grid_template_columns": null,
            "grid_template_rows": null,
            "height": null,
            "justify_content": null,
            "justify_items": null,
            "left": null,
            "margin": null,
            "max_height": null,
            "max_width": null,
            "min_height": null,
            "min_width": null,
            "object_fit": null,
            "object_position": null,
            "order": null,
            "overflow": null,
            "overflow_x": null,
            "overflow_y": null,
            "padding": null,
            "right": null,
            "top": null,
            "visibility": null,
            "width": null
          }
        },
        "db7c3905b1c0428f8034f14e2f0a02b7": {
          "model_module": "@jupyter-widgets/controls",
          "model_name": "ProgressStyleModel",
          "model_module_version": "1.5.0",
          "state": {
            "_model_module": "@jupyter-widgets/controls",
            "_model_module_version": "1.5.0",
            "_model_name": "ProgressStyleModel",
            "_view_count": null,
            "_view_module": "@jupyter-widgets/base",
            "_view_module_version": "1.2.0",
            "_view_name": "StyleView",
            "bar_color": null,
            "description_width": ""
          }
        },
        "84276cf1ce864a23b5394a28f4efbbd0": {
          "model_module": "@jupyter-widgets/base",
          "model_name": "LayoutModel",
          "model_module_version": "1.2.0",
          "state": {
            "_model_module": "@jupyter-widgets/base",
            "_model_module_version": "1.2.0",
            "_model_name": "LayoutModel",
            "_view_count": null,
            "_view_module": "@jupyter-widgets/base",
            "_view_module_version": "1.2.0",
            "_view_name": "LayoutView",
            "align_content": null,
            "align_items": null,
            "align_self": null,
            "border": null,
            "bottom": null,
            "display": null,
            "flex": null,
            "flex_flow": null,
            "grid_area": null,
            "grid_auto_columns": null,
            "grid_auto_flow": null,
            "grid_auto_rows": null,
            "grid_column": null,
            "grid_gap": null,
            "grid_row": null,
            "grid_template_areas": null,
            "grid_template_columns": null,
            "grid_template_rows": null,
            "height": null,
            "justify_content": null,
            "justify_items": null,
            "left": null,
            "margin": null,
            "max_height": null,
            "max_width": null,
            "min_height": null,
            "min_width": null,
            "object_fit": null,
            "object_position": null,
            "order": null,
            "overflow": null,
            "overflow_x": null,
            "overflow_y": null,
            "padding": null,
            "right": null,
            "top": null,
            "visibility": null,
            "width": null
          }
        },
        "375b3e743a9b4c3db8f8b7421fd92a99": {
          "model_module": "@jupyter-widgets/controls",
          "model_name": "DescriptionStyleModel",
          "model_module_version": "1.5.0",
          "state": {
            "_model_module": "@jupyter-widgets/controls",
            "_model_module_version": "1.5.0",
            "_model_name": "DescriptionStyleModel",
            "_view_count": null,
            "_view_module": "@jupyter-widgets/base",
            "_view_module_version": "1.2.0",
            "_view_name": "StyleView",
            "description_width": ""
          }
        },
        "9d0776b505194144b704b78fbb51d4f4": {
          "model_module": "@jupyter-widgets/controls",
          "model_name": "HBoxModel",
          "model_module_version": "1.5.0",
          "state": {
            "_dom_classes": [],
            "_model_module": "@jupyter-widgets/controls",
            "_model_module_version": "1.5.0",
            "_model_name": "HBoxModel",
            "_view_count": null,
            "_view_module": "@jupyter-widgets/controls",
            "_view_module_version": "1.5.0",
            "_view_name": "HBoxView",
            "box_style": "",
            "children": [
              "IPY_MODEL_414d2706332b47a880b24d3fc81a02f5",
              "IPY_MODEL_600dab68be5f49f5a3480706ede58c78",
              "IPY_MODEL_0cd17d6d60b841ac90da1d32c4b99451"
            ],
            "layout": "IPY_MODEL_432d95bd747b4a38ada75de9dd984a0b"
          }
        },
        "414d2706332b47a880b24d3fc81a02f5": {
          "model_module": "@jupyter-widgets/controls",
          "model_name": "HTMLModel",
          "model_module_version": "1.5.0",
          "state": {
            "_dom_classes": [],
            "_model_module": "@jupyter-widgets/controls",
            "_model_module_version": "1.5.0",
            "_model_name": "HTMLModel",
            "_view_count": null,
            "_view_module": "@jupyter-widgets/controls",
            "_view_module_version": "1.5.0",
            "_view_name": "HTMLView",
            "description": "",
            "description_tooltip": null,
            "layout": "IPY_MODEL_e7da82d5c0324f959234fe0e7875140c",
            "placeholder": "​",
            "style": "IPY_MODEL_dfea3f2b6b9748948f256f873f8d64c5",
            "value": "Pandas Apply: 100%"
          }
        },
        "600dab68be5f49f5a3480706ede58c78": {
          "model_module": "@jupyter-widgets/controls",
          "model_name": "FloatProgressModel",
          "model_module_version": "1.5.0",
          "state": {
            "_dom_classes": [],
            "_model_module": "@jupyter-widgets/controls",
            "_model_module_version": "1.5.0",
            "_model_name": "FloatProgressModel",
            "_view_count": null,
            "_view_module": "@jupyter-widgets/controls",
            "_view_module_version": "1.5.0",
            "_view_name": "ProgressView",
            "bar_style": "success",
            "description": "",
            "description_tooltip": null,
            "layout": "IPY_MODEL_57b27a733b1543d5a863d133d32edb27",
            "max": 1662110,
            "min": 0,
            "orientation": "horizontal",
            "style": "IPY_MODEL_b365d00535ce43bca792dfc14ad2efe1",
            "value": 1662110
          }
        },
        "0cd17d6d60b841ac90da1d32c4b99451": {
          "model_module": "@jupyter-widgets/controls",
          "model_name": "HTMLModel",
          "model_module_version": "1.5.0",
          "state": {
            "_dom_classes": [],
            "_model_module": "@jupyter-widgets/controls",
            "_model_module_version": "1.5.0",
            "_model_name": "HTMLModel",
            "_view_count": null,
            "_view_module": "@jupyter-widgets/controls",
            "_view_module_version": "1.5.0",
            "_view_name": "HTMLView",
            "description": "",
            "description_tooltip": null,
            "layout": "IPY_MODEL_25be3fa9982e4c179358954e5e5d5ca4",
            "placeholder": "​",
            "style": "IPY_MODEL_05c175521df34330a7ebb3ea3a41bd81",
            "value": " 1662110/1662110 [00:46&lt;00:00, 27157.31it/s]"
          }
        },
        "432d95bd747b4a38ada75de9dd984a0b": {
          "model_module": "@jupyter-widgets/base",
          "model_name": "LayoutModel",
          "model_module_version": "1.2.0",
          "state": {
            "_model_module": "@jupyter-widgets/base",
            "_model_module_version": "1.2.0",
            "_model_name": "LayoutModel",
            "_view_count": null,
            "_view_module": "@jupyter-widgets/base",
            "_view_module_version": "1.2.0",
            "_view_name": "LayoutView",
            "align_content": null,
            "align_items": null,
            "align_self": null,
            "border": null,
            "bottom": null,
            "display": null,
            "flex": null,
            "flex_flow": null,
            "grid_area": null,
            "grid_auto_columns": null,
            "grid_auto_flow": null,
            "grid_auto_rows": null,
            "grid_column": null,
            "grid_gap": null,
            "grid_row": null,
            "grid_template_areas": null,
            "grid_template_columns": null,
            "grid_template_rows": null,
            "height": null,
            "justify_content": null,
            "justify_items": null,
            "left": null,
            "margin": null,
            "max_height": null,
            "max_width": null,
            "min_height": null,
            "min_width": null,
            "object_fit": null,
            "object_position": null,
            "order": null,
            "overflow": null,
            "overflow_x": null,
            "overflow_y": null,
            "padding": null,
            "right": null,
            "top": null,
            "visibility": null,
            "width": null
          }
        },
        "e7da82d5c0324f959234fe0e7875140c": {
          "model_module": "@jupyter-widgets/base",
          "model_name": "LayoutModel",
          "model_module_version": "1.2.0",
          "state": {
            "_model_module": "@jupyter-widgets/base",
            "_model_module_version": "1.2.0",
            "_model_name": "LayoutModel",
            "_view_count": null,
            "_view_module": "@jupyter-widgets/base",
            "_view_module_version": "1.2.0",
            "_view_name": "LayoutView",
            "align_content": null,
            "align_items": null,
            "align_self": null,
            "border": null,
            "bottom": null,
            "display": null,
            "flex": null,
            "flex_flow": null,
            "grid_area": null,
            "grid_auto_columns": null,
            "grid_auto_flow": null,
            "grid_auto_rows": null,
            "grid_column": null,
            "grid_gap": null,
            "grid_row": null,
            "grid_template_areas": null,
            "grid_template_columns": null,
            "grid_template_rows": null,
            "height": null,
            "justify_content": null,
            "justify_items": null,
            "left": null,
            "margin": null,
            "max_height": null,
            "max_width": null,
            "min_height": null,
            "min_width": null,
            "object_fit": null,
            "object_position": null,
            "order": null,
            "overflow": null,
            "overflow_x": null,
            "overflow_y": null,
            "padding": null,
            "right": null,
            "top": null,
            "visibility": null,
            "width": null
          }
        },
        "dfea3f2b6b9748948f256f873f8d64c5": {
          "model_module": "@jupyter-widgets/controls",
          "model_name": "DescriptionStyleModel",
          "model_module_version": "1.5.0",
          "state": {
            "_model_module": "@jupyter-widgets/controls",
            "_model_module_version": "1.5.0",
            "_model_name": "DescriptionStyleModel",
            "_view_count": null,
            "_view_module": "@jupyter-widgets/base",
            "_view_module_version": "1.2.0",
            "_view_name": "StyleView",
            "description_width": ""
          }
        },
        "57b27a733b1543d5a863d133d32edb27": {
          "model_module": "@jupyter-widgets/base",
          "model_name": "LayoutModel",
          "model_module_version": "1.2.0",
          "state": {
            "_model_module": "@jupyter-widgets/base",
            "_model_module_version": "1.2.0",
            "_model_name": "LayoutModel",
            "_view_count": null,
            "_view_module": "@jupyter-widgets/base",
            "_view_module_version": "1.2.0",
            "_view_name": "LayoutView",
            "align_content": null,
            "align_items": null,
            "align_self": null,
            "border": null,
            "bottom": null,
            "display": null,
            "flex": null,
            "flex_flow": null,
            "grid_area": null,
            "grid_auto_columns": null,
            "grid_auto_flow": null,
            "grid_auto_rows": null,
            "grid_column": null,
            "grid_gap": null,
            "grid_row": null,
            "grid_template_areas": null,
            "grid_template_columns": null,
            "grid_template_rows": null,
            "height": null,
            "justify_content": null,
            "justify_items": null,
            "left": null,
            "margin": null,
            "max_height": null,
            "max_width": null,
            "min_height": null,
            "min_width": null,
            "object_fit": null,
            "object_position": null,
            "order": null,
            "overflow": null,
            "overflow_x": null,
            "overflow_y": null,
            "padding": null,
            "right": null,
            "top": null,
            "visibility": null,
            "width": null
          }
        },
        "b365d00535ce43bca792dfc14ad2efe1": {
          "model_module": "@jupyter-widgets/controls",
          "model_name": "ProgressStyleModel",
          "model_module_version": "1.5.0",
          "state": {
            "_model_module": "@jupyter-widgets/controls",
            "_model_module_version": "1.5.0",
            "_model_name": "ProgressStyleModel",
            "_view_count": null,
            "_view_module": "@jupyter-widgets/base",
            "_view_module_version": "1.2.0",
            "_view_name": "StyleView",
            "bar_color": null,
            "description_width": ""
          }
        },
        "25be3fa9982e4c179358954e5e5d5ca4": {
          "model_module": "@jupyter-widgets/base",
          "model_name": "LayoutModel",
          "model_module_version": "1.2.0",
          "state": {
            "_model_module": "@jupyter-widgets/base",
            "_model_module_version": "1.2.0",
            "_model_name": "LayoutModel",
            "_view_count": null,
            "_view_module": "@jupyter-widgets/base",
            "_view_module_version": "1.2.0",
            "_view_name": "LayoutView",
            "align_content": null,
            "align_items": null,
            "align_self": null,
            "border": null,
            "bottom": null,
            "display": null,
            "flex": null,
            "flex_flow": null,
            "grid_area": null,
            "grid_auto_columns": null,
            "grid_auto_flow": null,
            "grid_auto_rows": null,
            "grid_column": null,
            "grid_gap": null,
            "grid_row": null,
            "grid_template_areas": null,
            "grid_template_columns": null,
            "grid_template_rows": null,
            "height": null,
            "justify_content": null,
            "justify_items": null,
            "left": null,
            "margin": null,
            "max_height": null,
            "max_width": null,
            "min_height": null,
            "min_width": null,
            "object_fit": null,
            "object_position": null,
            "order": null,
            "overflow": null,
            "overflow_x": null,
            "overflow_y": null,
            "padding": null,
            "right": null,
            "top": null,
            "visibility": null,
            "width": null
          }
        },
        "05c175521df34330a7ebb3ea3a41bd81": {
          "model_module": "@jupyter-widgets/controls",
          "model_name": "DescriptionStyleModel",
          "model_module_version": "1.5.0",
          "state": {
            "_model_module": "@jupyter-widgets/controls",
            "_model_module_version": "1.5.0",
            "_model_name": "DescriptionStyleModel",
            "_view_count": null,
            "_view_module": "@jupyter-widgets/base",
            "_view_module_version": "1.2.0",
            "_view_name": "StyleView",
            "description_width": ""
          }
        },
        "c66e28c8de7149d29089618032b580b1": {
          "model_module": "@jupyter-widgets/controls",
          "model_name": "HBoxModel",
          "model_module_version": "1.5.0",
          "state": {
            "_dom_classes": [],
            "_model_module": "@jupyter-widgets/controls",
            "_model_module_version": "1.5.0",
            "_model_name": "HBoxModel",
            "_view_count": null,
            "_view_module": "@jupyter-widgets/controls",
            "_view_module_version": "1.5.0",
            "_view_name": "HBoxView",
            "box_style": "",
            "children": [
              "IPY_MODEL_7ca6fa39ef1645e2b8af2c37e75dd5ae",
              "IPY_MODEL_cc4ab6748d824c25bb6915cf0823c179",
              "IPY_MODEL_5bdecdce643744d19558271c827d7bd2"
            ],
            "layout": "IPY_MODEL_a3968fa25bd345c7ac3ff4518fb86024"
          }
        },
        "7ca6fa39ef1645e2b8af2c37e75dd5ae": {
          "model_module": "@jupyter-widgets/controls",
          "model_name": "HTMLModel",
          "model_module_version": "1.5.0",
          "state": {
            "_dom_classes": [],
            "_model_module": "@jupyter-widgets/controls",
            "_model_module_version": "1.5.0",
            "_model_name": "HTMLModel",
            "_view_count": null,
            "_view_module": "@jupyter-widgets/controls",
            "_view_module_version": "1.5.0",
            "_view_name": "HTMLView",
            "description": "",
            "description_tooltip": null,
            "layout": "IPY_MODEL_ba8159d06eb7465aabf0058741f21478",
            "placeholder": "​",
            "style": "IPY_MODEL_a44268166a4d4d1c8fa2170398848bf7",
            "value": "Pandas Apply: 100%"
          }
        },
        "cc4ab6748d824c25bb6915cf0823c179": {
          "model_module": "@jupyter-widgets/controls",
          "model_name": "FloatProgressModel",
          "model_module_version": "1.5.0",
          "state": {
            "_dom_classes": [],
            "_model_module": "@jupyter-widgets/controls",
            "_model_module_version": "1.5.0",
            "_model_name": "FloatProgressModel",
            "_view_count": null,
            "_view_module": "@jupyter-widgets/controls",
            "_view_module_version": "1.5.0",
            "_view_name": "ProgressView",
            "bar_style": "success",
            "description": "",
            "description_tooltip": null,
            "layout": "IPY_MODEL_701f9b3fc57f46159127738af146c64a",
            "max": 1662110,
            "min": 0,
            "orientation": "horizontal",
            "style": "IPY_MODEL_161ecf38a6b1403282c79c87f9e4ba6a",
            "value": 1662110
          }
        },
        "5bdecdce643744d19558271c827d7bd2": {
          "model_module": "@jupyter-widgets/controls",
          "model_name": "HTMLModel",
          "model_module_version": "1.5.0",
          "state": {
            "_dom_classes": [],
            "_model_module": "@jupyter-widgets/controls",
            "_model_module_version": "1.5.0",
            "_model_name": "HTMLModel",
            "_view_count": null,
            "_view_module": "@jupyter-widgets/controls",
            "_view_module_version": "1.5.0",
            "_view_name": "HTMLView",
            "description": "",
            "description_tooltip": null,
            "layout": "IPY_MODEL_3b168b2bcd454a02b2ad89ee781886a1",
            "placeholder": "​",
            "style": "IPY_MODEL_7038513ef7c9424cba9000524a12990b",
            "value": " 1662110/1662110 [03:39&lt;00:00, 6068.16it/s]"
          }
        },
        "a3968fa25bd345c7ac3ff4518fb86024": {
          "model_module": "@jupyter-widgets/base",
          "model_name": "LayoutModel",
          "model_module_version": "1.2.0",
          "state": {
            "_model_module": "@jupyter-widgets/base",
            "_model_module_version": "1.2.0",
            "_model_name": "LayoutModel",
            "_view_count": null,
            "_view_module": "@jupyter-widgets/base",
            "_view_module_version": "1.2.0",
            "_view_name": "LayoutView",
            "align_content": null,
            "align_items": null,
            "align_self": null,
            "border": null,
            "bottom": null,
            "display": null,
            "flex": null,
            "flex_flow": null,
            "grid_area": null,
            "grid_auto_columns": null,
            "grid_auto_flow": null,
            "grid_auto_rows": null,
            "grid_column": null,
            "grid_gap": null,
            "grid_row": null,
            "grid_template_areas": null,
            "grid_template_columns": null,
            "grid_template_rows": null,
            "height": null,
            "justify_content": null,
            "justify_items": null,
            "left": null,
            "margin": null,
            "max_height": null,
            "max_width": null,
            "min_height": null,
            "min_width": null,
            "object_fit": null,
            "object_position": null,
            "order": null,
            "overflow": null,
            "overflow_x": null,
            "overflow_y": null,
            "padding": null,
            "right": null,
            "top": null,
            "visibility": null,
            "width": null
          }
        },
        "ba8159d06eb7465aabf0058741f21478": {
          "model_module": "@jupyter-widgets/base",
          "model_name": "LayoutModel",
          "model_module_version": "1.2.0",
          "state": {
            "_model_module": "@jupyter-widgets/base",
            "_model_module_version": "1.2.0",
            "_model_name": "LayoutModel",
            "_view_count": null,
            "_view_module": "@jupyter-widgets/base",
            "_view_module_version": "1.2.0",
            "_view_name": "LayoutView",
            "align_content": null,
            "align_items": null,
            "align_self": null,
            "border": null,
            "bottom": null,
            "display": null,
            "flex": null,
            "flex_flow": null,
            "grid_area": null,
            "grid_auto_columns": null,
            "grid_auto_flow": null,
            "grid_auto_rows": null,
            "grid_column": null,
            "grid_gap": null,
            "grid_row": null,
            "grid_template_areas": null,
            "grid_template_columns": null,
            "grid_template_rows": null,
            "height": null,
            "justify_content": null,
            "justify_items": null,
            "left": null,
            "margin": null,
            "max_height": null,
            "max_width": null,
            "min_height": null,
            "min_width": null,
            "object_fit": null,
            "object_position": null,
            "order": null,
            "overflow": null,
            "overflow_x": null,
            "overflow_y": null,
            "padding": null,
            "right": null,
            "top": null,
            "visibility": null,
            "width": null
          }
        },
        "a44268166a4d4d1c8fa2170398848bf7": {
          "model_module": "@jupyter-widgets/controls",
          "model_name": "DescriptionStyleModel",
          "model_module_version": "1.5.0",
          "state": {
            "_model_module": "@jupyter-widgets/controls",
            "_model_module_version": "1.5.0",
            "_model_name": "DescriptionStyleModel",
            "_view_count": null,
            "_view_module": "@jupyter-widgets/base",
            "_view_module_version": "1.2.0",
            "_view_name": "StyleView",
            "description_width": ""
          }
        },
        "701f9b3fc57f46159127738af146c64a": {
          "model_module": "@jupyter-widgets/base",
          "model_name": "LayoutModel",
          "model_module_version": "1.2.0",
          "state": {
            "_model_module": "@jupyter-widgets/base",
            "_model_module_version": "1.2.0",
            "_model_name": "LayoutModel",
            "_view_count": null,
            "_view_module": "@jupyter-widgets/base",
            "_view_module_version": "1.2.0",
            "_view_name": "LayoutView",
            "align_content": null,
            "align_items": null,
            "align_self": null,
            "border": null,
            "bottom": null,
            "display": null,
            "flex": null,
            "flex_flow": null,
            "grid_area": null,
            "grid_auto_columns": null,
            "grid_auto_flow": null,
            "grid_auto_rows": null,
            "grid_column": null,
            "grid_gap": null,
            "grid_row": null,
            "grid_template_areas": null,
            "grid_template_columns": null,
            "grid_template_rows": null,
            "height": null,
            "justify_content": null,
            "justify_items": null,
            "left": null,
            "margin": null,
            "max_height": null,
            "max_width": null,
            "min_height": null,
            "min_width": null,
            "object_fit": null,
            "object_position": null,
            "order": null,
            "overflow": null,
            "overflow_x": null,
            "overflow_y": null,
            "padding": null,
            "right": null,
            "top": null,
            "visibility": null,
            "width": null
          }
        },
        "161ecf38a6b1403282c79c87f9e4ba6a": {
          "model_module": "@jupyter-widgets/controls",
          "model_name": "ProgressStyleModel",
          "model_module_version": "1.5.0",
          "state": {
            "_model_module": "@jupyter-widgets/controls",
            "_model_module_version": "1.5.0",
            "_model_name": "ProgressStyleModel",
            "_view_count": null,
            "_view_module": "@jupyter-widgets/base",
            "_view_module_version": "1.2.0",
            "_view_name": "StyleView",
            "bar_color": null,
            "description_width": ""
          }
        },
        "3b168b2bcd454a02b2ad89ee781886a1": {
          "model_module": "@jupyter-widgets/base",
          "model_name": "LayoutModel",
          "model_module_version": "1.2.0",
          "state": {
            "_model_module": "@jupyter-widgets/base",
            "_model_module_version": "1.2.0",
            "_model_name": "LayoutModel",
            "_view_count": null,
            "_view_module": "@jupyter-widgets/base",
            "_view_module_version": "1.2.0",
            "_view_name": "LayoutView",
            "align_content": null,
            "align_items": null,
            "align_self": null,
            "border": null,
            "bottom": null,
            "display": null,
            "flex": null,
            "flex_flow": null,
            "grid_area": null,
            "grid_auto_columns": null,
            "grid_auto_flow": null,
            "grid_auto_rows": null,
            "grid_column": null,
            "grid_gap": null,
            "grid_row": null,
            "grid_template_areas": null,
            "grid_template_columns": null,
            "grid_template_rows": null,
            "height": null,
            "justify_content": null,
            "justify_items": null,
            "left": null,
            "margin": null,
            "max_height": null,
            "max_width": null,
            "min_height": null,
            "min_width": null,
            "object_fit": null,
            "object_position": null,
            "order": null,
            "overflow": null,
            "overflow_x": null,
            "overflow_y": null,
            "padding": null,
            "right": null,
            "top": null,
            "visibility": null,
            "width": null
          }
        },
        "7038513ef7c9424cba9000524a12990b": {
          "model_module": "@jupyter-widgets/controls",
          "model_name": "DescriptionStyleModel",
          "model_module_version": "1.5.0",
          "state": {
            "_model_module": "@jupyter-widgets/controls",
            "_model_module_version": "1.5.0",
            "_model_name": "DescriptionStyleModel",
            "_view_count": null,
            "_view_module": "@jupyter-widgets/base",
            "_view_module_version": "1.2.0",
            "_view_name": "StyleView",
            "description_width": ""
          }
        },
        "1efa978fac3c49b9b0d78a9bd0264b03": {
          "model_module": "@jupyter-widgets/controls",
          "model_name": "HBoxModel",
          "model_module_version": "1.5.0",
          "state": {
            "_dom_classes": [],
            "_model_module": "@jupyter-widgets/controls",
            "_model_module_version": "1.5.0",
            "_model_name": "HBoxModel",
            "_view_count": null,
            "_view_module": "@jupyter-widgets/controls",
            "_view_module_version": "1.5.0",
            "_view_name": "HBoxView",
            "box_style": "",
            "children": [
              "IPY_MODEL_e72d9b6ed307412a9acf9a80ac771feb",
              "IPY_MODEL_63f490da6a9b49f3820576184d9e52f9",
              "IPY_MODEL_08e550a6bc5a40cf9a27f8083622f319"
            ],
            "layout": "IPY_MODEL_c123d35ad312476c85762547608068d7"
          }
        },
        "e72d9b6ed307412a9acf9a80ac771feb": {
          "model_module": "@jupyter-widgets/controls",
          "model_name": "HTMLModel",
          "model_module_version": "1.5.0",
          "state": {
            "_dom_classes": [],
            "_model_module": "@jupyter-widgets/controls",
            "_model_module_version": "1.5.0",
            "_model_name": "HTMLModel",
            "_view_count": null,
            "_view_module": "@jupyter-widgets/controls",
            "_view_module_version": "1.5.0",
            "_view_name": "HTMLView",
            "description": "",
            "description_tooltip": null,
            "layout": "IPY_MODEL_177046079e0b44beba40a5b0ef92a39c",
            "placeholder": "​",
            "style": "IPY_MODEL_28c1c82d4d984c189a5ca06a7febaa86",
            "value": "Pandas Apply: 100%"
          }
        },
        "63f490da6a9b49f3820576184d9e52f9": {
          "model_module": "@jupyter-widgets/controls",
          "model_name": "FloatProgressModel",
          "model_module_version": "1.5.0",
          "state": {
            "_dom_classes": [],
            "_model_module": "@jupyter-widgets/controls",
            "_model_module_version": "1.5.0",
            "_model_name": "FloatProgressModel",
            "_view_count": null,
            "_view_module": "@jupyter-widgets/controls",
            "_view_module_version": "1.5.0",
            "_view_name": "ProgressView",
            "bar_style": "success",
            "description": "",
            "description_tooltip": null,
            "layout": "IPY_MODEL_21a7d09f584a4cd5b2a1e69c4343e232",
            "max": 1662110,
            "min": 0,
            "orientation": "horizontal",
            "style": "IPY_MODEL_0386a8bcc1274420bc54e5e9c077d168",
            "value": 1662110
          }
        },
        "08e550a6bc5a40cf9a27f8083622f319": {
          "model_module": "@jupyter-widgets/controls",
          "model_name": "HTMLModel",
          "model_module_version": "1.5.0",
          "state": {
            "_dom_classes": [],
            "_model_module": "@jupyter-widgets/controls",
            "_model_module_version": "1.5.0",
            "_model_name": "HTMLModel",
            "_view_count": null,
            "_view_module": "@jupyter-widgets/controls",
            "_view_module_version": "1.5.0",
            "_view_name": "HTMLView",
            "description": "",
            "description_tooltip": null,
            "layout": "IPY_MODEL_327183ce38e14007a2394dee3668d317",
            "placeholder": "​",
            "style": "IPY_MODEL_527c9aac5aa54f82abd4f419e58418b7",
            "value": " 1662110/1662110 [00:28&lt;00:00, 47355.27it/s]"
          }
        },
        "c123d35ad312476c85762547608068d7": {
          "model_module": "@jupyter-widgets/base",
          "model_name": "LayoutModel",
          "model_module_version": "1.2.0",
          "state": {
            "_model_module": "@jupyter-widgets/base",
            "_model_module_version": "1.2.0",
            "_model_name": "LayoutModel",
            "_view_count": null,
            "_view_module": "@jupyter-widgets/base",
            "_view_module_version": "1.2.0",
            "_view_name": "LayoutView",
            "align_content": null,
            "align_items": null,
            "align_self": null,
            "border": null,
            "bottom": null,
            "display": null,
            "flex": null,
            "flex_flow": null,
            "grid_area": null,
            "grid_auto_columns": null,
            "grid_auto_flow": null,
            "grid_auto_rows": null,
            "grid_column": null,
            "grid_gap": null,
            "grid_row": null,
            "grid_template_areas": null,
            "grid_template_columns": null,
            "grid_template_rows": null,
            "height": null,
            "justify_content": null,
            "justify_items": null,
            "left": null,
            "margin": null,
            "max_height": null,
            "max_width": null,
            "min_height": null,
            "min_width": null,
            "object_fit": null,
            "object_position": null,
            "order": null,
            "overflow": null,
            "overflow_x": null,
            "overflow_y": null,
            "padding": null,
            "right": null,
            "top": null,
            "visibility": null,
            "width": null
          }
        },
        "177046079e0b44beba40a5b0ef92a39c": {
          "model_module": "@jupyter-widgets/base",
          "model_name": "LayoutModel",
          "model_module_version": "1.2.0",
          "state": {
            "_model_module": "@jupyter-widgets/base",
            "_model_module_version": "1.2.0",
            "_model_name": "LayoutModel",
            "_view_count": null,
            "_view_module": "@jupyter-widgets/base",
            "_view_module_version": "1.2.0",
            "_view_name": "LayoutView",
            "align_content": null,
            "align_items": null,
            "align_self": null,
            "border": null,
            "bottom": null,
            "display": null,
            "flex": null,
            "flex_flow": null,
            "grid_area": null,
            "grid_auto_columns": null,
            "grid_auto_flow": null,
            "grid_auto_rows": null,
            "grid_column": null,
            "grid_gap": null,
            "grid_row": null,
            "grid_template_areas": null,
            "grid_template_columns": null,
            "grid_template_rows": null,
            "height": null,
            "justify_content": null,
            "justify_items": null,
            "left": null,
            "margin": null,
            "max_height": null,
            "max_width": null,
            "min_height": null,
            "min_width": null,
            "object_fit": null,
            "object_position": null,
            "order": null,
            "overflow": null,
            "overflow_x": null,
            "overflow_y": null,
            "padding": null,
            "right": null,
            "top": null,
            "visibility": null,
            "width": null
          }
        },
        "28c1c82d4d984c189a5ca06a7febaa86": {
          "model_module": "@jupyter-widgets/controls",
          "model_name": "DescriptionStyleModel",
          "model_module_version": "1.5.0",
          "state": {
            "_model_module": "@jupyter-widgets/controls",
            "_model_module_version": "1.5.0",
            "_model_name": "DescriptionStyleModel",
            "_view_count": null,
            "_view_module": "@jupyter-widgets/base",
            "_view_module_version": "1.2.0",
            "_view_name": "StyleView",
            "description_width": ""
          }
        },
        "21a7d09f584a4cd5b2a1e69c4343e232": {
          "model_module": "@jupyter-widgets/base",
          "model_name": "LayoutModel",
          "model_module_version": "1.2.0",
          "state": {
            "_model_module": "@jupyter-widgets/base",
            "_model_module_version": "1.2.0",
            "_model_name": "LayoutModel",
            "_view_count": null,
            "_view_module": "@jupyter-widgets/base",
            "_view_module_version": "1.2.0",
            "_view_name": "LayoutView",
            "align_content": null,
            "align_items": null,
            "align_self": null,
            "border": null,
            "bottom": null,
            "display": null,
            "flex": null,
            "flex_flow": null,
            "grid_area": null,
            "grid_auto_columns": null,
            "grid_auto_flow": null,
            "grid_auto_rows": null,
            "grid_column": null,
            "grid_gap": null,
            "grid_row": null,
            "grid_template_areas": null,
            "grid_template_columns": null,
            "grid_template_rows": null,
            "height": null,
            "justify_content": null,
            "justify_items": null,
            "left": null,
            "margin": null,
            "max_height": null,
            "max_width": null,
            "min_height": null,
            "min_width": null,
            "object_fit": null,
            "object_position": null,
            "order": null,
            "overflow": null,
            "overflow_x": null,
            "overflow_y": null,
            "padding": null,
            "right": null,
            "top": null,
            "visibility": null,
            "width": null
          }
        },
        "0386a8bcc1274420bc54e5e9c077d168": {
          "model_module": "@jupyter-widgets/controls",
          "model_name": "ProgressStyleModel",
          "model_module_version": "1.5.0",
          "state": {
            "_model_module": "@jupyter-widgets/controls",
            "_model_module_version": "1.5.0",
            "_model_name": "ProgressStyleModel",
            "_view_count": null,
            "_view_module": "@jupyter-widgets/base",
            "_view_module_version": "1.2.0",
            "_view_name": "StyleView",
            "bar_color": null,
            "description_width": ""
          }
        },
        "327183ce38e14007a2394dee3668d317": {
          "model_module": "@jupyter-widgets/base",
          "model_name": "LayoutModel",
          "model_module_version": "1.2.0",
          "state": {
            "_model_module": "@jupyter-widgets/base",
            "_model_module_version": "1.2.0",
            "_model_name": "LayoutModel",
            "_view_count": null,
            "_view_module": "@jupyter-widgets/base",
            "_view_module_version": "1.2.0",
            "_view_name": "LayoutView",
            "align_content": null,
            "align_items": null,
            "align_self": null,
            "border": null,
            "bottom": null,
            "display": null,
            "flex": null,
            "flex_flow": null,
            "grid_area": null,
            "grid_auto_columns": null,
            "grid_auto_flow": null,
            "grid_auto_rows": null,
            "grid_column": null,
            "grid_gap": null,
            "grid_row": null,
            "grid_template_areas": null,
            "grid_template_columns": null,
            "grid_template_rows": null,
            "height": null,
            "justify_content": null,
            "justify_items": null,
            "left": null,
            "margin": null,
            "max_height": null,
            "max_width": null,
            "min_height": null,
            "min_width": null,
            "object_fit": null,
            "object_position": null,
            "order": null,
            "overflow": null,
            "overflow_x": null,
            "overflow_y": null,
            "padding": null,
            "right": null,
            "top": null,
            "visibility": null,
            "width": null
          }
        },
        "527c9aac5aa54f82abd4f419e58418b7": {
          "model_module": "@jupyter-widgets/controls",
          "model_name": "DescriptionStyleModel",
          "model_module_version": "1.5.0",
          "state": {
            "_model_module": "@jupyter-widgets/controls",
            "_model_module_version": "1.5.0",
            "_model_name": "DescriptionStyleModel",
            "_view_count": null,
            "_view_module": "@jupyter-widgets/base",
            "_view_module_version": "1.2.0",
            "_view_name": "StyleView",
            "description_width": ""
          }
        },
        "3ef991b281db41ec994a7505466d32f9": {
          "model_module": "@jupyter-widgets/controls",
          "model_name": "HBoxModel",
          "model_module_version": "1.5.0",
          "state": {
            "_dom_classes": [],
            "_model_module": "@jupyter-widgets/controls",
            "_model_module_version": "1.5.0",
            "_model_name": "HBoxModel",
            "_view_count": null,
            "_view_module": "@jupyter-widgets/controls",
            "_view_module_version": "1.5.0",
            "_view_name": "HBoxView",
            "box_style": "",
            "children": [
              "IPY_MODEL_f910e2b46cff4388b5a81712f6d4ffcc",
              "IPY_MODEL_6a90e242a3104727b18ca2cc8ba7dbcc",
              "IPY_MODEL_ea72e01028f94af687c785ab5d4bc006"
            ],
            "layout": "IPY_MODEL_d31522f72ce041f1930c4532009d325f"
          }
        },
        "f910e2b46cff4388b5a81712f6d4ffcc": {
          "model_module": "@jupyter-widgets/controls",
          "model_name": "HTMLModel",
          "model_module_version": "1.5.0",
          "state": {
            "_dom_classes": [],
            "_model_module": "@jupyter-widgets/controls",
            "_model_module_version": "1.5.0",
            "_model_name": "HTMLModel",
            "_view_count": null,
            "_view_module": "@jupyter-widgets/controls",
            "_view_module_version": "1.5.0",
            "_view_name": "HTMLView",
            "description": "",
            "description_tooltip": null,
            "layout": "IPY_MODEL_3ae445f3b4a64e7c9974bd101559669c",
            "placeholder": "​",
            "style": "IPY_MODEL_cdefde89cbf140f38216bd9ba9724c62",
            "value": "Pandas Apply: 100%"
          }
        },
        "6a90e242a3104727b18ca2cc8ba7dbcc": {
          "model_module": "@jupyter-widgets/controls",
          "model_name": "FloatProgressModel",
          "model_module_version": "1.5.0",
          "state": {
            "_dom_classes": [],
            "_model_module": "@jupyter-widgets/controls",
            "_model_module_version": "1.5.0",
            "_model_name": "FloatProgressModel",
            "_view_count": null,
            "_view_module": "@jupyter-widgets/controls",
            "_view_module_version": "1.5.0",
            "_view_name": "ProgressView",
            "bar_style": "success",
            "description": "",
            "description_tooltip": null,
            "layout": "IPY_MODEL_2be1326d2dcc46a9b2ccdda3ee2bbd5a",
            "max": 1662110,
            "min": 0,
            "orientation": "horizontal",
            "style": "IPY_MODEL_cf6335df88404aff9b97021c41787717",
            "value": 1662110
          }
        },
        "ea72e01028f94af687c785ab5d4bc006": {
          "model_module": "@jupyter-widgets/controls",
          "model_name": "HTMLModel",
          "model_module_version": "1.5.0",
          "state": {
            "_dom_classes": [],
            "_model_module": "@jupyter-widgets/controls",
            "_model_module_version": "1.5.0",
            "_model_name": "HTMLModel",
            "_view_count": null,
            "_view_module": "@jupyter-widgets/controls",
            "_view_module_version": "1.5.0",
            "_view_name": "HTMLView",
            "description": "",
            "description_tooltip": null,
            "layout": "IPY_MODEL_ebef3c3379c3407c9680fd2ff2a9257a",
            "placeholder": "​",
            "style": "IPY_MODEL_1a8b7b9c1f2b4f168767094bee977802",
            "value": " 1662110/1662110 [00:05&lt;00:00, 267539.09it/s]"
          }
        },
        "d31522f72ce041f1930c4532009d325f": {
          "model_module": "@jupyter-widgets/base",
          "model_name": "LayoutModel",
          "model_module_version": "1.2.0",
          "state": {
            "_model_module": "@jupyter-widgets/base",
            "_model_module_version": "1.2.0",
            "_model_name": "LayoutModel",
            "_view_count": null,
            "_view_module": "@jupyter-widgets/base",
            "_view_module_version": "1.2.0",
            "_view_name": "LayoutView",
            "align_content": null,
            "align_items": null,
            "align_self": null,
            "border": null,
            "bottom": null,
            "display": null,
            "flex": null,
            "flex_flow": null,
            "grid_area": null,
            "grid_auto_columns": null,
            "grid_auto_flow": null,
            "grid_auto_rows": null,
            "grid_column": null,
            "grid_gap": null,
            "grid_row": null,
            "grid_template_areas": null,
            "grid_template_columns": null,
            "grid_template_rows": null,
            "height": null,
            "justify_content": null,
            "justify_items": null,
            "left": null,
            "margin": null,
            "max_height": null,
            "max_width": null,
            "min_height": null,
            "min_width": null,
            "object_fit": null,
            "object_position": null,
            "order": null,
            "overflow": null,
            "overflow_x": null,
            "overflow_y": null,
            "padding": null,
            "right": null,
            "top": null,
            "visibility": null,
            "width": null
          }
        },
        "3ae445f3b4a64e7c9974bd101559669c": {
          "model_module": "@jupyter-widgets/base",
          "model_name": "LayoutModel",
          "model_module_version": "1.2.0",
          "state": {
            "_model_module": "@jupyter-widgets/base",
            "_model_module_version": "1.2.0",
            "_model_name": "LayoutModel",
            "_view_count": null,
            "_view_module": "@jupyter-widgets/base",
            "_view_module_version": "1.2.0",
            "_view_name": "LayoutView",
            "align_content": null,
            "align_items": null,
            "align_self": null,
            "border": null,
            "bottom": null,
            "display": null,
            "flex": null,
            "flex_flow": null,
            "grid_area": null,
            "grid_auto_columns": null,
            "grid_auto_flow": null,
            "grid_auto_rows": null,
            "grid_column": null,
            "grid_gap": null,
            "grid_row": null,
            "grid_template_areas": null,
            "grid_template_columns": null,
            "grid_template_rows": null,
            "height": null,
            "justify_content": null,
            "justify_items": null,
            "left": null,
            "margin": null,
            "max_height": null,
            "max_width": null,
            "min_height": null,
            "min_width": null,
            "object_fit": null,
            "object_position": null,
            "order": null,
            "overflow": null,
            "overflow_x": null,
            "overflow_y": null,
            "padding": null,
            "right": null,
            "top": null,
            "visibility": null,
            "width": null
          }
        },
        "cdefde89cbf140f38216bd9ba9724c62": {
          "model_module": "@jupyter-widgets/controls",
          "model_name": "DescriptionStyleModel",
          "model_module_version": "1.5.0",
          "state": {
            "_model_module": "@jupyter-widgets/controls",
            "_model_module_version": "1.5.0",
            "_model_name": "DescriptionStyleModel",
            "_view_count": null,
            "_view_module": "@jupyter-widgets/base",
            "_view_module_version": "1.2.0",
            "_view_name": "StyleView",
            "description_width": ""
          }
        },
        "2be1326d2dcc46a9b2ccdda3ee2bbd5a": {
          "model_module": "@jupyter-widgets/base",
          "model_name": "LayoutModel",
          "model_module_version": "1.2.0",
          "state": {
            "_model_module": "@jupyter-widgets/base",
            "_model_module_version": "1.2.0",
            "_model_name": "LayoutModel",
            "_view_count": null,
            "_view_module": "@jupyter-widgets/base",
            "_view_module_version": "1.2.0",
            "_view_name": "LayoutView",
            "align_content": null,
            "align_items": null,
            "align_self": null,
            "border": null,
            "bottom": null,
            "display": null,
            "flex": null,
            "flex_flow": null,
            "grid_area": null,
            "grid_auto_columns": null,
            "grid_auto_flow": null,
            "grid_auto_rows": null,
            "grid_column": null,
            "grid_gap": null,
            "grid_row": null,
            "grid_template_areas": null,
            "grid_template_columns": null,
            "grid_template_rows": null,
            "height": null,
            "justify_content": null,
            "justify_items": null,
            "left": null,
            "margin": null,
            "max_height": null,
            "max_width": null,
            "min_height": null,
            "min_width": null,
            "object_fit": null,
            "object_position": null,
            "order": null,
            "overflow": null,
            "overflow_x": null,
            "overflow_y": null,
            "padding": null,
            "right": null,
            "top": null,
            "visibility": null,
            "width": null
          }
        },
        "cf6335df88404aff9b97021c41787717": {
          "model_module": "@jupyter-widgets/controls",
          "model_name": "ProgressStyleModel",
          "model_module_version": "1.5.0",
          "state": {
            "_model_module": "@jupyter-widgets/controls",
            "_model_module_version": "1.5.0",
            "_model_name": "ProgressStyleModel",
            "_view_count": null,
            "_view_module": "@jupyter-widgets/base",
            "_view_module_version": "1.2.0",
            "_view_name": "StyleView",
            "bar_color": null,
            "description_width": ""
          }
        },
        "ebef3c3379c3407c9680fd2ff2a9257a": {
          "model_module": "@jupyter-widgets/base",
          "model_name": "LayoutModel",
          "model_module_version": "1.2.0",
          "state": {
            "_model_module": "@jupyter-widgets/base",
            "_model_module_version": "1.2.0",
            "_model_name": "LayoutModel",
            "_view_count": null,
            "_view_module": "@jupyter-widgets/base",
            "_view_module_version": "1.2.0",
            "_view_name": "LayoutView",
            "align_content": null,
            "align_items": null,
            "align_self": null,
            "border": null,
            "bottom": null,
            "display": null,
            "flex": null,
            "flex_flow": null,
            "grid_area": null,
            "grid_auto_columns": null,
            "grid_auto_flow": null,
            "grid_auto_rows": null,
            "grid_column": null,
            "grid_gap": null,
            "grid_row": null,
            "grid_template_areas": null,
            "grid_template_columns": null,
            "grid_template_rows": null,
            "height": null,
            "justify_content": null,
            "justify_items": null,
            "left": null,
            "margin": null,
            "max_height": null,
            "max_width": null,
            "min_height": null,
            "min_width": null,
            "object_fit": null,
            "object_position": null,
            "order": null,
            "overflow": null,
            "overflow_x": null,
            "overflow_y": null,
            "padding": null,
            "right": null,
            "top": null,
            "visibility": null,
            "width": null
          }
        },
        "1a8b7b9c1f2b4f168767094bee977802": {
          "model_module": "@jupyter-widgets/controls",
          "model_name": "DescriptionStyleModel",
          "model_module_version": "1.5.0",
          "state": {
            "_model_module": "@jupyter-widgets/controls",
            "_model_module_version": "1.5.0",
            "_model_name": "DescriptionStyleModel",
            "_view_count": null,
            "_view_module": "@jupyter-widgets/base",
            "_view_module_version": "1.2.0",
            "_view_name": "StyleView",
            "description_width": ""
          }
        },
        "d2cb15a05ae74592bc8be1e44eed1e14": {
          "model_module": "@jupyter-widgets/controls",
          "model_name": "HBoxModel",
          "model_module_version": "1.5.0",
          "state": {
            "_dom_classes": [],
            "_model_module": "@jupyter-widgets/controls",
            "_model_module_version": "1.5.0",
            "_model_name": "HBoxModel",
            "_view_count": null,
            "_view_module": "@jupyter-widgets/controls",
            "_view_module_version": "1.5.0",
            "_view_name": "HBoxView",
            "box_style": "",
            "children": [
              "IPY_MODEL_8f55d218b71a4d7a9b8daf61bc7d63ee",
              "IPY_MODEL_eabdaa545d9b4eae8b462fb91db166e7",
              "IPY_MODEL_62fa062754364662911373616417f4f7"
            ],
            "layout": "IPY_MODEL_c1b0eec32d864a649c4dcc6574ac68bb"
          }
        },
        "8f55d218b71a4d7a9b8daf61bc7d63ee": {
          "model_module": "@jupyter-widgets/controls",
          "model_name": "HTMLModel",
          "model_module_version": "1.5.0",
          "state": {
            "_dom_classes": [],
            "_model_module": "@jupyter-widgets/controls",
            "_model_module_version": "1.5.0",
            "_model_name": "HTMLModel",
            "_view_count": null,
            "_view_module": "@jupyter-widgets/controls",
            "_view_module_version": "1.5.0",
            "_view_name": "HTMLView",
            "description": "",
            "description_tooltip": null,
            "layout": "IPY_MODEL_ad08643122d0447e88d0f1b231e981c5",
            "placeholder": "​",
            "style": "IPY_MODEL_7cc94f228566493a9a7e8610059b5e87",
            "value": "Pandas Apply: 100%"
          }
        },
        "eabdaa545d9b4eae8b462fb91db166e7": {
          "model_module": "@jupyter-widgets/controls",
          "model_name": "FloatProgressModel",
          "model_module_version": "1.5.0",
          "state": {
            "_dom_classes": [],
            "_model_module": "@jupyter-widgets/controls",
            "_model_module_version": "1.5.0",
            "_model_name": "FloatProgressModel",
            "_view_count": null,
            "_view_module": "@jupyter-widgets/controls",
            "_view_module_version": "1.5.0",
            "_view_name": "ProgressView",
            "bar_style": "success",
            "description": "",
            "description_tooltip": null,
            "layout": "IPY_MODEL_25a9f7b7665542fb9553ac23f6ac2ae0",
            "max": 1662110,
            "min": 0,
            "orientation": "horizontal",
            "style": "IPY_MODEL_a365059af0f14642ad76a12b16186c83",
            "value": 1662110
          }
        },
        "62fa062754364662911373616417f4f7": {
          "model_module": "@jupyter-widgets/controls",
          "model_name": "HTMLModel",
          "model_module_version": "1.5.0",
          "state": {
            "_dom_classes": [],
            "_model_module": "@jupyter-widgets/controls",
            "_model_module_version": "1.5.0",
            "_model_name": "HTMLModel",
            "_view_count": null,
            "_view_module": "@jupyter-widgets/controls",
            "_view_module_version": "1.5.0",
            "_view_name": "HTMLView",
            "description": "",
            "description_tooltip": null,
            "layout": "IPY_MODEL_2ee90ac192ae4c959bb4ce11c3946437",
            "placeholder": "​",
            "style": "IPY_MODEL_77536aa6bbf240dba6ec77d19cd4abd5",
            "value": " 1662110/1662110 [00:06&lt;00:00, 213634.54it/s]"
          }
        },
        "c1b0eec32d864a649c4dcc6574ac68bb": {
          "model_module": "@jupyter-widgets/base",
          "model_name": "LayoutModel",
          "model_module_version": "1.2.0",
          "state": {
            "_model_module": "@jupyter-widgets/base",
            "_model_module_version": "1.2.0",
            "_model_name": "LayoutModel",
            "_view_count": null,
            "_view_module": "@jupyter-widgets/base",
            "_view_module_version": "1.2.0",
            "_view_name": "LayoutView",
            "align_content": null,
            "align_items": null,
            "align_self": null,
            "border": null,
            "bottom": null,
            "display": null,
            "flex": null,
            "flex_flow": null,
            "grid_area": null,
            "grid_auto_columns": null,
            "grid_auto_flow": null,
            "grid_auto_rows": null,
            "grid_column": null,
            "grid_gap": null,
            "grid_row": null,
            "grid_template_areas": null,
            "grid_template_columns": null,
            "grid_template_rows": null,
            "height": null,
            "justify_content": null,
            "justify_items": null,
            "left": null,
            "margin": null,
            "max_height": null,
            "max_width": null,
            "min_height": null,
            "min_width": null,
            "object_fit": null,
            "object_position": null,
            "order": null,
            "overflow": null,
            "overflow_x": null,
            "overflow_y": null,
            "padding": null,
            "right": null,
            "top": null,
            "visibility": null,
            "width": null
          }
        },
        "ad08643122d0447e88d0f1b231e981c5": {
          "model_module": "@jupyter-widgets/base",
          "model_name": "LayoutModel",
          "model_module_version": "1.2.0",
          "state": {
            "_model_module": "@jupyter-widgets/base",
            "_model_module_version": "1.2.0",
            "_model_name": "LayoutModel",
            "_view_count": null,
            "_view_module": "@jupyter-widgets/base",
            "_view_module_version": "1.2.0",
            "_view_name": "LayoutView",
            "align_content": null,
            "align_items": null,
            "align_self": null,
            "border": null,
            "bottom": null,
            "display": null,
            "flex": null,
            "flex_flow": null,
            "grid_area": null,
            "grid_auto_columns": null,
            "grid_auto_flow": null,
            "grid_auto_rows": null,
            "grid_column": null,
            "grid_gap": null,
            "grid_row": null,
            "grid_template_areas": null,
            "grid_template_columns": null,
            "grid_template_rows": null,
            "height": null,
            "justify_content": null,
            "justify_items": null,
            "left": null,
            "margin": null,
            "max_height": null,
            "max_width": null,
            "min_height": null,
            "min_width": null,
            "object_fit": null,
            "object_position": null,
            "order": null,
            "overflow": null,
            "overflow_x": null,
            "overflow_y": null,
            "padding": null,
            "right": null,
            "top": null,
            "visibility": null,
            "width": null
          }
        },
        "7cc94f228566493a9a7e8610059b5e87": {
          "model_module": "@jupyter-widgets/controls",
          "model_name": "DescriptionStyleModel",
          "model_module_version": "1.5.0",
          "state": {
            "_model_module": "@jupyter-widgets/controls",
            "_model_module_version": "1.5.0",
            "_model_name": "DescriptionStyleModel",
            "_view_count": null,
            "_view_module": "@jupyter-widgets/base",
            "_view_module_version": "1.2.0",
            "_view_name": "StyleView",
            "description_width": ""
          }
        },
        "25a9f7b7665542fb9553ac23f6ac2ae0": {
          "model_module": "@jupyter-widgets/base",
          "model_name": "LayoutModel",
          "model_module_version": "1.2.0",
          "state": {
            "_model_module": "@jupyter-widgets/base",
            "_model_module_version": "1.2.0",
            "_model_name": "LayoutModel",
            "_view_count": null,
            "_view_module": "@jupyter-widgets/base",
            "_view_module_version": "1.2.0",
            "_view_name": "LayoutView",
            "align_content": null,
            "align_items": null,
            "align_self": null,
            "border": null,
            "bottom": null,
            "display": null,
            "flex": null,
            "flex_flow": null,
            "grid_area": null,
            "grid_auto_columns": null,
            "grid_auto_flow": null,
            "grid_auto_rows": null,
            "grid_column": null,
            "grid_gap": null,
            "grid_row": null,
            "grid_template_areas": null,
            "grid_template_columns": null,
            "grid_template_rows": null,
            "height": null,
            "justify_content": null,
            "justify_items": null,
            "left": null,
            "margin": null,
            "max_height": null,
            "max_width": null,
            "min_height": null,
            "min_width": null,
            "object_fit": null,
            "object_position": null,
            "order": null,
            "overflow": null,
            "overflow_x": null,
            "overflow_y": null,
            "padding": null,
            "right": null,
            "top": null,
            "visibility": null,
            "width": null
          }
        },
        "a365059af0f14642ad76a12b16186c83": {
          "model_module": "@jupyter-widgets/controls",
          "model_name": "ProgressStyleModel",
          "model_module_version": "1.5.0",
          "state": {
            "_model_module": "@jupyter-widgets/controls",
            "_model_module_version": "1.5.0",
            "_model_name": "ProgressStyleModel",
            "_view_count": null,
            "_view_module": "@jupyter-widgets/base",
            "_view_module_version": "1.2.0",
            "_view_name": "StyleView",
            "bar_color": null,
            "description_width": ""
          }
        },
        "2ee90ac192ae4c959bb4ce11c3946437": {
          "model_module": "@jupyter-widgets/base",
          "model_name": "LayoutModel",
          "model_module_version": "1.2.0",
          "state": {
            "_model_module": "@jupyter-widgets/base",
            "_model_module_version": "1.2.0",
            "_model_name": "LayoutModel",
            "_view_count": null,
            "_view_module": "@jupyter-widgets/base",
            "_view_module_version": "1.2.0",
            "_view_name": "LayoutView",
            "align_content": null,
            "align_items": null,
            "align_self": null,
            "border": null,
            "bottom": null,
            "display": null,
            "flex": null,
            "flex_flow": null,
            "grid_area": null,
            "grid_auto_columns": null,
            "grid_auto_flow": null,
            "grid_auto_rows": null,
            "grid_column": null,
            "grid_gap": null,
            "grid_row": null,
            "grid_template_areas": null,
            "grid_template_columns": null,
            "grid_template_rows": null,
            "height": null,
            "justify_content": null,
            "justify_items": null,
            "left": null,
            "margin": null,
            "max_height": null,
            "max_width": null,
            "min_height": null,
            "min_width": null,
            "object_fit": null,
            "object_position": null,
            "order": null,
            "overflow": null,
            "overflow_x": null,
            "overflow_y": null,
            "padding": null,
            "right": null,
            "top": null,
            "visibility": null,
            "width": null
          }
        },
        "77536aa6bbf240dba6ec77d19cd4abd5": {
          "model_module": "@jupyter-widgets/controls",
          "model_name": "DescriptionStyleModel",
          "model_module_version": "1.5.0",
          "state": {
            "_model_module": "@jupyter-widgets/controls",
            "_model_module_version": "1.5.0",
            "_model_name": "DescriptionStyleModel",
            "_view_count": null,
            "_view_module": "@jupyter-widgets/base",
            "_view_module_version": "1.2.0",
            "_view_name": "StyleView",
            "description_width": ""
          }
        }
      }
    },
    "accelerator": "GPU"
  },
  "nbformat": 4,
  "nbformat_minor": 0
}